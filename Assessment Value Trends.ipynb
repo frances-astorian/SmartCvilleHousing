{
 "cells": [
  {
   "cell_type": "markdown",
   "metadata": {},
   "source": [
    "# Charlottesville Residential Real Estate Assessment Analysis"
   ]
  },
  {
   "cell_type": "code",
   "execution_count": 1,
   "metadata": {},
   "outputs": [],
   "source": [
    "import pandas as pd\n",
    "import numpy as np\n",
    "import seaborn as sns\n",
    "import matplotlib.pyplot as plt\n",
    "import matplotlib.dates as mdates\n",
    "import folium\n",
    "import string\n",
    "from folium import plugins\n",
    "%matplotlib inline\n",
    "from tqdm import tqdm\n",
    "\n",
    "import json\n",
    "from datetime import datetime\n",
    "import plotly.express as px\n",
    "\n",
    "sns.set()\n",
    "plt.rcParams[\"figure.figsize\"] = (20,7)"
   ]
  },
  {
   "cell_type": "code",
   "execution_count": 2,
   "metadata": {},
   "outputs": [
    {
     "data": {
      "text/html": [
       "<div>\n",
       "<style scoped>\n",
       "    .dataframe tbody tr th:only-of-type {\n",
       "        vertical-align: middle;\n",
       "    }\n",
       "\n",
       "    .dataframe tbody tr th {\n",
       "        vertical-align: top;\n",
       "    }\n",
       "\n",
       "    .dataframe thead th {\n",
       "        text-align: right;\n",
       "    }\n",
       "</style>\n",
       "<table border=\"1\" class=\"dataframe\">\n",
       "  <thead>\n",
       "    <tr style=\"text-align: right;\">\n",
       "      <th></th>\n",
       "      <th>RecordID_Int</th>\n",
       "      <th>ParcelNumber</th>\n",
       "      <th>LandValue</th>\n",
       "      <th>ImprovementValue</th>\n",
       "      <th>TotalValue</th>\n",
       "      <th>TaxYear</th>\n",
       "      <th>Unit</th>\n",
       "      <th>Address</th>\n",
       "      <th>Latitudue</th>\n",
       "      <th>Longitude</th>\n",
       "    </tr>\n",
       "  </thead>\n",
       "  <tbody>\n",
       "    <tr>\n",
       "      <th>0</th>\n",
       "      <td>1</td>\n",
       "      <td>010001000</td>\n",
       "      <td>35643600</td>\n",
       "      <td>152423500</td>\n",
       "      <td>188067100</td>\n",
       "      <td>2020</td>\n",
       "      <td>NaN</td>\n",
       "      <td>1117 EMMET ST N</td>\n",
       "      <td>38.054409</td>\n",
       "      <td>-78.499656</td>\n",
       "    </tr>\n",
       "    <tr>\n",
       "      <th>1</th>\n",
       "      <td>2</td>\n",
       "      <td>010001000</td>\n",
       "      <td>29172900</td>\n",
       "      <td>149711300</td>\n",
       "      <td>178884200</td>\n",
       "      <td>2019</td>\n",
       "      <td>NaN</td>\n",
       "      <td>1117 EMMET ST N</td>\n",
       "      <td>38.054409</td>\n",
       "      <td>-78.499656</td>\n",
       "    </tr>\n",
       "    <tr>\n",
       "      <th>2</th>\n",
       "      <td>3</td>\n",
       "      <td>010001000</td>\n",
       "      <td>25005400</td>\n",
       "      <td>146802400</td>\n",
       "      <td>171807800</td>\n",
       "      <td>2018</td>\n",
       "      <td>NaN</td>\n",
       "      <td>1117 EMMET ST N</td>\n",
       "      <td>38.054409</td>\n",
       "      <td>-78.499656</td>\n",
       "    </tr>\n",
       "    <tr>\n",
       "      <th>3</th>\n",
       "      <td>4</td>\n",
       "      <td>010001000</td>\n",
       "      <td>24449500</td>\n",
       "      <td>142363700</td>\n",
       "      <td>166813200</td>\n",
       "      <td>2017</td>\n",
       "      <td>NaN</td>\n",
       "      <td>1117 EMMET ST N</td>\n",
       "      <td>38.054409</td>\n",
       "      <td>-78.499656</td>\n",
       "    </tr>\n",
       "    <tr>\n",
       "      <th>4</th>\n",
       "      <td>5</td>\n",
       "      <td>010001000</td>\n",
       "      <td>22848500</td>\n",
       "      <td>100504900</td>\n",
       "      <td>123353400</td>\n",
       "      <td>2016</td>\n",
       "      <td>NaN</td>\n",
       "      <td>1117 EMMET ST N</td>\n",
       "      <td>38.054409</td>\n",
       "      <td>-78.499656</td>\n",
       "    </tr>\n",
       "  </tbody>\n",
       "</table>\n",
       "</div>"
      ],
      "text/plain": [
       "   RecordID_Int ParcelNumber  LandValue  ImprovementValue  TotalValue  \\\n",
       "0             1    010001000   35643600         152423500   188067100   \n",
       "1             2    010001000   29172900         149711300   178884200   \n",
       "2             3    010001000   25005400         146802400   171807800   \n",
       "3             4    010001000   24449500         142363700   166813200   \n",
       "4             5    010001000   22848500         100504900   123353400   \n",
       "\n",
       "   TaxYear Unit          Address  Latitudue  Longitude  \n",
       "0     2020  NaN  1117 EMMET ST N  38.054409 -78.499656  \n",
       "1     2019  NaN  1117 EMMET ST N  38.054409 -78.499656  \n",
       "2     2018  NaN  1117 EMMET ST N  38.054409 -78.499656  \n",
       "3     2017  NaN  1117 EMMET ST N  38.054409 -78.499656  \n",
       "4     2016  NaN  1117 EMMET ST N  38.054409 -78.499656  "
      ]
     },
     "execution_count": 2,
     "metadata": {},
     "output_type": "execute_result"
    }
   ],
   "source": [
    "ass = pd.read_csv('csv/AllAssessments.csv')\n",
    "ass['Address']=ass['StreetNumber'] +' '+ass['StreetName']\n",
    "del ass['StreetNumber']\n",
    "del ass['StreetName']\n",
    "coors = pd.read_csv('csv/coordinates.csv')\n",
    "coors.columns=['Address','Latitudue','Longitude']\n",
    "ass=ass.join(coors.set_index('Address'), on='Address', how='left')\n",
    "res = pd.read_csv('csv/Residential.csv')\n",
    "res['Address']=res['StreetNumber'] +' '+res['StreetName']\n",
    "ass=ass[ass.TaxYear >= 2000]\n",
    "ass.head()"
   ]
  },
  {
   "cell_type": "code",
   "execution_count": 3,
   "metadata": {},
   "outputs": [],
   "source": [
    "res_ass = ass.merge(res[['Address','UseCode','YearBuilt']], left_on='Address', right_on='Address', how='right').dropna(subset=['TotalValue']).drop_duplicates(keep='first')\n",
    "neighs = pd.read_csv('csv/neighborhood_sf.csv')\n",
    "n_ass=res_ass.join(neighs[['Address','Neighborhood']].set_index('Address'), on='Address', how='left').dropna(subset=['Neighborhood'])"
   ]
  },
  {
   "cell_type": "code",
   "execution_count": 4,
   "metadata": {},
   "outputs": [
    {
     "data": {
      "text/html": [
       "<div>\n",
       "<style scoped>\n",
       "    .dataframe tbody tr th:only-of-type {\n",
       "        vertical-align: middle;\n",
       "    }\n",
       "\n",
       "    .dataframe tbody tr th {\n",
       "        vertical-align: top;\n",
       "    }\n",
       "\n",
       "    .dataframe thead th {\n",
       "        text-align: right;\n",
       "    }\n",
       "</style>\n",
       "<table border=\"1\" class=\"dataframe\">\n",
       "  <thead>\n",
       "    <tr style=\"text-align: right;\">\n",
       "      <th></th>\n",
       "      <th>RecordID_Int</th>\n",
       "      <th>ParcelNumber</th>\n",
       "      <th>LandValue</th>\n",
       "      <th>ImprovementValue</th>\n",
       "      <th>TotalValue</th>\n",
       "      <th>TaxYear</th>\n",
       "      <th>Unit</th>\n",
       "      <th>Address</th>\n",
       "      <th>Latitudue</th>\n",
       "      <th>Longitude</th>\n",
       "      <th>UseCode</th>\n",
       "      <th>YearBuilt</th>\n",
       "      <th>Neighborhood</th>\n",
       "    </tr>\n",
       "  </thead>\n",
       "  <tbody>\n",
       "    <tr>\n",
       "      <th>441</th>\n",
       "      <td>359.0</td>\n",
       "      <td>010006000</td>\n",
       "      <td>371400.0</td>\n",
       "      <td>928500.0</td>\n",
       "      <td>1299900.0</td>\n",
       "      <td>2020.0</td>\n",
       "      <td>NaN</td>\n",
       "      <td>2028 BARRACKS RD</td>\n",
       "      <td>38.050765</td>\n",
       "      <td>-78.49808</td>\n",
       "      <td>Single Family</td>\n",
       "      <td>1940.0</td>\n",
       "      <td>Venable</td>\n",
       "    </tr>\n",
       "    <tr>\n",
       "      <th>442</th>\n",
       "      <td>360.0</td>\n",
       "      <td>010006000</td>\n",
       "      <td>360600.0</td>\n",
       "      <td>884300.0</td>\n",
       "      <td>1244900.0</td>\n",
       "      <td>2019.0</td>\n",
       "      <td>NaN</td>\n",
       "      <td>2028 BARRACKS RD</td>\n",
       "      <td>38.050765</td>\n",
       "      <td>-78.49808</td>\n",
       "      <td>Single Family</td>\n",
       "      <td>1940.0</td>\n",
       "      <td>Venable</td>\n",
       "    </tr>\n",
       "    <tr>\n",
       "      <th>443</th>\n",
       "      <td>361.0</td>\n",
       "      <td>010006000</td>\n",
       "      <td>300500.0</td>\n",
       "      <td>808400.0</td>\n",
       "      <td>1108900.0</td>\n",
       "      <td>2018.0</td>\n",
       "      <td>NaN</td>\n",
       "      <td>2028 BARRACKS RD</td>\n",
       "      <td>38.050765</td>\n",
       "      <td>-78.49808</td>\n",
       "      <td>Single Family</td>\n",
       "      <td>1940.0</td>\n",
       "      <td>Venable</td>\n",
       "    </tr>\n",
       "    <tr>\n",
       "      <th>444</th>\n",
       "      <td>362.0</td>\n",
       "      <td>010006000</td>\n",
       "      <td>280800.0</td>\n",
       "      <td>769900.0</td>\n",
       "      <td>1050700.0</td>\n",
       "      <td>2017.0</td>\n",
       "      <td>NaN</td>\n",
       "      <td>2028 BARRACKS RD</td>\n",
       "      <td>38.050765</td>\n",
       "      <td>-78.49808</td>\n",
       "      <td>Single Family</td>\n",
       "      <td>1940.0</td>\n",
       "      <td>Venable</td>\n",
       "    </tr>\n",
       "    <tr>\n",
       "      <th>445</th>\n",
       "      <td>363.0</td>\n",
       "      <td>010006000</td>\n",
       "      <td>244200.0</td>\n",
       "      <td>756400.0</td>\n",
       "      <td>1000600.0</td>\n",
       "      <td>2016.0</td>\n",
       "      <td>NaN</td>\n",
       "      <td>2028 BARRACKS RD</td>\n",
       "      <td>38.050765</td>\n",
       "      <td>-78.49808</td>\n",
       "      <td>Single Family</td>\n",
       "      <td>1940.0</td>\n",
       "      <td>Venable</td>\n",
       "    </tr>\n",
       "  </tbody>\n",
       "</table>\n",
       "</div>"
      ],
      "text/plain": [
       "     RecordID_Int ParcelNumber  LandValue  ImprovementValue  TotalValue  \\\n",
       "441         359.0    010006000   371400.0          928500.0   1299900.0   \n",
       "442         360.0    010006000   360600.0          884300.0   1244900.0   \n",
       "443         361.0    010006000   300500.0          808400.0   1108900.0   \n",
       "444         362.0    010006000   280800.0          769900.0   1050700.0   \n",
       "445         363.0    010006000   244200.0          756400.0   1000600.0   \n",
       "\n",
       "     TaxYear Unit           Address  Latitudue  Longitude        UseCode  \\\n",
       "441   2020.0  NaN  2028 BARRACKS RD  38.050765  -78.49808  Single Family   \n",
       "442   2019.0  NaN  2028 BARRACKS RD  38.050765  -78.49808  Single Family   \n",
       "443   2018.0  NaN  2028 BARRACKS RD  38.050765  -78.49808  Single Family   \n",
       "444   2017.0  NaN  2028 BARRACKS RD  38.050765  -78.49808  Single Family   \n",
       "445   2016.0  NaN  2028 BARRACKS RD  38.050765  -78.49808  Single Family   \n",
       "\n",
       "     YearBuilt Neighborhood  \n",
       "441     1940.0      Venable  \n",
       "442     1940.0      Venable  \n",
       "443     1940.0      Venable  \n",
       "444     1940.0      Venable  \n",
       "445     1940.0      Venable  "
      ]
     },
     "execution_count": 4,
     "metadata": {},
     "output_type": "execute_result"
    }
   ],
   "source": [
    "n_ass.head()\n"
   ]
  },
  {
   "cell_type": "markdown",
   "metadata": {},
   "source": [
    "### Average Year Built vs. Average 2020 Assessment Value by Neighborhood"
   ]
  },
  {
   "cell_type": "code",
   "execution_count": 5,
   "metadata": {
    "scrolled": true
   },
   "outputs": [
    {
     "data": {
      "text/html": [
       "<div>\n",
       "<style scoped>\n",
       "    .dataframe tbody tr th:only-of-type {\n",
       "        vertical-align: middle;\n",
       "    }\n",
       "\n",
       "    .dataframe tbody tr th {\n",
       "        vertical-align: top;\n",
       "    }\n",
       "\n",
       "    .dataframe thead th {\n",
       "        text-align: right;\n",
       "    }\n",
       "</style>\n",
       "<table border=\"1\" class=\"dataframe\">\n",
       "  <thead>\n",
       "    <tr style=\"text-align: right;\">\n",
       "      <th></th>\n",
       "      <th>YearBuilt</th>\n",
       "      <th>TotalValue</th>\n",
       "    </tr>\n",
       "    <tr>\n",
       "      <th>Neighborhood</th>\n",
       "      <th></th>\n",
       "      <th></th>\n",
       "    </tr>\n",
       "  </thead>\n",
       "  <tbody>\n",
       "    <tr>\n",
       "      <th>10th &amp; Page</th>\n",
       "      <td>1945.041096</td>\n",
       "      <td>46104.452055</td>\n",
       "    </tr>\n",
       "    <tr>\n",
       "      <th>Barracks / Rugby</th>\n",
       "      <td>1957.229958</td>\n",
       "      <td>193432.328482</td>\n",
       "    </tr>\n",
       "    <tr>\n",
       "      <th>Belmont</th>\n",
       "      <td>1948.279520</td>\n",
       "      <td>68024.933511</td>\n",
       "    </tr>\n",
       "    <tr>\n",
       "      <th>Fifeville</th>\n",
       "      <td>1946.068182</td>\n",
       "      <td>59724.848485</td>\n",
       "    </tr>\n",
       "    <tr>\n",
       "      <th>Fry's Spring</th>\n",
       "      <td>1952.113260</td>\n",
       "      <td>96399.631676</td>\n",
       "    </tr>\n",
       "    <tr>\n",
       "      <th>Greenbrier</th>\n",
       "      <td>1960.582468</td>\n",
       "      <td>165747.866205</td>\n",
       "    </tr>\n",
       "    <tr>\n",
       "      <th>Jefferson Park Avenue</th>\n",
       "      <td>1940.230000</td>\n",
       "      <td>122570.000000</td>\n",
       "    </tr>\n",
       "    <tr>\n",
       "      <th>Johnson Village</th>\n",
       "      <td>1963.788945</td>\n",
       "      <td>117118.592965</td>\n",
       "    </tr>\n",
       "    <tr>\n",
       "      <th>Lewis Mountain</th>\n",
       "      <td>1931.596154</td>\n",
       "      <td>229513.942308</td>\n",
       "    </tr>\n",
       "    <tr>\n",
       "      <th>Locust Grove</th>\n",
       "      <td>1960.960055</td>\n",
       "      <td>114580.795610</td>\n",
       "    </tr>\n",
       "    <tr>\n",
       "      <th>Martha Jefferson</th>\n",
       "      <td>1956.605475</td>\n",
       "      <td>117541.702742</td>\n",
       "    </tr>\n",
       "    <tr>\n",
       "      <th>North Downtown</th>\n",
       "      <td>1941.035294</td>\n",
       "      <td>178392.505855</td>\n",
       "    </tr>\n",
       "    <tr>\n",
       "      <th>Ridge Street</th>\n",
       "      <td>1957.315245</td>\n",
       "      <td>66461.498708</td>\n",
       "    </tr>\n",
       "    <tr>\n",
       "      <th>Rose Hill</th>\n",
       "      <td>1597.314815</td>\n",
       "      <td>41069.791667</td>\n",
       "    </tr>\n",
       "    <tr>\n",
       "      <th>Starr Hill</th>\n",
       "      <td>1928.115385</td>\n",
       "      <td>56357.692308</td>\n",
       "    </tr>\n",
       "    <tr>\n",
       "      <th>The Meadows</th>\n",
       "      <td>1961.897727</td>\n",
       "      <td>115968.181818</td>\n",
       "    </tr>\n",
       "    <tr>\n",
       "      <th>Venable</th>\n",
       "      <td>1950.467091</td>\n",
       "      <td>175224.840764</td>\n",
       "    </tr>\n",
       "    <tr>\n",
       "      <th>Woolen Mills</th>\n",
       "      <td>1953.442675</td>\n",
       "      <td>75135.031847</td>\n",
       "    </tr>\n",
       "  </tbody>\n",
       "</table>\n",
       "</div>"
      ],
      "text/plain": [
       "                         YearBuilt     TotalValue\n",
       "Neighborhood                                     \n",
       "10th & Page            1945.041096   46104.452055\n",
       "Barracks / Rugby       1957.229958  193432.328482\n",
       "Belmont                1948.279520   68024.933511\n",
       "Fifeville              1946.068182   59724.848485\n",
       "Fry's Spring           1952.113260   96399.631676\n",
       "Greenbrier             1960.582468  165747.866205\n",
       "Jefferson Park Avenue  1940.230000  122570.000000\n",
       "Johnson Village        1963.788945  117118.592965\n",
       "Lewis Mountain         1931.596154  229513.942308\n",
       "Locust Grove           1960.960055  114580.795610\n",
       "Martha Jefferson       1956.605475  117541.702742\n",
       "North Downtown         1941.035294  178392.505855\n",
       "Ridge Street           1957.315245   66461.498708\n",
       "Rose Hill              1597.314815   41069.791667\n",
       "Starr Hill             1928.115385   56357.692308\n",
       "The Meadows            1961.897727  115968.181818\n",
       "Venable                1950.467091  175224.840764\n",
       "Woolen Mills           1953.442675   75135.031847"
      ]
     },
     "execution_count": 5,
     "metadata": {},
     "output_type": "execute_result"
    }
   ],
   "source": [
    "n_ass[n_ass.TaxYear == 2000].groupby(['Neighborhood'])[['YearBuilt', 'TotalValue']].mean()\n"
   ]
  },
  {
   "cell_type": "code",
   "execution_count": 14,
   "metadata": {},
   "outputs": [],
   "source": [
    "fig=px.scatter(n_ass.loc[n_ass['TaxYear'] == 2000].groupby('Neighborhood')[['YearBuilt', 'TotalValue']].mean().drop('Rose Hill').reset_index(), x='YearBuilt', y='TotalValue', hover_name='Neighborhood',color='Neighborhood',text='Neighborhood')\n",
    "fig.update_traces(textposition='top center')\n",
    "fig.update_layout(\n",
    "    height=500,\n",
    "    width=800,\n",
    "    title_text='Avg. 2020 Total Assessment Value vs. Avg. Year Built'\n",
    ")\n",
    "fig.write_html(\"html/assessvsyear.html\")"
   ]
  },
  {
   "cell_type": "markdown",
   "metadata": {},
   "source": [
    "### Percent Change in Real Estate Assessment Value by Neighborhood"
   ]
  },
  {
   "cell_type": "code",
   "execution_count": 7,
   "metadata": {
    "scrolled": true
   },
   "outputs": [
    {
     "data": {
      "text/html": [
       "<div>\n",
       "<style scoped>\n",
       "    .dataframe tbody tr th:only-of-type {\n",
       "        vertical-align: middle;\n",
       "    }\n",
       "\n",
       "    .dataframe tbody tr th {\n",
       "        vertical-align: top;\n",
       "    }\n",
       "\n",
       "    .dataframe thead th {\n",
       "        text-align: right;\n",
       "    }\n",
       "</style>\n",
       "<table border=\"1\" class=\"dataframe\">\n",
       "  <thead>\n",
       "    <tr style=\"text-align: right;\">\n",
       "      <th></th>\n",
       "      <th>RecordID_Int</th>\n",
       "      <th>ParcelNumber</th>\n",
       "      <th>LandValue</th>\n",
       "      <th>ImprovementValue</th>\n",
       "      <th>TotalValue</th>\n",
       "      <th>TaxYear</th>\n",
       "      <th>Address</th>\n",
       "      <th>Latitudue</th>\n",
       "      <th>Longitude</th>\n",
       "      <th>UseCode</th>\n",
       "      <th>YearBuilt</th>\n",
       "      <th>Neighborhood</th>\n",
       "    </tr>\n",
       "  </thead>\n",
       "  <tbody>\n",
       "    <tr>\n",
       "      <th>441</th>\n",
       "      <td>359.0</td>\n",
       "      <td>010006000</td>\n",
       "      <td>371400.0</td>\n",
       "      <td>928500.0</td>\n",
       "      <td>1299900.0</td>\n",
       "      <td>2020.0</td>\n",
       "      <td>2028 BARRACKS RD</td>\n",
       "      <td>38.050765</td>\n",
       "      <td>-78.498080</td>\n",
       "      <td>Single Family</td>\n",
       "      <td>1940.0</td>\n",
       "      <td>Venable</td>\n",
       "    </tr>\n",
       "    <tr>\n",
       "      <th>442</th>\n",
       "      <td>360.0</td>\n",
       "      <td>010006000</td>\n",
       "      <td>360600.0</td>\n",
       "      <td>884300.0</td>\n",
       "      <td>1244900.0</td>\n",
       "      <td>2019.0</td>\n",
       "      <td>2028 BARRACKS RD</td>\n",
       "      <td>38.050765</td>\n",
       "      <td>-78.498080</td>\n",
       "      <td>Single Family</td>\n",
       "      <td>1940.0</td>\n",
       "      <td>Venable</td>\n",
       "    </tr>\n",
       "    <tr>\n",
       "      <th>443</th>\n",
       "      <td>361.0</td>\n",
       "      <td>010006000</td>\n",
       "      <td>300500.0</td>\n",
       "      <td>808400.0</td>\n",
       "      <td>1108900.0</td>\n",
       "      <td>2018.0</td>\n",
       "      <td>2028 BARRACKS RD</td>\n",
       "      <td>38.050765</td>\n",
       "      <td>-78.498080</td>\n",
       "      <td>Single Family</td>\n",
       "      <td>1940.0</td>\n",
       "      <td>Venable</td>\n",
       "    </tr>\n",
       "    <tr>\n",
       "      <th>444</th>\n",
       "      <td>362.0</td>\n",
       "      <td>010006000</td>\n",
       "      <td>280800.0</td>\n",
       "      <td>769900.0</td>\n",
       "      <td>1050700.0</td>\n",
       "      <td>2017.0</td>\n",
       "      <td>2028 BARRACKS RD</td>\n",
       "      <td>38.050765</td>\n",
       "      <td>-78.498080</td>\n",
       "      <td>Single Family</td>\n",
       "      <td>1940.0</td>\n",
       "      <td>Venable</td>\n",
       "    </tr>\n",
       "    <tr>\n",
       "      <th>445</th>\n",
       "      <td>363.0</td>\n",
       "      <td>010006000</td>\n",
       "      <td>244200.0</td>\n",
       "      <td>756400.0</td>\n",
       "      <td>1000600.0</td>\n",
       "      <td>2016.0</td>\n",
       "      <td>2028 BARRACKS RD</td>\n",
       "      <td>38.050765</td>\n",
       "      <td>-78.498080</td>\n",
       "      <td>Single Family</td>\n",
       "      <td>1940.0</td>\n",
       "      <td>Venable</td>\n",
       "    </tr>\n",
       "    <tr>\n",
       "      <th>...</th>\n",
       "      <td>...</td>\n",
       "      <td>...</td>\n",
       "      <td>...</td>\n",
       "      <td>...</td>\n",
       "      <td>...</td>\n",
       "      <td>...</td>\n",
       "      <td>...</td>\n",
       "      <td>...</td>\n",
       "      <td>...</td>\n",
       "      <td>...</td>\n",
       "      <td>...</td>\n",
       "      <td>...</td>\n",
       "    </tr>\n",
       "    <tr>\n",
       "      <th>1755552</th>\n",
       "      <td>344469.0</td>\n",
       "      <td>610104000</td>\n",
       "      <td>16000.0</td>\n",
       "      <td>77400.0</td>\n",
       "      <td>93400.0</td>\n",
       "      <td>2002.0</td>\n",
       "      <td>1806 EASTVIEW ST</td>\n",
       "      <td>38.014544</td>\n",
       "      <td>-78.472197</td>\n",
       "      <td>Single Family</td>\n",
       "      <td>1946.0</td>\n",
       "      <td>Belmont</td>\n",
       "    </tr>\n",
       "    <tr>\n",
       "      <th>1755553</th>\n",
       "      <td>344470.0</td>\n",
       "      <td>610104000</td>\n",
       "      <td>13200.0</td>\n",
       "      <td>63900.0</td>\n",
       "      <td>77100.0</td>\n",
       "      <td>2001.0</td>\n",
       "      <td>1806 EASTVIEW ST</td>\n",
       "      <td>38.014544</td>\n",
       "      <td>-78.472197</td>\n",
       "      <td>Single Family</td>\n",
       "      <td>1946.0</td>\n",
       "      <td>Belmont</td>\n",
       "    </tr>\n",
       "    <tr>\n",
       "      <th>1755553</th>\n",
       "      <td>344470.0</td>\n",
       "      <td>610104000</td>\n",
       "      <td>13200.0</td>\n",
       "      <td>63900.0</td>\n",
       "      <td>77100.0</td>\n",
       "      <td>2001.0</td>\n",
       "      <td>1806 EASTVIEW ST</td>\n",
       "      <td>38.014544</td>\n",
       "      <td>-78.472197</td>\n",
       "      <td>Single Family</td>\n",
       "      <td>1946.0</td>\n",
       "      <td>Belmont</td>\n",
       "    </tr>\n",
       "    <tr>\n",
       "      <th>1755554</th>\n",
       "      <td>344471.0</td>\n",
       "      <td>610104000</td>\n",
       "      <td>13200.0</td>\n",
       "      <td>63900.0</td>\n",
       "      <td>77100.0</td>\n",
       "      <td>2000.0</td>\n",
       "      <td>1806 EASTVIEW ST</td>\n",
       "      <td>38.014544</td>\n",
       "      <td>-78.472197</td>\n",
       "      <td>Single Family</td>\n",
       "      <td>1946.0</td>\n",
       "      <td>Belmont</td>\n",
       "    </tr>\n",
       "    <tr>\n",
       "      <th>1755554</th>\n",
       "      <td>344471.0</td>\n",
       "      <td>610104000</td>\n",
       "      <td>13200.0</td>\n",
       "      <td>63900.0</td>\n",
       "      <td>77100.0</td>\n",
       "      <td>2000.0</td>\n",
       "      <td>1806 EASTVIEW ST</td>\n",
       "      <td>38.014544</td>\n",
       "      <td>-78.472197</td>\n",
       "      <td>Single Family</td>\n",
       "      <td>1946.0</td>\n",
       "      <td>Belmont</td>\n",
       "    </tr>\n",
       "  </tbody>\n",
       "</table>\n",
       "<p>218553 rows × 12 columns</p>\n",
       "</div>"
      ],
      "text/plain": [
       "         RecordID_Int ParcelNumber  LandValue  ImprovementValue  TotalValue  \\\n",
       "441             359.0    010006000   371400.0          928500.0   1299900.0   \n",
       "442             360.0    010006000   360600.0          884300.0   1244900.0   \n",
       "443             361.0    010006000   300500.0          808400.0   1108900.0   \n",
       "444             362.0    010006000   280800.0          769900.0   1050700.0   \n",
       "445             363.0    010006000   244200.0          756400.0   1000600.0   \n",
       "...               ...          ...        ...               ...         ...   \n",
       "1755552      344469.0    610104000    16000.0           77400.0     93400.0   \n",
       "1755553      344470.0    610104000    13200.0           63900.0     77100.0   \n",
       "1755553      344470.0    610104000    13200.0           63900.0     77100.0   \n",
       "1755554      344471.0    610104000    13200.0           63900.0     77100.0   \n",
       "1755554      344471.0    610104000    13200.0           63900.0     77100.0   \n",
       "\n",
       "         TaxYear            Address  Latitudue  Longitude        UseCode  \\\n",
       "441       2020.0  2028 BARRACKS RD   38.050765 -78.498080  Single Family   \n",
       "442       2019.0  2028 BARRACKS RD   38.050765 -78.498080  Single Family   \n",
       "443       2018.0  2028 BARRACKS RD   38.050765 -78.498080  Single Family   \n",
       "444       2017.0  2028 BARRACKS RD   38.050765 -78.498080  Single Family   \n",
       "445       2016.0  2028 BARRACKS RD   38.050765 -78.498080  Single Family   \n",
       "...          ...                ...        ...        ...            ...   \n",
       "1755552   2002.0  1806 EASTVIEW ST   38.014544 -78.472197  Single Family   \n",
       "1755553   2001.0  1806 EASTVIEW ST   38.014544 -78.472197  Single Family   \n",
       "1755553   2001.0  1806 EASTVIEW ST   38.014544 -78.472197  Single Family   \n",
       "1755554   2000.0  1806 EASTVIEW ST   38.014544 -78.472197  Single Family   \n",
       "1755554   2000.0  1806 EASTVIEW ST   38.014544 -78.472197  Single Family   \n",
       "\n",
       "         YearBuilt Neighborhood  \n",
       "441         1940.0      Venable  \n",
       "442         1940.0      Venable  \n",
       "443         1940.0      Venable  \n",
       "444         1940.0      Venable  \n",
       "445         1940.0      Venable  \n",
       "...            ...          ...  \n",
       "1755552     1946.0      Belmont  \n",
       "1755553     1946.0      Belmont  \n",
       "1755553     1946.0      Belmont  \n",
       "1755554     1946.0      Belmont  \n",
       "1755554     1946.0      Belmont  \n",
       "\n",
       "[218553 rows x 12 columns]"
      ]
     },
     "execution_count": 7,
     "metadata": {},
     "output_type": "execute_result"
    }
   ],
   "source": [
    "u_ass=n_ass.copy(deep=True)\n",
    "u_ass['Unit'] = u_ass['Unit'].fillna('')\n",
    "u_ass['Address'] = u_ass['Address'] + ' ' + u_ass['Unit']\n",
    "u_ass=u_ass.drop(['Unit'], axis=1)\n",
    "u_ass"
   ]
  },
  {
   "cell_type": "code",
   "execution_count": 8,
   "metadata": {},
   "outputs": [
    {
     "data": {
      "text/html": [
       "<div>\n",
       "<style scoped>\n",
       "    .dataframe tbody tr th:only-of-type {\n",
       "        vertical-align: middle;\n",
       "    }\n",
       "\n",
       "    .dataframe tbody tr th {\n",
       "        vertical-align: top;\n",
       "    }\n",
       "\n",
       "    .dataframe thead th {\n",
       "        text-align: right;\n",
       "    }\n",
       "</style>\n",
       "<table border=\"1\" class=\"dataframe\">\n",
       "  <thead>\n",
       "    <tr style=\"text-align: right;\">\n",
       "      <th></th>\n",
       "      <th>Address</th>\n",
       "      <th>Neighborhood</th>\n",
       "      <th>UseCode</th>\n",
       "      <th>TaxYear</th>\n",
       "      <th>TotalValue</th>\n",
       "      <th>PctChange</th>\n",
       "    </tr>\n",
       "  </thead>\n",
       "  <tbody>\n",
       "    <tr>\n",
       "      <th>12852</th>\n",
       "      <td>1 LATROBE CT</td>\n",
       "      <td>Venable</td>\n",
       "      <td>Single Family</td>\n",
       "      <td>2000.0</td>\n",
       "      <td>42000.0</td>\n",
       "      <td>NaN</td>\n",
       "    </tr>\n",
       "    <tr>\n",
       "      <th>12851</th>\n",
       "      <td>1 LATROBE CT</td>\n",
       "      <td>Venable</td>\n",
       "      <td>Single Family</td>\n",
       "      <td>2001.0</td>\n",
       "      <td>44100.0</td>\n",
       "      <td>5.000000</td>\n",
       "    </tr>\n",
       "    <tr>\n",
       "      <th>12850</th>\n",
       "      <td>1 LATROBE CT</td>\n",
       "      <td>Venable</td>\n",
       "      <td>Single Family</td>\n",
       "      <td>2002.0</td>\n",
       "      <td>44700.0</td>\n",
       "      <td>1.360544</td>\n",
       "    </tr>\n",
       "    <tr>\n",
       "      <th>12849</th>\n",
       "      <td>1 LATROBE CT</td>\n",
       "      <td>Venable</td>\n",
       "      <td>Single Family</td>\n",
       "      <td>2003.0</td>\n",
       "      <td>48000.0</td>\n",
       "      <td>7.382550</td>\n",
       "    </tr>\n",
       "    <tr>\n",
       "      <th>12848</th>\n",
       "      <td>1 LATROBE CT</td>\n",
       "      <td>Venable</td>\n",
       "      <td>Single Family</td>\n",
       "      <td>2004.0</td>\n",
       "      <td>55200.0</td>\n",
       "      <td>15.000000</td>\n",
       "    </tr>\n",
       "    <tr>\n",
       "      <th>...</th>\n",
       "      <td>...</td>\n",
       "      <td>...</td>\n",
       "      <td>...</td>\n",
       "      <td>...</td>\n",
       "      <td>...</td>\n",
       "      <td>...</td>\n",
       "    </tr>\n",
       "    <tr>\n",
       "      <th>1665899</th>\n",
       "      <td>981 RIVES ST</td>\n",
       "      <td>Belmont</td>\n",
       "      <td>Single Family</td>\n",
       "      <td>2016.0</td>\n",
       "      <td>138400.0</td>\n",
       "      <td>0.000000</td>\n",
       "    </tr>\n",
       "    <tr>\n",
       "      <th>1665898</th>\n",
       "      <td>981 RIVES ST</td>\n",
       "      <td>Belmont</td>\n",
       "      <td>Single Family</td>\n",
       "      <td>2017.0</td>\n",
       "      <td>148500.0</td>\n",
       "      <td>7.297688</td>\n",
       "    </tr>\n",
       "    <tr>\n",
       "      <th>1665897</th>\n",
       "      <td>981 RIVES ST</td>\n",
       "      <td>Belmont</td>\n",
       "      <td>Single Family</td>\n",
       "      <td>2018.0</td>\n",
       "      <td>163300.0</td>\n",
       "      <td>9.966330</td>\n",
       "    </tr>\n",
       "    <tr>\n",
       "      <th>1665896</th>\n",
       "      <td>981 RIVES ST</td>\n",
       "      <td>Belmont</td>\n",
       "      <td>Single Family</td>\n",
       "      <td>2019.0</td>\n",
       "      <td>176400.0</td>\n",
       "      <td>8.022045</td>\n",
       "    </tr>\n",
       "    <tr>\n",
       "      <th>1665895</th>\n",
       "      <td>981 RIVES ST</td>\n",
       "      <td>Belmont</td>\n",
       "      <td>Single Family</td>\n",
       "      <td>2020.0</td>\n",
       "      <td>176400.0</td>\n",
       "      <td>0.000000</td>\n",
       "    </tr>\n",
       "  </tbody>\n",
       "</table>\n",
       "<p>101762 rows × 6 columns</p>\n",
       "</div>"
      ],
      "text/plain": [
       "               Address Neighborhood        UseCode  TaxYear  TotalValue  \\\n",
       "12852    1 LATROBE CT       Venable  Single Family   2000.0     42000.0   \n",
       "12851    1 LATROBE CT       Venable  Single Family   2001.0     44100.0   \n",
       "12850    1 LATROBE CT       Venable  Single Family   2002.0     44700.0   \n",
       "12849    1 LATROBE CT       Venable  Single Family   2003.0     48000.0   \n",
       "12848    1 LATROBE CT       Venable  Single Family   2004.0     55200.0   \n",
       "...                ...          ...            ...      ...         ...   \n",
       "1665899  981 RIVES ST       Belmont  Single Family   2016.0    138400.0   \n",
       "1665898  981 RIVES ST       Belmont  Single Family   2017.0    148500.0   \n",
       "1665897  981 RIVES ST       Belmont  Single Family   2018.0    163300.0   \n",
       "1665896  981 RIVES ST       Belmont  Single Family   2019.0    176400.0   \n",
       "1665895  981 RIVES ST       Belmont  Single Family   2020.0    176400.0   \n",
       "\n",
       "         PctChange  \n",
       "12852          NaN  \n",
       "12851     5.000000  \n",
       "12850     1.360544  \n",
       "12849     7.382550  \n",
       "12848    15.000000  \n",
       "...            ...  \n",
       "1665899   0.000000  \n",
       "1665898   7.297688  \n",
       "1665897   9.966330  \n",
       "1665896   8.022045  \n",
       "1665895   0.000000  \n",
       "\n",
       "[101762 rows x 6 columns]"
      ]
     },
     "execution_count": 8,
     "metadata": {},
     "output_type": "execute_result"
    }
   ],
   "source": [
    "s_ass=u_ass[['Address','Neighborhood','UseCode','TaxYear', 'TotalValue']].sort_values(['Address', 'TaxYear'])\n",
    "\n",
    "s_ass=s_ass.drop_duplicates(subset=['Address','Neighborhood','UseCode','TaxYear'])\n",
    "s_ass=s_ass.drop_duplicates()\n",
    "s_ass=s_ass.loc[s_ass.TotalValue != 0]\n",
    "s_ass['PctChange']=s_ass.groupby('Address', sort=False)['TotalValue'].apply(lambda x: x.pct_change()).to_numpy()*100\n",
    "s_ass"
   ]
  },
  {
   "cell_type": "code",
   "execution_count": 9,
   "metadata": {},
   "outputs": [
    {
     "data": {
      "text/html": [
       "<div>\n",
       "<style scoped>\n",
       "    .dataframe tbody tr th:only-of-type {\n",
       "        vertical-align: middle;\n",
       "    }\n",
       "\n",
       "    .dataframe tbody tr th {\n",
       "        vertical-align: top;\n",
       "    }\n",
       "\n",
       "    .dataframe thead th {\n",
       "        text-align: right;\n",
       "    }\n",
       "</style>\n",
       "<table border=\"1\" class=\"dataframe\">\n",
       "  <thead>\n",
       "    <tr style=\"text-align: right;\">\n",
       "      <th>Neighborhood</th>\n",
       "      <th>TaxYear</th>\n",
       "      <th>10th &amp; Page</th>\n",
       "      <th>Barracks / Rugby</th>\n",
       "      <th>Belmont</th>\n",
       "      <th>Fifeville</th>\n",
       "      <th>Fry's Spring</th>\n",
       "      <th>Greenbrier</th>\n",
       "      <th>Jefferson Park Avenue</th>\n",
       "      <th>Johnson Village</th>\n",
       "      <th>Lewis Mountain</th>\n",
       "      <th>Locust Grove</th>\n",
       "      <th>Martha Jefferson</th>\n",
       "      <th>North Downtown</th>\n",
       "      <th>Ridge Street</th>\n",
       "      <th>Rose Hill</th>\n",
       "      <th>Starr Hill</th>\n",
       "      <th>The Meadows</th>\n",
       "      <th>Venable</th>\n",
       "      <th>Woolen Mills</th>\n",
       "    </tr>\n",
       "  </thead>\n",
       "  <tbody>\n",
       "    <tr>\n",
       "      <th>0</th>\n",
       "      <td>2000.0</td>\n",
       "      <td>NaN</td>\n",
       "      <td>NaN</td>\n",
       "      <td>0.000000</td>\n",
       "      <td>0.000000</td>\n",
       "      <td>0.000000</td>\n",
       "      <td>NaN</td>\n",
       "      <td>NaN</td>\n",
       "      <td>NaN</td>\n",
       "      <td>0.000000</td>\n",
       "      <td>NaN</td>\n",
       "      <td>0.000000</td>\n",
       "      <td>NaN</td>\n",
       "      <td>NaN</td>\n",
       "      <td>NaN</td>\n",
       "      <td>NaN</td>\n",
       "      <td>NaN</td>\n",
       "      <td>NaN</td>\n",
       "      <td>NaN</td>\n",
       "    </tr>\n",
       "    <tr>\n",
       "      <th>1</th>\n",
       "      <td>2001.0</td>\n",
       "      <td>12.330926</td>\n",
       "      <td>13.264466</td>\n",
       "      <td>10.768891</td>\n",
       "      <td>22.772125</td>\n",
       "      <td>17.986265</td>\n",
       "      <td>11.670610</td>\n",
       "      <td>9.429263</td>\n",
       "      <td>10.612508</td>\n",
       "      <td>10.371980</td>\n",
       "      <td>12.539350</td>\n",
       "      <td>16.987219</td>\n",
       "      <td>12.214510</td>\n",
       "      <td>17.577612</td>\n",
       "      <td>5.337295</td>\n",
       "      <td>5.543787</td>\n",
       "      <td>4.632012</td>\n",
       "      <td>9.468975</td>\n",
       "      <td>20.137996</td>\n",
       "    </tr>\n",
       "    <tr>\n",
       "      <th>2</th>\n",
       "      <td>2002.0</td>\n",
       "      <td>6.461777</td>\n",
       "      <td>21.725294</td>\n",
       "      <td>14.047665</td>\n",
       "      <td>2.750167</td>\n",
       "      <td>8.989455</td>\n",
       "      <td>13.547884</td>\n",
       "      <td>12.286358</td>\n",
       "      <td>8.408851</td>\n",
       "      <td>10.725593</td>\n",
       "      <td>11.687036</td>\n",
       "      <td>7.335425</td>\n",
       "      <td>12.527233</td>\n",
       "      <td>9.080111</td>\n",
       "      <td>11.625124</td>\n",
       "      <td>1.820999</td>\n",
       "      <td>16.204516</td>\n",
       "      <td>11.717351</td>\n",
       "      <td>38.735454</td>\n",
       "    </tr>\n",
       "    <tr>\n",
       "      <th>3</th>\n",
       "      <td>2003.0</td>\n",
       "      <td>6.564581</td>\n",
       "      <td>9.932647</td>\n",
       "      <td>26.521113</td>\n",
       "      <td>17.699675</td>\n",
       "      <td>14.870534</td>\n",
       "      <td>11.283701</td>\n",
       "      <td>14.934453</td>\n",
       "      <td>11.928126</td>\n",
       "      <td>18.375682</td>\n",
       "      <td>18.743434</td>\n",
       "      <td>18.728074</td>\n",
       "      <td>13.580663</td>\n",
       "      <td>19.018642</td>\n",
       "      <td>37.414202</td>\n",
       "      <td>75.912697</td>\n",
       "      <td>5.631566</td>\n",
       "      <td>18.698994</td>\n",
       "      <td>27.550982</td>\n",
       "    </tr>\n",
       "    <tr>\n",
       "      <th>4</th>\n",
       "      <td>2004.0</td>\n",
       "      <td>23.854166</td>\n",
       "      <td>26.124662</td>\n",
       "      <td>22.021259</td>\n",
       "      <td>26.956372</td>\n",
       "      <td>15.501984</td>\n",
       "      <td>12.332569</td>\n",
       "      <td>16.033769</td>\n",
       "      <td>8.539018</td>\n",
       "      <td>14.843972</td>\n",
       "      <td>17.464097</td>\n",
       "      <td>24.472109</td>\n",
       "      <td>18.153420</td>\n",
       "      <td>14.668232</td>\n",
       "      <td>35.661843</td>\n",
       "      <td>17.320598</td>\n",
       "      <td>13.448818</td>\n",
       "      <td>19.670111</td>\n",
       "      <td>43.442870</td>\n",
       "    </tr>\n",
       "    <tr>\n",
       "      <th>5</th>\n",
       "      <td>2005.0</td>\n",
       "      <td>33.937581</td>\n",
       "      <td>16.145506</td>\n",
       "      <td>20.737868</td>\n",
       "      <td>30.152632</td>\n",
       "      <td>18.470342</td>\n",
       "      <td>11.760455</td>\n",
       "      <td>29.596694</td>\n",
       "      <td>14.624653</td>\n",
       "      <td>9.667187</td>\n",
       "      <td>19.761015</td>\n",
       "      <td>15.584971</td>\n",
       "      <td>32.941516</td>\n",
       "      <td>108.522473</td>\n",
       "      <td>14.737430</td>\n",
       "      <td>26.873748</td>\n",
       "      <td>12.216227</td>\n",
       "      <td>27.293340</td>\n",
       "      <td>21.464790</td>\n",
       "    </tr>\n",
       "    <tr>\n",
       "      <th>6</th>\n",
       "      <td>2006.0</td>\n",
       "      <td>146.474927</td>\n",
       "      <td>29.250460</td>\n",
       "      <td>23.388065</td>\n",
       "      <td>32.674264</td>\n",
       "      <td>22.469303</td>\n",
       "      <td>13.160700</td>\n",
       "      <td>27.580340</td>\n",
       "      <td>19.063875</td>\n",
       "      <td>19.169825</td>\n",
       "      <td>40.620571</td>\n",
       "      <td>27.531611</td>\n",
       "      <td>17.057519</td>\n",
       "      <td>54.220332</td>\n",
       "      <td>82.026701</td>\n",
       "      <td>16.160407</td>\n",
       "      <td>27.821313</td>\n",
       "      <td>53.297336</td>\n",
       "      <td>20.191353</td>\n",
       "    </tr>\n",
       "    <tr>\n",
       "      <th>7</th>\n",
       "      <td>2007.0</td>\n",
       "      <td>65.454366</td>\n",
       "      <td>13.004855</td>\n",
       "      <td>26.405608</td>\n",
       "      <td>39.076292</td>\n",
       "      <td>32.394879</td>\n",
       "      <td>19.777241</td>\n",
       "      <td>-0.136114</td>\n",
       "      <td>87.130240</td>\n",
       "      <td>6.140192</td>\n",
       "      <td>22.815708</td>\n",
       "      <td>8.454524</td>\n",
       "      <td>13.959029</td>\n",
       "      <td>31.709260</td>\n",
       "      <td>11.122732</td>\n",
       "      <td>23.570938</td>\n",
       "      <td>7.809667</td>\n",
       "      <td>20.387914</td>\n",
       "      <td>37.931701</td>\n",
       "    </tr>\n",
       "    <tr>\n",
       "      <th>8</th>\n",
       "      <td>2008.0</td>\n",
       "      <td>10.778968</td>\n",
       "      <td>0.623103</td>\n",
       "      <td>17.404318</td>\n",
       "      <td>8.042071</td>\n",
       "      <td>17.015322</td>\n",
       "      <td>0.601440</td>\n",
       "      <td>5.696487</td>\n",
       "      <td>168.559573</td>\n",
       "      <td>7.375769</td>\n",
       "      <td>12.701440</td>\n",
       "      <td>8.041718</td>\n",
       "      <td>2.235699</td>\n",
       "      <td>70.896029</td>\n",
       "      <td>1.433992</td>\n",
       "      <td>8.870133</td>\n",
       "      <td>7.217783</td>\n",
       "      <td>2.556962</td>\n",
       "      <td>7.789060</td>\n",
       "    </tr>\n",
       "    <tr>\n",
       "      <th>9</th>\n",
       "      <td>2009.0</td>\n",
       "      <td>13.227847</td>\n",
       "      <td>0.969103</td>\n",
       "      <td>3.581260</td>\n",
       "      <td>9.527977</td>\n",
       "      <td>-0.303942</td>\n",
       "      <td>-3.445151</td>\n",
       "      <td>0.846067</td>\n",
       "      <td>75.476091</td>\n",
       "      <td>4.491833</td>\n",
       "      <td>-0.037777</td>\n",
       "      <td>3.187117</td>\n",
       "      <td>-1.848181</td>\n",
       "      <td>38.121399</td>\n",
       "      <td>0.489095</td>\n",
       "      <td>5.746589</td>\n",
       "      <td>-5.789377</td>\n",
       "      <td>5.781879</td>\n",
       "      <td>5.449337</td>\n",
       "    </tr>\n",
       "    <tr>\n",
       "      <th>10</th>\n",
       "      <td>2010.0</td>\n",
       "      <td>-1.211840</td>\n",
       "      <td>-0.709734</td>\n",
       "      <td>0.680243</td>\n",
       "      <td>4.429255</td>\n",
       "      <td>19.482644</td>\n",
       "      <td>-2.028196</td>\n",
       "      <td>-6.602604</td>\n",
       "      <td>12.750288</td>\n",
       "      <td>-2.518117</td>\n",
       "      <td>-0.760462</td>\n",
       "      <td>2.332311</td>\n",
       "      <td>-2.364321</td>\n",
       "      <td>19.376832</td>\n",
       "      <td>7.762347</td>\n",
       "      <td>-4.641453</td>\n",
       "      <td>0.133056</td>\n",
       "      <td>-0.063851</td>\n",
       "      <td>4.100092</td>\n",
       "    </tr>\n",
       "    <tr>\n",
       "      <th>11</th>\n",
       "      <td>2011.0</td>\n",
       "      <td>1.031526</td>\n",
       "      <td>-3.042749</td>\n",
       "      <td>1.711129</td>\n",
       "      <td>8.918293</td>\n",
       "      <td>10.432032</td>\n",
       "      <td>1.973315</td>\n",
       "      <td>0.000000</td>\n",
       "      <td>3.634544</td>\n",
       "      <td>0.144329</td>\n",
       "      <td>-0.884930</td>\n",
       "      <td>-0.451444</td>\n",
       "      <td>5.431242</td>\n",
       "      <td>3.162263</td>\n",
       "      <td>-14.944089</td>\n",
       "      <td>1.827715</td>\n",
       "      <td>-0.132213</td>\n",
       "      <td>4.784305</td>\n",
       "      <td>5.180471</td>\n",
       "    </tr>\n",
       "    <tr>\n",
       "      <th>12</th>\n",
       "      <td>2012.0</td>\n",
       "      <td>-0.055986</td>\n",
       "      <td>-0.138644</td>\n",
       "      <td>-0.134729</td>\n",
       "      <td>3.658272</td>\n",
       "      <td>7.648544</td>\n",
       "      <td>-3.186697</td>\n",
       "      <td>-0.032778</td>\n",
       "      <td>-3.426438</td>\n",
       "      <td>5.333838</td>\n",
       "      <td>-2.841105</td>\n",
       "      <td>3.688704</td>\n",
       "      <td>0.972144</td>\n",
       "      <td>3.640017</td>\n",
       "      <td>1.753925</td>\n",
       "      <td>0.478425</td>\n",
       "      <td>11.146290</td>\n",
       "      <td>-7.816910</td>\n",
       "      <td>10.015664</td>\n",
       "    </tr>\n",
       "    <tr>\n",
       "      <th>13</th>\n",
       "      <td>2013.0</td>\n",
       "      <td>-3.609001</td>\n",
       "      <td>0.335974</td>\n",
       "      <td>1.748345</td>\n",
       "      <td>-1.963760</td>\n",
       "      <td>13.961444</td>\n",
       "      <td>-2.620459</td>\n",
       "      <td>-4.270069</td>\n",
       "      <td>-0.917978</td>\n",
       "      <td>-5.051030</td>\n",
       "      <td>-6.647036</td>\n",
       "      <td>0.607388</td>\n",
       "      <td>1.140622</td>\n",
       "      <td>-0.846368</td>\n",
       "      <td>20.107725</td>\n",
       "      <td>-4.117456</td>\n",
       "      <td>-13.670888</td>\n",
       "      <td>-3.355321</td>\n",
       "      <td>6.287801</td>\n",
       "    </tr>\n",
       "    <tr>\n",
       "      <th>14</th>\n",
       "      <td>2014.0</td>\n",
       "      <td>1.042019</td>\n",
       "      <td>4.624015</td>\n",
       "      <td>4.743348</td>\n",
       "      <td>5.157454</td>\n",
       "      <td>7.547762</td>\n",
       "      <td>1.603198</td>\n",
       "      <td>1.173452</td>\n",
       "      <td>0.922644</td>\n",
       "      <td>9.677406</td>\n",
       "      <td>1.952300</td>\n",
       "      <td>-1.439588</td>\n",
       "      <td>1.312565</td>\n",
       "      <td>2.397832</td>\n",
       "      <td>1.130486</td>\n",
       "      <td>0.000000</td>\n",
       "      <td>0.039964</td>\n",
       "      <td>4.616276</td>\n",
       "      <td>4.233162</td>\n",
       "    </tr>\n",
       "    <tr>\n",
       "      <th>15</th>\n",
       "      <td>2015.0</td>\n",
       "      <td>7.758701</td>\n",
       "      <td>5.482398</td>\n",
       "      <td>5.798559</td>\n",
       "      <td>-1.094849</td>\n",
       "      <td>10.292756</td>\n",
       "      <td>0.891875</td>\n",
       "      <td>1.300017</td>\n",
       "      <td>4.451676</td>\n",
       "      <td>0.645031</td>\n",
       "      <td>-0.134680</td>\n",
       "      <td>3.302347</td>\n",
       "      <td>6.374606</td>\n",
       "      <td>25.108574</td>\n",
       "      <td>0.987947</td>\n",
       "      <td>0.000000</td>\n",
       "      <td>0.000000</td>\n",
       "      <td>14.036262</td>\n",
       "      <td>8.840026</td>\n",
       "    </tr>\n",
       "    <tr>\n",
       "      <th>16</th>\n",
       "      <td>2016.0</td>\n",
       "      <td>9.237265</td>\n",
       "      <td>5.440983</td>\n",
       "      <td>21.722504</td>\n",
       "      <td>7.726801</td>\n",
       "      <td>22.205585</td>\n",
       "      <td>9.108781</td>\n",
       "      <td>5.705556</td>\n",
       "      <td>4.605929</td>\n",
       "      <td>0.766708</td>\n",
       "      <td>7.549899</td>\n",
       "      <td>1.866239</td>\n",
       "      <td>2.192538</td>\n",
       "      <td>55.668670</td>\n",
       "      <td>29.868751</td>\n",
       "      <td>3.128785</td>\n",
       "      <td>5.013952</td>\n",
       "      <td>1.733842</td>\n",
       "      <td>10.231375</td>\n",
       "    </tr>\n",
       "    <tr>\n",
       "      <th>17</th>\n",
       "      <td>2017.0</td>\n",
       "      <td>10.883234</td>\n",
       "      <td>4.647727</td>\n",
       "      <td>15.227550</td>\n",
       "      <td>9.090414</td>\n",
       "      <td>44.731813</td>\n",
       "      <td>2.254756</td>\n",
       "      <td>10.892403</td>\n",
       "      <td>3.137779</td>\n",
       "      <td>1.951179</td>\n",
       "      <td>8.665362</td>\n",
       "      <td>14.827977</td>\n",
       "      <td>6.481155</td>\n",
       "      <td>16.521997</td>\n",
       "      <td>0.436907</td>\n",
       "      <td>12.025918</td>\n",
       "      <td>7.493474</td>\n",
       "      <td>7.454686</td>\n",
       "      <td>3.974140</td>\n",
       "    </tr>\n",
       "    <tr>\n",
       "      <th>18</th>\n",
       "      <td>2018.0</td>\n",
       "      <td>12.932374</td>\n",
       "      <td>5.132564</td>\n",
       "      <td>24.744641</td>\n",
       "      <td>2.064570</td>\n",
       "      <td>14.694115</td>\n",
       "      <td>11.077911</td>\n",
       "      <td>12.255063</td>\n",
       "      <td>6.508335</td>\n",
       "      <td>8.713695</td>\n",
       "      <td>41.004695</td>\n",
       "      <td>75.695035</td>\n",
       "      <td>7.428937</td>\n",
       "      <td>15.452442</td>\n",
       "      <td>56.035916</td>\n",
       "      <td>9.184875</td>\n",
       "      <td>12.395368</td>\n",
       "      <td>7.187137</td>\n",
       "      <td>9.768895</td>\n",
       "    </tr>\n",
       "    <tr>\n",
       "      <th>19</th>\n",
       "      <td>2019.0</td>\n",
       "      <td>19.147507</td>\n",
       "      <td>11.489875</td>\n",
       "      <td>10.287789</td>\n",
       "      <td>11.794011</td>\n",
       "      <td>19.854590</td>\n",
       "      <td>3.925264</td>\n",
       "      <td>10.750297</td>\n",
       "      <td>6.331335</td>\n",
       "      <td>5.884257</td>\n",
       "      <td>18.879916</td>\n",
       "      <td>15.886995</td>\n",
       "      <td>10.220864</td>\n",
       "      <td>8.682312</td>\n",
       "      <td>-0.974809</td>\n",
       "      <td>16.494338</td>\n",
       "      <td>12.546833</td>\n",
       "      <td>11.969950</td>\n",
       "      <td>19.598677</td>\n",
       "    </tr>\n",
       "    <tr>\n",
       "      <th>20</th>\n",
       "      <td>2020.0</td>\n",
       "      <td>4.391010</td>\n",
       "      <td>2.751599</td>\n",
       "      <td>9.864680</td>\n",
       "      <td>4.735240</td>\n",
       "      <td>5.796921</td>\n",
       "      <td>12.291307</td>\n",
       "      <td>6.342884</td>\n",
       "      <td>4.529749</td>\n",
       "      <td>1.605430</td>\n",
       "      <td>9.787320</td>\n",
       "      <td>6.622897</td>\n",
       "      <td>2.879147</td>\n",
       "      <td>21.938919</td>\n",
       "      <td>5.395042</td>\n",
       "      <td>0.000000</td>\n",
       "      <td>0.199389</td>\n",
       "      <td>2.990785</td>\n",
       "      <td>5.465187</td>\n",
       "    </tr>\n",
       "  </tbody>\n",
       "</table>\n",
       "</div>"
      ],
      "text/plain": [
       "Neighborhood  TaxYear  10th & Page  Barracks / Rugby    Belmont  Fifeville  \\\n",
       "0              2000.0          NaN               NaN   0.000000   0.000000   \n",
       "1              2001.0    12.330926         13.264466  10.768891  22.772125   \n",
       "2              2002.0     6.461777         21.725294  14.047665   2.750167   \n",
       "3              2003.0     6.564581          9.932647  26.521113  17.699675   \n",
       "4              2004.0    23.854166         26.124662  22.021259  26.956372   \n",
       "5              2005.0    33.937581         16.145506  20.737868  30.152632   \n",
       "6              2006.0   146.474927         29.250460  23.388065  32.674264   \n",
       "7              2007.0    65.454366         13.004855  26.405608  39.076292   \n",
       "8              2008.0    10.778968          0.623103  17.404318   8.042071   \n",
       "9              2009.0    13.227847          0.969103   3.581260   9.527977   \n",
       "10             2010.0    -1.211840         -0.709734   0.680243   4.429255   \n",
       "11             2011.0     1.031526         -3.042749   1.711129   8.918293   \n",
       "12             2012.0    -0.055986         -0.138644  -0.134729   3.658272   \n",
       "13             2013.0    -3.609001          0.335974   1.748345  -1.963760   \n",
       "14             2014.0     1.042019          4.624015   4.743348   5.157454   \n",
       "15             2015.0     7.758701          5.482398   5.798559  -1.094849   \n",
       "16             2016.0     9.237265          5.440983  21.722504   7.726801   \n",
       "17             2017.0    10.883234          4.647727  15.227550   9.090414   \n",
       "18             2018.0    12.932374          5.132564  24.744641   2.064570   \n",
       "19             2019.0    19.147507         11.489875  10.287789  11.794011   \n",
       "20             2020.0     4.391010          2.751599   9.864680   4.735240   \n",
       "\n",
       "Neighborhood  Fry's Spring  Greenbrier  Jefferson Park Avenue  \\\n",
       "0                 0.000000         NaN                    NaN   \n",
       "1                17.986265   11.670610               9.429263   \n",
       "2                 8.989455   13.547884              12.286358   \n",
       "3                14.870534   11.283701              14.934453   \n",
       "4                15.501984   12.332569              16.033769   \n",
       "5                18.470342   11.760455              29.596694   \n",
       "6                22.469303   13.160700              27.580340   \n",
       "7                32.394879   19.777241              -0.136114   \n",
       "8                17.015322    0.601440               5.696487   \n",
       "9                -0.303942   -3.445151               0.846067   \n",
       "10               19.482644   -2.028196              -6.602604   \n",
       "11               10.432032    1.973315               0.000000   \n",
       "12                7.648544   -3.186697              -0.032778   \n",
       "13               13.961444   -2.620459              -4.270069   \n",
       "14                7.547762    1.603198               1.173452   \n",
       "15               10.292756    0.891875               1.300017   \n",
       "16               22.205585    9.108781               5.705556   \n",
       "17               44.731813    2.254756              10.892403   \n",
       "18               14.694115   11.077911              12.255063   \n",
       "19               19.854590    3.925264              10.750297   \n",
       "20                5.796921   12.291307               6.342884   \n",
       "\n",
       "Neighborhood  Johnson Village  Lewis Mountain  Locust Grove  Martha Jefferson  \\\n",
       "0                         NaN        0.000000           NaN          0.000000   \n",
       "1                   10.612508       10.371980     12.539350         16.987219   \n",
       "2                    8.408851       10.725593     11.687036          7.335425   \n",
       "3                   11.928126       18.375682     18.743434         18.728074   \n",
       "4                    8.539018       14.843972     17.464097         24.472109   \n",
       "5                   14.624653        9.667187     19.761015         15.584971   \n",
       "6                   19.063875       19.169825     40.620571         27.531611   \n",
       "7                   87.130240        6.140192     22.815708          8.454524   \n",
       "8                  168.559573        7.375769     12.701440          8.041718   \n",
       "9                   75.476091        4.491833     -0.037777          3.187117   \n",
       "10                  12.750288       -2.518117     -0.760462          2.332311   \n",
       "11                   3.634544        0.144329     -0.884930         -0.451444   \n",
       "12                  -3.426438        5.333838     -2.841105          3.688704   \n",
       "13                  -0.917978       -5.051030     -6.647036          0.607388   \n",
       "14                   0.922644        9.677406      1.952300         -1.439588   \n",
       "15                   4.451676        0.645031     -0.134680          3.302347   \n",
       "16                   4.605929        0.766708      7.549899          1.866239   \n",
       "17                   3.137779        1.951179      8.665362         14.827977   \n",
       "18                   6.508335        8.713695     41.004695         75.695035   \n",
       "19                   6.331335        5.884257     18.879916         15.886995   \n",
       "20                   4.529749        1.605430      9.787320          6.622897   \n",
       "\n",
       "Neighborhood  North Downtown  Ridge Street  Rose Hill  Starr Hill  \\\n",
       "0                        NaN           NaN        NaN         NaN   \n",
       "1                  12.214510     17.577612   5.337295    5.543787   \n",
       "2                  12.527233      9.080111  11.625124    1.820999   \n",
       "3                  13.580663     19.018642  37.414202   75.912697   \n",
       "4                  18.153420     14.668232  35.661843   17.320598   \n",
       "5                  32.941516    108.522473  14.737430   26.873748   \n",
       "6                  17.057519     54.220332  82.026701   16.160407   \n",
       "7                  13.959029     31.709260  11.122732   23.570938   \n",
       "8                   2.235699     70.896029   1.433992    8.870133   \n",
       "9                  -1.848181     38.121399   0.489095    5.746589   \n",
       "10                 -2.364321     19.376832   7.762347   -4.641453   \n",
       "11                  5.431242      3.162263 -14.944089    1.827715   \n",
       "12                  0.972144      3.640017   1.753925    0.478425   \n",
       "13                  1.140622     -0.846368  20.107725   -4.117456   \n",
       "14                  1.312565      2.397832   1.130486    0.000000   \n",
       "15                  6.374606     25.108574   0.987947    0.000000   \n",
       "16                  2.192538     55.668670  29.868751    3.128785   \n",
       "17                  6.481155     16.521997   0.436907   12.025918   \n",
       "18                  7.428937     15.452442  56.035916    9.184875   \n",
       "19                 10.220864      8.682312  -0.974809   16.494338   \n",
       "20                  2.879147     21.938919   5.395042    0.000000   \n",
       "\n",
       "Neighborhood  The Meadows    Venable  Woolen Mills  \n",
       "0                     NaN        NaN           NaN  \n",
       "1                4.632012   9.468975     20.137996  \n",
       "2               16.204516  11.717351     38.735454  \n",
       "3                5.631566  18.698994     27.550982  \n",
       "4               13.448818  19.670111     43.442870  \n",
       "5               12.216227  27.293340     21.464790  \n",
       "6               27.821313  53.297336     20.191353  \n",
       "7                7.809667  20.387914     37.931701  \n",
       "8                7.217783   2.556962      7.789060  \n",
       "9               -5.789377   5.781879      5.449337  \n",
       "10               0.133056  -0.063851      4.100092  \n",
       "11              -0.132213   4.784305      5.180471  \n",
       "12              11.146290  -7.816910     10.015664  \n",
       "13             -13.670888  -3.355321      6.287801  \n",
       "14               0.039964   4.616276      4.233162  \n",
       "15               0.000000  14.036262      8.840026  \n",
       "16               5.013952   1.733842     10.231375  \n",
       "17               7.493474   7.454686      3.974140  \n",
       "18              12.395368   7.187137      9.768895  \n",
       "19              12.546833  11.969950     19.598677  \n",
       "20               0.199389   2.990785      5.465187  "
      ]
     },
     "execution_count": 9,
     "metadata": {},
     "output_type": "execute_result"
    }
   ],
   "source": [
    "grouped = s_ass[['Neighborhood', 'TaxYear', 'PctChange']].groupby(['Neighborhood', 'TaxYear']).mean()\n",
    "unstacked=s_ass[['Neighborhood', 'TaxYear', 'PctChange']].groupby(['Neighborhood', 'TaxYear']).mean().unstack()\n",
    "avg=unstacked.drop(unstacked.columns[0], axis=1).mean(axis=1).reset_index()\n",
    "avg5 = unstacked.iloc[:,15:21].mean(axis=1).reset_index()\n",
    "avg5.rename(columns={0:\"Avg Pct Change 2015-2020\"}, inplace=True)\n",
    "\n",
    "avg.rename(columns={0:\"Avg Pct Change 2000-2020\"}, inplace=True)\n",
    "unstacked=unstacked.transpose().reset_index().drop(['level_0'], axis=1)\n",
    "unstacked"
   ]
  },
  {
   "cell_type": "markdown",
   "metadata": {},
   "source": [
    "# Plotting Data"
   ]
  },
  {
   "cell_type": "code",
   "execution_count": 10,
   "metadata": {
    "scrolled": true
   },
   "outputs": [],
   "source": [
    "avg20yr=px.bar(avg, x='Neighborhood',y='Avg Pct Change 2000-2020',color='Neighborhood')\n",
    "avg20yr.write_html(\"html/avg20yr_ass.html\")"
   ]
  },
  {
   "cell_type": "code",
   "execution_count": 11,
   "metadata": {},
   "outputs": [
    {
     "data": {
      "application/vnd.plotly.v1+json": {
       "config": {
        "plotlyServerURL": "https://plot.ly"
       },
       "data": [
        {
         "alignmentgroup": "True",
         "hovertemplate": "Neighborhood=%{x}<br>Avg Pct Change 2000-2020=%{y}<extra></extra>",
         "legendgroup": "10th & Page",
         "marker": {
          "color": "#636efa"
         },
         "name": "10th & Page",
         "offsetgroup": "10th & Page",
         "orientation": "v",
         "showlegend": true,
         "textposition": "auto",
         "type": "bar",
         "x": [
          "10th & Page"
         ],
         "xaxis": "x",
         "y": [
          19.03159747968075
         ],
         "yaxis": "y"
        },
        {
         "alignmentgroup": "True",
         "hovertemplate": "Neighborhood=%{x}<br>Avg Pct Change 2000-2020=%{y}<extra></extra>",
         "legendgroup": "Barracks / Rugby",
         "marker": {
          "color": "#EF553B"
         },
         "name": "Barracks / Rugby",
         "offsetgroup": "Barracks / Rugby",
         "orientation": "v",
         "showlegend": true,
         "textposition": "auto",
         "type": "bar",
         "x": [
          "Barracks / Rugby"
         ],
         "xaxis": "x",
         "y": [
          8.35270517511187
         ],
         "yaxis": "y"
        },
        {
         "alignmentgroup": "True",
         "hovertemplate": "Neighborhood=%{x}<br>Avg Pct Change 2000-2020=%{y}<extra></extra>",
         "legendgroup": "Belmont",
         "marker": {
          "color": "#00cc96"
         },
         "name": "Belmont",
         "offsetgroup": "Belmont",
         "orientation": "v",
         "showlegend": true,
         "textposition": "auto",
         "type": "bar",
         "x": [
          "Belmont"
         ],
         "xaxis": "x",
         "y": [
          13.06350530906422
         ],
         "yaxis": "y"
        },
        {
         "alignmentgroup": "True",
         "hovertemplate": "Neighborhood=%{x}<br>Avg Pct Change 2000-2020=%{y}<extra></extra>",
         "legendgroup": "Fifeville",
         "marker": {
          "color": "#ab63fa"
         },
         "name": "Fifeville",
         "offsetgroup": "Fifeville",
         "orientation": "v",
         "showlegend": true,
         "textposition": "auto",
         "type": "bar",
         "x": [
          "Fifeville"
         ],
         "xaxis": "x",
         "y": [
          12.208363865336413
         ],
         "yaxis": "y"
        },
        {
         "alignmentgroup": "True",
         "hovertemplate": "Neighborhood=%{x}<br>Avg Pct Change 2000-2020=%{y}<extra></extra>",
         "legendgroup": "Fry's Spring",
         "marker": {
          "color": "#FFA15A"
         },
         "name": "Fry's Spring",
         "offsetgroup": "Fry's Spring",
         "orientation": "v",
         "showlegend": true,
         "textposition": "auto",
         "type": "bar",
         "x": [
          "Fry's Spring"
         ],
         "xaxis": "x",
         "y": [
          16.20211736227556
         ],
         "yaxis": "y"
        },
        {
         "alignmentgroup": "True",
         "hovertemplate": "Neighborhood=%{x}<br>Avg Pct Change 2000-2020=%{y}<extra></extra>",
         "legendgroup": "Greenbrier",
         "marker": {
          "color": "#19d3f3"
         },
         "name": "Greenbrier",
         "offsetgroup": "Greenbrier",
         "orientation": "v",
         "showlegend": true,
         "textposition": "auto",
         "type": "bar",
         "x": [
          "Greenbrier"
         ],
         "xaxis": "x",
         "y": [
          6.299025191585342
         ],
         "yaxis": "y"
        },
        {
         "alignmentgroup": "True",
         "hovertemplate": "Neighborhood=%{x}<br>Avg Pct Change 2000-2020=%{y}<extra></extra>",
         "legendgroup": "Jefferson Park Avenue",
         "marker": {
          "color": "#FF6692"
         },
         "name": "Jefferson Park Avenue",
         "offsetgroup": "Jefferson Park Avenue",
         "orientation": "v",
         "showlegend": true,
         "textposition": "auto",
         "type": "bar",
         "x": [
          "Jefferson Park Avenue"
         ],
         "xaxis": "x",
         "y": [
          7.689076897421354
         ],
         "yaxis": "y"
        },
        {
         "alignmentgroup": "True",
         "hovertemplate": "Neighborhood=%{x}<br>Avg Pct Change 2000-2020=%{y}<extra></extra>",
         "legendgroup": "Johnson Village",
         "marker": {
          "color": "#B6E880"
         },
         "name": "Johnson Village",
         "offsetgroup": "Johnson Village",
         "orientation": "v",
         "showlegend": true,
         "textposition": "auto",
         "type": "bar",
         "x": [
          "Johnson Village"
         ],
         "xaxis": "x",
         "y": [
          22.34353988275739
         ],
         "yaxis": "y"
        },
        {
         "alignmentgroup": "True",
         "hovertemplate": "Neighborhood=%{x}<br>Avg Pct Change 2000-2020=%{y}<extra></extra>",
         "legendgroup": "Lewis Mountain",
         "marker": {
          "color": "#FF97FF"
         },
         "name": "Lewis Mountain",
         "offsetgroup": "Lewis Mountain",
         "orientation": "v",
         "showlegend": true,
         "textposition": "auto",
         "type": "bar",
         "x": [
          "Lewis Mountain"
         ],
         "xaxis": "x",
         "y": [
          6.4157380187559045
         ],
         "yaxis": "y"
        },
        {
         "alignmentgroup": "True",
         "hovertemplate": "Neighborhood=%{x}<br>Avg Pct Change 2000-2020=%{y}<extra></extra>",
         "legendgroup": "Locust Grove",
         "marker": {
          "color": "#FECB52"
         },
         "name": "Locust Grove",
         "offsetgroup": "Locust Grove",
         "orientation": "v",
         "showlegend": true,
         "textposition": "auto",
         "type": "bar",
         "x": [
          "Locust Grove"
         ],
         "xaxis": "x",
         "y": [
          11.643307703257964
         ],
         "yaxis": "y"
        },
        {
         "alignmentgroup": "True",
         "hovertemplate": "Neighborhood=%{x}<br>Avg Pct Change 2000-2020=%{y}<extra></extra>",
         "legendgroup": "Martha Jefferson",
         "marker": {
          "color": "#636efa"
         },
         "name": "Martha Jefferson",
         "offsetgroup": "Martha Jefferson",
         "orientation": "v",
         "showlegend": true,
         "textposition": "auto",
         "type": "bar",
         "x": [
          "Martha Jefferson"
         ],
         "xaxis": "x",
         "y": [
          12.663081556935532
         ],
         "yaxis": "y"
        },
        {
         "alignmentgroup": "True",
         "hovertemplate": "Neighborhood=%{x}<br>Avg Pct Change 2000-2020=%{y}<extra></extra>",
         "legendgroup": "North Downtown",
         "marker": {
          "color": "#EF553B"
         },
         "name": "North Downtown",
         "offsetgroup": "North Downtown",
         "orientation": "v",
         "showlegend": true,
         "textposition": "auto",
         "type": "bar",
         "x": [
          "North Downtown"
         ],
         "xaxis": "x",
         "y": [
          8.144545377828802
         ],
         "yaxis": "y"
        },
        {
         "alignmentgroup": "True",
         "hovertemplate": "Neighborhood=%{x}<br>Avg Pct Change 2000-2020=%{y}<extra></extra>",
         "legendgroup": "Ridge Street",
         "marker": {
          "color": "#00cc96"
         },
         "name": "Ridge Street",
         "offsetgroup": "Ridge Street",
         "orientation": "v",
         "showlegend": true,
         "textposition": "auto",
         "type": "bar",
         "x": [
          "Ridge Street"
         ],
         "xaxis": "x",
         "y": [
          26.745879082921352
         ],
         "yaxis": "y"
        },
        {
         "alignmentgroup": "True",
         "hovertemplate": "Neighborhood=%{x}<br>Avg Pct Change 2000-2020=%{y}<extra></extra>",
         "legendgroup": "Rose Hill",
         "marker": {
          "color": "#ab63fa"
         },
         "name": "Rose Hill",
         "offsetgroup": "Rose Hill",
         "orientation": "v",
         "showlegend": true,
         "textposition": "auto",
         "type": "bar",
         "x": [
          "Rose Hill"
         ],
         "xaxis": "x",
         "y": [
          15.370428138780165
         ],
         "yaxis": "y"
        },
        {
         "alignmentgroup": "True",
         "hovertemplate": "Neighborhood=%{x}<br>Avg Pct Change 2000-2020=%{y}<extra></extra>",
         "legendgroup": "Starr Hill",
         "marker": {
          "color": "#FFA15A"
         },
         "name": "Starr Hill",
         "offsetgroup": "Starr Hill",
         "orientation": "v",
         "showlegend": true,
         "textposition": "auto",
         "type": "bar",
         "x": [
          "Starr Hill"
         ],
         "xaxis": "x",
         "y": [
          10.810052196294512
         ],
         "yaxis": "y"
        },
        {
         "alignmentgroup": "True",
         "hovertemplate": "Neighborhood=%{x}<br>Avg Pct Change 2000-2020=%{y}<extra></extra>",
         "legendgroup": "The Meadows",
         "marker": {
          "color": "#19d3f3"
         },
         "name": "The Meadows",
         "offsetgroup": "The Meadows",
         "orientation": "v",
         "showlegend": true,
         "textposition": "auto",
         "type": "bar",
         "x": [
          "The Meadows"
         ],
         "xaxis": "x",
         "y": [
          6.217887492515111
         ],
         "yaxis": "y"
        },
        {
         "alignmentgroup": "True",
         "hovertemplate": "Neighborhood=%{x}<br>Avg Pct Change 2000-2020=%{y}<extra></extra>",
         "legendgroup": "Venable",
         "marker": {
          "color": "#FF6692"
         },
         "name": "Venable",
         "offsetgroup": "Venable",
         "orientation": "v",
         "showlegend": true,
         "textposition": "auto",
         "type": "bar",
         "x": [
          "Venable"
         ],
         "xaxis": "x",
         "y": [
          10.620501157611193
         ],
         "yaxis": "y"
        },
        {
         "alignmentgroup": "True",
         "hovertemplate": "Neighborhood=%{x}<br>Avg Pct Change 2000-2020=%{y}<extra></extra>",
         "legendgroup": "Woolen Mills",
         "marker": {
          "color": "#B6E880"
         },
         "name": "Woolen Mills",
         "offsetgroup": "Woolen Mills",
         "orientation": "v",
         "showlegend": true,
         "textposition": "auto",
         "type": "bar",
         "x": [
          "Woolen Mills"
         ],
         "xaxis": "x",
         "y": [
          15.519451656201596
         ],
         "yaxis": "y"
        }
       ],
       "layout": {
        "barmode": "relative",
        "legend": {
         "title": {
          "text": "Neighborhood"
         },
         "tracegroupgap": 0
        },
        "margin": {
         "t": 60
        },
        "template": {
         "data": {
          "bar": [
           {
            "error_x": {
             "color": "#2a3f5f"
            },
            "error_y": {
             "color": "#2a3f5f"
            },
            "marker": {
             "line": {
              "color": "#E5ECF6",
              "width": 0.5
             }
            },
            "type": "bar"
           }
          ],
          "barpolar": [
           {
            "marker": {
             "line": {
              "color": "#E5ECF6",
              "width": 0.5
             }
            },
            "type": "barpolar"
           }
          ],
          "carpet": [
           {
            "aaxis": {
             "endlinecolor": "#2a3f5f",
             "gridcolor": "white",
             "linecolor": "white",
             "minorgridcolor": "white",
             "startlinecolor": "#2a3f5f"
            },
            "baxis": {
             "endlinecolor": "#2a3f5f",
             "gridcolor": "white",
             "linecolor": "white",
             "minorgridcolor": "white",
             "startlinecolor": "#2a3f5f"
            },
            "type": "carpet"
           }
          ],
          "choropleth": [
           {
            "colorbar": {
             "outlinewidth": 0,
             "ticks": ""
            },
            "type": "choropleth"
           }
          ],
          "contour": [
           {
            "colorbar": {
             "outlinewidth": 0,
             "ticks": ""
            },
            "colorscale": [
             [
              0,
              "#0d0887"
             ],
             [
              0.1111111111111111,
              "#46039f"
             ],
             [
              0.2222222222222222,
              "#7201a8"
             ],
             [
              0.3333333333333333,
              "#9c179e"
             ],
             [
              0.4444444444444444,
              "#bd3786"
             ],
             [
              0.5555555555555556,
              "#d8576b"
             ],
             [
              0.6666666666666666,
              "#ed7953"
             ],
             [
              0.7777777777777778,
              "#fb9f3a"
             ],
             [
              0.8888888888888888,
              "#fdca26"
             ],
             [
              1,
              "#f0f921"
             ]
            ],
            "type": "contour"
           }
          ],
          "contourcarpet": [
           {
            "colorbar": {
             "outlinewidth": 0,
             "ticks": ""
            },
            "type": "contourcarpet"
           }
          ],
          "heatmap": [
           {
            "colorbar": {
             "outlinewidth": 0,
             "ticks": ""
            },
            "colorscale": [
             [
              0,
              "#0d0887"
             ],
             [
              0.1111111111111111,
              "#46039f"
             ],
             [
              0.2222222222222222,
              "#7201a8"
             ],
             [
              0.3333333333333333,
              "#9c179e"
             ],
             [
              0.4444444444444444,
              "#bd3786"
             ],
             [
              0.5555555555555556,
              "#d8576b"
             ],
             [
              0.6666666666666666,
              "#ed7953"
             ],
             [
              0.7777777777777778,
              "#fb9f3a"
             ],
             [
              0.8888888888888888,
              "#fdca26"
             ],
             [
              1,
              "#f0f921"
             ]
            ],
            "type": "heatmap"
           }
          ],
          "heatmapgl": [
           {
            "colorbar": {
             "outlinewidth": 0,
             "ticks": ""
            },
            "colorscale": [
             [
              0,
              "#0d0887"
             ],
             [
              0.1111111111111111,
              "#46039f"
             ],
             [
              0.2222222222222222,
              "#7201a8"
             ],
             [
              0.3333333333333333,
              "#9c179e"
             ],
             [
              0.4444444444444444,
              "#bd3786"
             ],
             [
              0.5555555555555556,
              "#d8576b"
             ],
             [
              0.6666666666666666,
              "#ed7953"
             ],
             [
              0.7777777777777778,
              "#fb9f3a"
             ],
             [
              0.8888888888888888,
              "#fdca26"
             ],
             [
              1,
              "#f0f921"
             ]
            ],
            "type": "heatmapgl"
           }
          ],
          "histogram": [
           {
            "marker": {
             "colorbar": {
              "outlinewidth": 0,
              "ticks": ""
             }
            },
            "type": "histogram"
           }
          ],
          "histogram2d": [
           {
            "colorbar": {
             "outlinewidth": 0,
             "ticks": ""
            },
            "colorscale": [
             [
              0,
              "#0d0887"
             ],
             [
              0.1111111111111111,
              "#46039f"
             ],
             [
              0.2222222222222222,
              "#7201a8"
             ],
             [
              0.3333333333333333,
              "#9c179e"
             ],
             [
              0.4444444444444444,
              "#bd3786"
             ],
             [
              0.5555555555555556,
              "#d8576b"
             ],
             [
              0.6666666666666666,
              "#ed7953"
             ],
             [
              0.7777777777777778,
              "#fb9f3a"
             ],
             [
              0.8888888888888888,
              "#fdca26"
             ],
             [
              1,
              "#f0f921"
             ]
            ],
            "type": "histogram2d"
           }
          ],
          "histogram2dcontour": [
           {
            "colorbar": {
             "outlinewidth": 0,
             "ticks": ""
            },
            "colorscale": [
             [
              0,
              "#0d0887"
             ],
             [
              0.1111111111111111,
              "#46039f"
             ],
             [
              0.2222222222222222,
              "#7201a8"
             ],
             [
              0.3333333333333333,
              "#9c179e"
             ],
             [
              0.4444444444444444,
              "#bd3786"
             ],
             [
              0.5555555555555556,
              "#d8576b"
             ],
             [
              0.6666666666666666,
              "#ed7953"
             ],
             [
              0.7777777777777778,
              "#fb9f3a"
             ],
             [
              0.8888888888888888,
              "#fdca26"
             ],
             [
              1,
              "#f0f921"
             ]
            ],
            "type": "histogram2dcontour"
           }
          ],
          "mesh3d": [
           {
            "colorbar": {
             "outlinewidth": 0,
             "ticks": ""
            },
            "type": "mesh3d"
           }
          ],
          "parcoords": [
           {
            "line": {
             "colorbar": {
              "outlinewidth": 0,
              "ticks": ""
             }
            },
            "type": "parcoords"
           }
          ],
          "pie": [
           {
            "automargin": true,
            "type": "pie"
           }
          ],
          "scatter": [
           {
            "marker": {
             "colorbar": {
              "outlinewidth": 0,
              "ticks": ""
             }
            },
            "type": "scatter"
           }
          ],
          "scatter3d": [
           {
            "line": {
             "colorbar": {
              "outlinewidth": 0,
              "ticks": ""
             }
            },
            "marker": {
             "colorbar": {
              "outlinewidth": 0,
              "ticks": ""
             }
            },
            "type": "scatter3d"
           }
          ],
          "scattercarpet": [
           {
            "marker": {
             "colorbar": {
              "outlinewidth": 0,
              "ticks": ""
             }
            },
            "type": "scattercarpet"
           }
          ],
          "scattergeo": [
           {
            "marker": {
             "colorbar": {
              "outlinewidth": 0,
              "ticks": ""
             }
            },
            "type": "scattergeo"
           }
          ],
          "scattergl": [
           {
            "marker": {
             "colorbar": {
              "outlinewidth": 0,
              "ticks": ""
             }
            },
            "type": "scattergl"
           }
          ],
          "scattermapbox": [
           {
            "marker": {
             "colorbar": {
              "outlinewidth": 0,
              "ticks": ""
             }
            },
            "type": "scattermapbox"
           }
          ],
          "scatterpolar": [
           {
            "marker": {
             "colorbar": {
              "outlinewidth": 0,
              "ticks": ""
             }
            },
            "type": "scatterpolar"
           }
          ],
          "scatterpolargl": [
           {
            "marker": {
             "colorbar": {
              "outlinewidth": 0,
              "ticks": ""
             }
            },
            "type": "scatterpolargl"
           }
          ],
          "scatterternary": [
           {
            "marker": {
             "colorbar": {
              "outlinewidth": 0,
              "ticks": ""
             }
            },
            "type": "scatterternary"
           }
          ],
          "surface": [
           {
            "colorbar": {
             "outlinewidth": 0,
             "ticks": ""
            },
            "colorscale": [
             [
              0,
              "#0d0887"
             ],
             [
              0.1111111111111111,
              "#46039f"
             ],
             [
              0.2222222222222222,
              "#7201a8"
             ],
             [
              0.3333333333333333,
              "#9c179e"
             ],
             [
              0.4444444444444444,
              "#bd3786"
             ],
             [
              0.5555555555555556,
              "#d8576b"
             ],
             [
              0.6666666666666666,
              "#ed7953"
             ],
             [
              0.7777777777777778,
              "#fb9f3a"
             ],
             [
              0.8888888888888888,
              "#fdca26"
             ],
             [
              1,
              "#f0f921"
             ]
            ],
            "type": "surface"
           }
          ],
          "table": [
           {
            "cells": {
             "fill": {
              "color": "#EBF0F8"
             },
             "line": {
              "color": "white"
             }
            },
            "header": {
             "fill": {
              "color": "#C8D4E3"
             },
             "line": {
              "color": "white"
             }
            },
            "type": "table"
           }
          ]
         },
         "layout": {
          "annotationdefaults": {
           "arrowcolor": "#2a3f5f",
           "arrowhead": 0,
           "arrowwidth": 1
          },
          "coloraxis": {
           "colorbar": {
            "outlinewidth": 0,
            "ticks": ""
           }
          },
          "colorscale": {
           "diverging": [
            [
             0,
             "#8e0152"
            ],
            [
             0.1,
             "#c51b7d"
            ],
            [
             0.2,
             "#de77ae"
            ],
            [
             0.3,
             "#f1b6da"
            ],
            [
             0.4,
             "#fde0ef"
            ],
            [
             0.5,
             "#f7f7f7"
            ],
            [
             0.6,
             "#e6f5d0"
            ],
            [
             0.7,
             "#b8e186"
            ],
            [
             0.8,
             "#7fbc41"
            ],
            [
             0.9,
             "#4d9221"
            ],
            [
             1,
             "#276419"
            ]
           ],
           "sequential": [
            [
             0,
             "#0d0887"
            ],
            [
             0.1111111111111111,
             "#46039f"
            ],
            [
             0.2222222222222222,
             "#7201a8"
            ],
            [
             0.3333333333333333,
             "#9c179e"
            ],
            [
             0.4444444444444444,
             "#bd3786"
            ],
            [
             0.5555555555555556,
             "#d8576b"
            ],
            [
             0.6666666666666666,
             "#ed7953"
            ],
            [
             0.7777777777777778,
             "#fb9f3a"
            ],
            [
             0.8888888888888888,
             "#fdca26"
            ],
            [
             1,
             "#f0f921"
            ]
           ],
           "sequentialminus": [
            [
             0,
             "#0d0887"
            ],
            [
             0.1111111111111111,
             "#46039f"
            ],
            [
             0.2222222222222222,
             "#7201a8"
            ],
            [
             0.3333333333333333,
             "#9c179e"
            ],
            [
             0.4444444444444444,
             "#bd3786"
            ],
            [
             0.5555555555555556,
             "#d8576b"
            ],
            [
             0.6666666666666666,
             "#ed7953"
            ],
            [
             0.7777777777777778,
             "#fb9f3a"
            ],
            [
             0.8888888888888888,
             "#fdca26"
            ],
            [
             1,
             "#f0f921"
            ]
           ]
          },
          "colorway": [
           "#636efa",
           "#EF553B",
           "#00cc96",
           "#ab63fa",
           "#FFA15A",
           "#19d3f3",
           "#FF6692",
           "#B6E880",
           "#FF97FF",
           "#FECB52"
          ],
          "font": {
           "color": "#2a3f5f"
          },
          "geo": {
           "bgcolor": "white",
           "lakecolor": "white",
           "landcolor": "#E5ECF6",
           "showlakes": true,
           "showland": true,
           "subunitcolor": "white"
          },
          "hoverlabel": {
           "align": "left"
          },
          "hovermode": "closest",
          "mapbox": {
           "style": "light"
          },
          "paper_bgcolor": "white",
          "plot_bgcolor": "#E5ECF6",
          "polar": {
           "angularaxis": {
            "gridcolor": "white",
            "linecolor": "white",
            "ticks": ""
           },
           "bgcolor": "#E5ECF6",
           "radialaxis": {
            "gridcolor": "white",
            "linecolor": "white",
            "ticks": ""
           }
          },
          "scene": {
           "xaxis": {
            "backgroundcolor": "#E5ECF6",
            "gridcolor": "white",
            "gridwidth": 2,
            "linecolor": "white",
            "showbackground": true,
            "ticks": "",
            "zerolinecolor": "white"
           },
           "yaxis": {
            "backgroundcolor": "#E5ECF6",
            "gridcolor": "white",
            "gridwidth": 2,
            "linecolor": "white",
            "showbackground": true,
            "ticks": "",
            "zerolinecolor": "white"
           },
           "zaxis": {
            "backgroundcolor": "#E5ECF6",
            "gridcolor": "white",
            "gridwidth": 2,
            "linecolor": "white",
            "showbackground": true,
            "ticks": "",
            "zerolinecolor": "white"
           }
          },
          "shapedefaults": {
           "line": {
            "color": "#2a3f5f"
           }
          },
          "ternary": {
           "aaxis": {
            "gridcolor": "white",
            "linecolor": "white",
            "ticks": ""
           },
           "baxis": {
            "gridcolor": "white",
            "linecolor": "white",
            "ticks": ""
           },
           "bgcolor": "#E5ECF6",
           "caxis": {
            "gridcolor": "white",
            "linecolor": "white",
            "ticks": ""
           }
          },
          "title": {
           "x": 0.05
          },
          "xaxis": {
           "automargin": true,
           "gridcolor": "white",
           "linecolor": "white",
           "ticks": "",
           "title": {
            "standoff": 15
           },
           "zerolinecolor": "white",
           "zerolinewidth": 2
          },
          "yaxis": {
           "automargin": true,
           "gridcolor": "white",
           "linecolor": "white",
           "ticks": "",
           "title": {
            "standoff": 15
           },
           "zerolinecolor": "white",
           "zerolinewidth": 2
          }
         }
        },
        "xaxis": {
         "anchor": "y",
         "categoryarray": [
          "10th & Page",
          "Barracks / Rugby",
          "Belmont",
          "Fifeville",
          "Fry's Spring",
          "Greenbrier",
          "Jefferson Park Avenue",
          "Johnson Village",
          "Lewis Mountain",
          "Locust Grove",
          "Martha Jefferson",
          "North Downtown",
          "Ridge Street",
          "Rose Hill",
          "Starr Hill",
          "The Meadows",
          "Venable",
          "Woolen Mills"
         ],
         "categoryorder": "array",
         "domain": [
          0,
          1
         ],
         "title": {
          "text": "Neighborhood"
         }
        },
        "yaxis": {
         "anchor": "x",
         "domain": [
          0,
          1
         ],
         "title": {
          "text": "Avg Pct Change 2000-2020"
         }
        }
       }
      },
      "text/html": [
       "<div>\n",
       "        \n",
       "        \n",
       "            <div id=\"2219469a-cb63-4541-a63f-834868bf84e3\" class=\"plotly-graph-div\" style=\"height:525px; width:100%;\"></div>\n",
       "            <script type=\"text/javascript\">\n",
       "                require([\"plotly\"], function(Plotly) {\n",
       "                    window.PLOTLYENV=window.PLOTLYENV || {};\n",
       "                    \n",
       "                if (document.getElementById(\"2219469a-cb63-4541-a63f-834868bf84e3\")) {\n",
       "                    Plotly.newPlot(\n",
       "                        '2219469a-cb63-4541-a63f-834868bf84e3',\n",
       "                        [{\"alignmentgroup\": \"True\", \"hovertemplate\": \"Neighborhood=%{x}<br>Avg Pct Change 2000-2020=%{y}<extra></extra>\", \"legendgroup\": \"10th & Page\", \"marker\": {\"color\": \"#636efa\"}, \"name\": \"10th & Page\", \"offsetgroup\": \"10th & Page\", \"orientation\": \"v\", \"showlegend\": true, \"textposition\": \"auto\", \"type\": \"bar\", \"x\": [\"10th & Page\"], \"xaxis\": \"x\", \"y\": [19.03159747968075], \"yaxis\": \"y\"}, {\"alignmentgroup\": \"True\", \"hovertemplate\": \"Neighborhood=%{x}<br>Avg Pct Change 2000-2020=%{y}<extra></extra>\", \"legendgroup\": \"Barracks / Rugby\", \"marker\": {\"color\": \"#EF553B\"}, \"name\": \"Barracks / Rugby\", \"offsetgroup\": \"Barracks / Rugby\", \"orientation\": \"v\", \"showlegend\": true, \"textposition\": \"auto\", \"type\": \"bar\", \"x\": [\"Barracks / Rugby\"], \"xaxis\": \"x\", \"y\": [8.35270517511187], \"yaxis\": \"y\"}, {\"alignmentgroup\": \"True\", \"hovertemplate\": \"Neighborhood=%{x}<br>Avg Pct Change 2000-2020=%{y}<extra></extra>\", \"legendgroup\": \"Belmont\", \"marker\": {\"color\": \"#00cc96\"}, \"name\": \"Belmont\", \"offsetgroup\": \"Belmont\", \"orientation\": \"v\", \"showlegend\": true, \"textposition\": \"auto\", \"type\": \"bar\", \"x\": [\"Belmont\"], \"xaxis\": \"x\", \"y\": [13.06350530906422], \"yaxis\": \"y\"}, {\"alignmentgroup\": \"True\", \"hovertemplate\": \"Neighborhood=%{x}<br>Avg Pct Change 2000-2020=%{y}<extra></extra>\", \"legendgroup\": \"Fifeville\", \"marker\": {\"color\": \"#ab63fa\"}, \"name\": \"Fifeville\", \"offsetgroup\": \"Fifeville\", \"orientation\": \"v\", \"showlegend\": true, \"textposition\": \"auto\", \"type\": \"bar\", \"x\": [\"Fifeville\"], \"xaxis\": \"x\", \"y\": [12.208363865336413], \"yaxis\": \"y\"}, {\"alignmentgroup\": \"True\", \"hovertemplate\": \"Neighborhood=%{x}<br>Avg Pct Change 2000-2020=%{y}<extra></extra>\", \"legendgroup\": \"Fry's Spring\", \"marker\": {\"color\": \"#FFA15A\"}, \"name\": \"Fry's Spring\", \"offsetgroup\": \"Fry's Spring\", \"orientation\": \"v\", \"showlegend\": true, \"textposition\": \"auto\", \"type\": \"bar\", \"x\": [\"Fry's Spring\"], \"xaxis\": \"x\", \"y\": [16.20211736227556], \"yaxis\": \"y\"}, {\"alignmentgroup\": \"True\", \"hovertemplate\": \"Neighborhood=%{x}<br>Avg Pct Change 2000-2020=%{y}<extra></extra>\", \"legendgroup\": \"Greenbrier\", \"marker\": {\"color\": \"#19d3f3\"}, \"name\": \"Greenbrier\", \"offsetgroup\": \"Greenbrier\", \"orientation\": \"v\", \"showlegend\": true, \"textposition\": \"auto\", \"type\": \"bar\", \"x\": [\"Greenbrier\"], \"xaxis\": \"x\", \"y\": [6.299025191585342], \"yaxis\": \"y\"}, {\"alignmentgroup\": \"True\", \"hovertemplate\": \"Neighborhood=%{x}<br>Avg Pct Change 2000-2020=%{y}<extra></extra>\", \"legendgroup\": \"Jefferson Park Avenue\", \"marker\": {\"color\": \"#FF6692\"}, \"name\": \"Jefferson Park Avenue\", \"offsetgroup\": \"Jefferson Park Avenue\", \"orientation\": \"v\", \"showlegend\": true, \"textposition\": \"auto\", \"type\": \"bar\", \"x\": [\"Jefferson Park Avenue\"], \"xaxis\": \"x\", \"y\": [7.689076897421354], \"yaxis\": \"y\"}, {\"alignmentgroup\": \"True\", \"hovertemplate\": \"Neighborhood=%{x}<br>Avg Pct Change 2000-2020=%{y}<extra></extra>\", \"legendgroup\": \"Johnson Village\", \"marker\": {\"color\": \"#B6E880\"}, \"name\": \"Johnson Village\", \"offsetgroup\": \"Johnson Village\", \"orientation\": \"v\", \"showlegend\": true, \"textposition\": \"auto\", \"type\": \"bar\", \"x\": [\"Johnson Village\"], \"xaxis\": \"x\", \"y\": [22.34353988275739], \"yaxis\": \"y\"}, {\"alignmentgroup\": \"True\", \"hovertemplate\": \"Neighborhood=%{x}<br>Avg Pct Change 2000-2020=%{y}<extra></extra>\", \"legendgroup\": \"Lewis Mountain\", \"marker\": {\"color\": \"#FF97FF\"}, \"name\": \"Lewis Mountain\", \"offsetgroup\": \"Lewis Mountain\", \"orientation\": \"v\", \"showlegend\": true, \"textposition\": \"auto\", \"type\": \"bar\", \"x\": [\"Lewis Mountain\"], \"xaxis\": \"x\", \"y\": [6.4157380187559045], \"yaxis\": \"y\"}, {\"alignmentgroup\": \"True\", \"hovertemplate\": \"Neighborhood=%{x}<br>Avg Pct Change 2000-2020=%{y}<extra></extra>\", \"legendgroup\": \"Locust Grove\", \"marker\": {\"color\": \"#FECB52\"}, \"name\": \"Locust Grove\", \"offsetgroup\": \"Locust Grove\", \"orientation\": \"v\", \"showlegend\": true, \"textposition\": \"auto\", \"type\": \"bar\", \"x\": [\"Locust Grove\"], \"xaxis\": \"x\", \"y\": [11.643307703257964], \"yaxis\": \"y\"}, {\"alignmentgroup\": \"True\", \"hovertemplate\": \"Neighborhood=%{x}<br>Avg Pct Change 2000-2020=%{y}<extra></extra>\", \"legendgroup\": \"Martha Jefferson\", \"marker\": {\"color\": \"#636efa\"}, \"name\": \"Martha Jefferson\", \"offsetgroup\": \"Martha Jefferson\", \"orientation\": \"v\", \"showlegend\": true, \"textposition\": \"auto\", \"type\": \"bar\", \"x\": [\"Martha Jefferson\"], \"xaxis\": \"x\", \"y\": [12.663081556935532], \"yaxis\": \"y\"}, {\"alignmentgroup\": \"True\", \"hovertemplate\": \"Neighborhood=%{x}<br>Avg Pct Change 2000-2020=%{y}<extra></extra>\", \"legendgroup\": \"North Downtown\", \"marker\": {\"color\": \"#EF553B\"}, \"name\": \"North Downtown\", \"offsetgroup\": \"North Downtown\", \"orientation\": \"v\", \"showlegend\": true, \"textposition\": \"auto\", \"type\": \"bar\", \"x\": [\"North Downtown\"], \"xaxis\": \"x\", \"y\": [8.144545377828802], \"yaxis\": \"y\"}, {\"alignmentgroup\": \"True\", \"hovertemplate\": \"Neighborhood=%{x}<br>Avg Pct Change 2000-2020=%{y}<extra></extra>\", \"legendgroup\": \"Ridge Street\", \"marker\": {\"color\": \"#00cc96\"}, \"name\": \"Ridge Street\", \"offsetgroup\": \"Ridge Street\", \"orientation\": \"v\", \"showlegend\": true, \"textposition\": \"auto\", \"type\": \"bar\", \"x\": [\"Ridge Street\"], \"xaxis\": \"x\", \"y\": [26.745879082921352], \"yaxis\": \"y\"}, {\"alignmentgroup\": \"True\", \"hovertemplate\": \"Neighborhood=%{x}<br>Avg Pct Change 2000-2020=%{y}<extra></extra>\", \"legendgroup\": \"Rose Hill\", \"marker\": {\"color\": \"#ab63fa\"}, \"name\": \"Rose Hill\", \"offsetgroup\": \"Rose Hill\", \"orientation\": \"v\", \"showlegend\": true, \"textposition\": \"auto\", \"type\": \"bar\", \"x\": [\"Rose Hill\"], \"xaxis\": \"x\", \"y\": [15.370428138780165], \"yaxis\": \"y\"}, {\"alignmentgroup\": \"True\", \"hovertemplate\": \"Neighborhood=%{x}<br>Avg Pct Change 2000-2020=%{y}<extra></extra>\", \"legendgroup\": \"Starr Hill\", \"marker\": {\"color\": \"#FFA15A\"}, \"name\": \"Starr Hill\", \"offsetgroup\": \"Starr Hill\", \"orientation\": \"v\", \"showlegend\": true, \"textposition\": \"auto\", \"type\": \"bar\", \"x\": [\"Starr Hill\"], \"xaxis\": \"x\", \"y\": [10.810052196294512], \"yaxis\": \"y\"}, {\"alignmentgroup\": \"True\", \"hovertemplate\": \"Neighborhood=%{x}<br>Avg Pct Change 2000-2020=%{y}<extra></extra>\", \"legendgroup\": \"The Meadows\", \"marker\": {\"color\": \"#19d3f3\"}, \"name\": \"The Meadows\", \"offsetgroup\": \"The Meadows\", \"orientation\": \"v\", \"showlegend\": true, \"textposition\": \"auto\", \"type\": \"bar\", \"x\": [\"The Meadows\"], \"xaxis\": \"x\", \"y\": [6.217887492515111], \"yaxis\": \"y\"}, {\"alignmentgroup\": \"True\", \"hovertemplate\": \"Neighborhood=%{x}<br>Avg Pct Change 2000-2020=%{y}<extra></extra>\", \"legendgroup\": \"Venable\", \"marker\": {\"color\": \"#FF6692\"}, \"name\": \"Venable\", \"offsetgroup\": \"Venable\", \"orientation\": \"v\", \"showlegend\": true, \"textposition\": \"auto\", \"type\": \"bar\", \"x\": [\"Venable\"], \"xaxis\": \"x\", \"y\": [10.620501157611193], \"yaxis\": \"y\"}, {\"alignmentgroup\": \"True\", \"hovertemplate\": \"Neighborhood=%{x}<br>Avg Pct Change 2000-2020=%{y}<extra></extra>\", \"legendgroup\": \"Woolen Mills\", \"marker\": {\"color\": \"#B6E880\"}, \"name\": \"Woolen Mills\", \"offsetgroup\": \"Woolen Mills\", \"orientation\": \"v\", \"showlegend\": true, \"textposition\": \"auto\", \"type\": \"bar\", \"x\": [\"Woolen Mills\"], \"xaxis\": \"x\", \"y\": [15.519451656201596], \"yaxis\": \"y\"}],\n",
       "                        {\"barmode\": \"relative\", \"legend\": {\"title\": {\"text\": \"Neighborhood\"}, \"tracegroupgap\": 0}, \"margin\": {\"t\": 60}, \"template\": {\"data\": {\"bar\": [{\"error_x\": {\"color\": \"#2a3f5f\"}, \"error_y\": {\"color\": \"#2a3f5f\"}, \"marker\": {\"line\": {\"color\": \"#E5ECF6\", \"width\": 0.5}}, \"type\": \"bar\"}], \"barpolar\": [{\"marker\": {\"line\": {\"color\": \"#E5ECF6\", \"width\": 0.5}}, \"type\": \"barpolar\"}], \"carpet\": [{\"aaxis\": {\"endlinecolor\": \"#2a3f5f\", \"gridcolor\": \"white\", \"linecolor\": \"white\", \"minorgridcolor\": \"white\", \"startlinecolor\": \"#2a3f5f\"}, \"baxis\": {\"endlinecolor\": \"#2a3f5f\", \"gridcolor\": \"white\", \"linecolor\": \"white\", \"minorgridcolor\": \"white\", \"startlinecolor\": \"#2a3f5f\"}, \"type\": \"carpet\"}], \"choropleth\": [{\"colorbar\": {\"outlinewidth\": 0, \"ticks\": \"\"}, \"type\": \"choropleth\"}], \"contour\": [{\"colorbar\": {\"outlinewidth\": 0, \"ticks\": \"\"}, \"colorscale\": [[0.0, \"#0d0887\"], [0.1111111111111111, \"#46039f\"], [0.2222222222222222, \"#7201a8\"], [0.3333333333333333, \"#9c179e\"], [0.4444444444444444, \"#bd3786\"], [0.5555555555555556, \"#d8576b\"], [0.6666666666666666, \"#ed7953\"], [0.7777777777777778, \"#fb9f3a\"], [0.8888888888888888, \"#fdca26\"], [1.0, \"#f0f921\"]], \"type\": \"contour\"}], \"contourcarpet\": [{\"colorbar\": {\"outlinewidth\": 0, \"ticks\": \"\"}, \"type\": \"contourcarpet\"}], \"heatmap\": [{\"colorbar\": {\"outlinewidth\": 0, \"ticks\": \"\"}, \"colorscale\": [[0.0, \"#0d0887\"], [0.1111111111111111, \"#46039f\"], [0.2222222222222222, \"#7201a8\"], [0.3333333333333333, \"#9c179e\"], [0.4444444444444444, \"#bd3786\"], [0.5555555555555556, \"#d8576b\"], [0.6666666666666666, \"#ed7953\"], [0.7777777777777778, \"#fb9f3a\"], [0.8888888888888888, \"#fdca26\"], [1.0, \"#f0f921\"]], \"type\": \"heatmap\"}], \"heatmapgl\": [{\"colorbar\": {\"outlinewidth\": 0, \"ticks\": \"\"}, \"colorscale\": [[0.0, \"#0d0887\"], [0.1111111111111111, \"#46039f\"], [0.2222222222222222, \"#7201a8\"], [0.3333333333333333, \"#9c179e\"], [0.4444444444444444, \"#bd3786\"], [0.5555555555555556, \"#d8576b\"], [0.6666666666666666, \"#ed7953\"], [0.7777777777777778, \"#fb9f3a\"], [0.8888888888888888, \"#fdca26\"], [1.0, \"#f0f921\"]], \"type\": \"heatmapgl\"}], \"histogram\": [{\"marker\": {\"colorbar\": {\"outlinewidth\": 0, \"ticks\": \"\"}}, \"type\": \"histogram\"}], \"histogram2d\": [{\"colorbar\": {\"outlinewidth\": 0, \"ticks\": \"\"}, \"colorscale\": [[0.0, \"#0d0887\"], [0.1111111111111111, \"#46039f\"], [0.2222222222222222, \"#7201a8\"], [0.3333333333333333, \"#9c179e\"], [0.4444444444444444, \"#bd3786\"], [0.5555555555555556, \"#d8576b\"], [0.6666666666666666, \"#ed7953\"], [0.7777777777777778, \"#fb9f3a\"], [0.8888888888888888, \"#fdca26\"], [1.0, \"#f0f921\"]], \"type\": \"histogram2d\"}], \"histogram2dcontour\": [{\"colorbar\": {\"outlinewidth\": 0, \"ticks\": \"\"}, \"colorscale\": [[0.0, \"#0d0887\"], [0.1111111111111111, \"#46039f\"], [0.2222222222222222, \"#7201a8\"], [0.3333333333333333, \"#9c179e\"], [0.4444444444444444, \"#bd3786\"], [0.5555555555555556, \"#d8576b\"], [0.6666666666666666, \"#ed7953\"], [0.7777777777777778, \"#fb9f3a\"], [0.8888888888888888, \"#fdca26\"], [1.0, \"#f0f921\"]], \"type\": \"histogram2dcontour\"}], \"mesh3d\": [{\"colorbar\": {\"outlinewidth\": 0, \"ticks\": \"\"}, \"type\": \"mesh3d\"}], \"parcoords\": [{\"line\": {\"colorbar\": {\"outlinewidth\": 0, \"ticks\": \"\"}}, \"type\": \"parcoords\"}], \"pie\": [{\"automargin\": true, \"type\": \"pie\"}], \"scatter\": [{\"marker\": {\"colorbar\": {\"outlinewidth\": 0, \"ticks\": \"\"}}, \"type\": \"scatter\"}], \"scatter3d\": [{\"line\": {\"colorbar\": {\"outlinewidth\": 0, \"ticks\": \"\"}}, \"marker\": {\"colorbar\": {\"outlinewidth\": 0, \"ticks\": \"\"}}, \"type\": \"scatter3d\"}], \"scattercarpet\": [{\"marker\": {\"colorbar\": {\"outlinewidth\": 0, \"ticks\": \"\"}}, \"type\": \"scattercarpet\"}], \"scattergeo\": [{\"marker\": {\"colorbar\": {\"outlinewidth\": 0, \"ticks\": \"\"}}, \"type\": \"scattergeo\"}], \"scattergl\": [{\"marker\": {\"colorbar\": {\"outlinewidth\": 0, \"ticks\": \"\"}}, \"type\": \"scattergl\"}], \"scattermapbox\": [{\"marker\": {\"colorbar\": {\"outlinewidth\": 0, \"ticks\": \"\"}}, \"type\": \"scattermapbox\"}], \"scatterpolar\": [{\"marker\": {\"colorbar\": {\"outlinewidth\": 0, \"ticks\": \"\"}}, \"type\": \"scatterpolar\"}], \"scatterpolargl\": [{\"marker\": {\"colorbar\": {\"outlinewidth\": 0, \"ticks\": \"\"}}, \"type\": \"scatterpolargl\"}], \"scatterternary\": [{\"marker\": {\"colorbar\": {\"outlinewidth\": 0, \"ticks\": \"\"}}, \"type\": \"scatterternary\"}], \"surface\": [{\"colorbar\": {\"outlinewidth\": 0, \"ticks\": \"\"}, \"colorscale\": [[0.0, \"#0d0887\"], [0.1111111111111111, \"#46039f\"], [0.2222222222222222, \"#7201a8\"], [0.3333333333333333, \"#9c179e\"], [0.4444444444444444, \"#bd3786\"], [0.5555555555555556, \"#d8576b\"], [0.6666666666666666, \"#ed7953\"], [0.7777777777777778, \"#fb9f3a\"], [0.8888888888888888, \"#fdca26\"], [1.0, \"#f0f921\"]], \"type\": \"surface\"}], \"table\": [{\"cells\": {\"fill\": {\"color\": \"#EBF0F8\"}, \"line\": {\"color\": \"white\"}}, \"header\": {\"fill\": {\"color\": \"#C8D4E3\"}, \"line\": {\"color\": \"white\"}}, \"type\": \"table\"}]}, \"layout\": {\"annotationdefaults\": {\"arrowcolor\": \"#2a3f5f\", \"arrowhead\": 0, \"arrowwidth\": 1}, \"coloraxis\": {\"colorbar\": {\"outlinewidth\": 0, \"ticks\": \"\"}}, \"colorscale\": {\"diverging\": [[0, \"#8e0152\"], [0.1, \"#c51b7d\"], [0.2, \"#de77ae\"], [0.3, \"#f1b6da\"], [0.4, \"#fde0ef\"], [0.5, \"#f7f7f7\"], [0.6, \"#e6f5d0\"], [0.7, \"#b8e186\"], [0.8, \"#7fbc41\"], [0.9, \"#4d9221\"], [1, \"#276419\"]], \"sequential\": [[0.0, \"#0d0887\"], [0.1111111111111111, \"#46039f\"], [0.2222222222222222, \"#7201a8\"], [0.3333333333333333, \"#9c179e\"], [0.4444444444444444, \"#bd3786\"], [0.5555555555555556, \"#d8576b\"], [0.6666666666666666, \"#ed7953\"], [0.7777777777777778, \"#fb9f3a\"], [0.8888888888888888, \"#fdca26\"], [1.0, \"#f0f921\"]], \"sequentialminus\": [[0.0, \"#0d0887\"], [0.1111111111111111, \"#46039f\"], [0.2222222222222222, \"#7201a8\"], [0.3333333333333333, \"#9c179e\"], [0.4444444444444444, \"#bd3786\"], [0.5555555555555556, \"#d8576b\"], [0.6666666666666666, \"#ed7953\"], [0.7777777777777778, \"#fb9f3a\"], [0.8888888888888888, \"#fdca26\"], [1.0, \"#f0f921\"]]}, \"colorway\": [\"#636efa\", \"#EF553B\", \"#00cc96\", \"#ab63fa\", \"#FFA15A\", \"#19d3f3\", \"#FF6692\", \"#B6E880\", \"#FF97FF\", \"#FECB52\"], \"font\": {\"color\": \"#2a3f5f\"}, \"geo\": {\"bgcolor\": \"white\", \"lakecolor\": \"white\", \"landcolor\": \"#E5ECF6\", \"showlakes\": true, \"showland\": true, \"subunitcolor\": \"white\"}, \"hoverlabel\": {\"align\": \"left\"}, \"hovermode\": \"closest\", \"mapbox\": {\"style\": \"light\"}, \"paper_bgcolor\": \"white\", \"plot_bgcolor\": \"#E5ECF6\", \"polar\": {\"angularaxis\": {\"gridcolor\": \"white\", \"linecolor\": \"white\", \"ticks\": \"\"}, \"bgcolor\": \"#E5ECF6\", \"radialaxis\": {\"gridcolor\": \"white\", \"linecolor\": \"white\", \"ticks\": \"\"}}, \"scene\": {\"xaxis\": {\"backgroundcolor\": \"#E5ECF6\", \"gridcolor\": \"white\", \"gridwidth\": 2, \"linecolor\": \"white\", \"showbackground\": true, \"ticks\": \"\", \"zerolinecolor\": \"white\"}, \"yaxis\": {\"backgroundcolor\": \"#E5ECF6\", \"gridcolor\": \"white\", \"gridwidth\": 2, \"linecolor\": \"white\", \"showbackground\": true, \"ticks\": \"\", \"zerolinecolor\": \"white\"}, \"zaxis\": {\"backgroundcolor\": \"#E5ECF6\", \"gridcolor\": \"white\", \"gridwidth\": 2, \"linecolor\": \"white\", \"showbackground\": true, \"ticks\": \"\", \"zerolinecolor\": \"white\"}}, \"shapedefaults\": {\"line\": {\"color\": \"#2a3f5f\"}}, \"ternary\": {\"aaxis\": {\"gridcolor\": \"white\", \"linecolor\": \"white\", \"ticks\": \"\"}, \"baxis\": {\"gridcolor\": \"white\", \"linecolor\": \"white\", \"ticks\": \"\"}, \"bgcolor\": \"#E5ECF6\", \"caxis\": {\"gridcolor\": \"white\", \"linecolor\": \"white\", \"ticks\": \"\"}}, \"title\": {\"x\": 0.05}, \"xaxis\": {\"automargin\": true, \"gridcolor\": \"white\", \"linecolor\": \"white\", \"ticks\": \"\", \"title\": {\"standoff\": 15}, \"zerolinecolor\": \"white\", \"zerolinewidth\": 2}, \"yaxis\": {\"automargin\": true, \"gridcolor\": \"white\", \"linecolor\": \"white\", \"ticks\": \"\", \"title\": {\"standoff\": 15}, \"zerolinecolor\": \"white\", \"zerolinewidth\": 2}}}, \"xaxis\": {\"anchor\": \"y\", \"categoryarray\": [\"10th & Page\", \"Barracks / Rugby\", \"Belmont\", \"Fifeville\", \"Fry's Spring\", \"Greenbrier\", \"Jefferson Park Avenue\", \"Johnson Village\", \"Lewis Mountain\", \"Locust Grove\", \"Martha Jefferson\", \"North Downtown\", \"Ridge Street\", \"Rose Hill\", \"Starr Hill\", \"The Meadows\", \"Venable\", \"Woolen Mills\"], \"categoryorder\": \"array\", \"domain\": [0.0, 1.0], \"title\": {\"text\": \"Neighborhood\"}}, \"yaxis\": {\"anchor\": \"x\", \"domain\": [0.0, 1.0], \"title\": {\"text\": \"Avg Pct Change 2000-2020\"}}},\n",
       "                        {\"responsive\": true}\n",
       "                    ).then(function(){\n",
       "                            \n",
       "var gd = document.getElementById('2219469a-cb63-4541-a63f-834868bf84e3');\n",
       "var x = new MutationObserver(function (mutations, observer) {{\n",
       "        var display = window.getComputedStyle(gd).display;\n",
       "        if (!display || display === 'none') {{\n",
       "            console.log([gd, 'removed!']);\n",
       "            Plotly.purge(gd);\n",
       "            observer.disconnect();\n",
       "        }}\n",
       "}});\n",
       "\n",
       "// Listen for the removal of the full notebook cells\n",
       "var notebookContainer = gd.closest('#notebook-container');\n",
       "if (notebookContainer) {{\n",
       "    x.observe(notebookContainer, {childList: true});\n",
       "}}\n",
       "\n",
       "// Listen for the clearing of the current output cell\n",
       "var outputEl = gd.closest('.output');\n",
       "if (outputEl) {{\n",
       "    x.observe(outputEl, {childList: true});\n",
       "}}\n",
       "\n",
       "                        })\n",
       "                };\n",
       "                });\n",
       "            </script>\n",
       "        </div>"
      ]
     },
     "metadata": {},
     "output_type": "display_data"
    }
   ],
   "source": [
    "avg20yr"
   ]
  },
  {
   "cell_type": "code",
   "execution_count": 12,
   "metadata": {},
   "outputs": [],
   "source": [
    "avg5yr=px.bar(avg5, x='Neighborhood',y='Avg Pct Change 2015-2020',color='Neighborhood')\n",
    "avg5yr.write_html(\"html/avg5yr_ass.html\")"
   ]
  },
  {
   "cell_type": "code",
   "execution_count": 13,
   "metadata": {},
   "outputs": [
    {
     "data": {
      "application/vnd.plotly.v1+json": {
       "config": {
        "plotlyServerURL": "https://plot.ly"
       },
       "data": [
        {
         "alignmentgroup": "True",
         "hovertemplate": "Neighborhood=%{x}<br>Avg Pct Change 2015-2020=%{y}<extra></extra>",
         "legendgroup": "10th & Page",
         "marker": {
          "color": "#636efa"
         },
         "name": "10th & Page",
         "offsetgroup": "10th & Page",
         "orientation": "v",
         "showlegend": true,
         "textposition": "auto",
         "type": "bar",
         "x": [
          "10th & Page"
         ],
         "xaxis": "x",
         "y": [
          10.725015186052197
         ],
         "yaxis": "y"
        },
        {
         "alignmentgroup": "True",
         "hovertemplate": "Neighborhood=%{x}<br>Avg Pct Change 2015-2020=%{y}<extra></extra>",
         "legendgroup": "Barracks / Rugby",
         "marker": {
          "color": "#EF553B"
         },
         "name": "Barracks / Rugby",
         "offsetgroup": "Barracks / Rugby",
         "orientation": "v",
         "showlegend": true,
         "textposition": "auto",
         "type": "bar",
         "x": [
          "Barracks / Rugby"
         ],
         "xaxis": "x",
         "y": [
          5.824190990585165
         ],
         "yaxis": "y"
        },
        {
         "alignmentgroup": "True",
         "hovertemplate": "Neighborhood=%{x}<br>Avg Pct Change 2015-2020=%{y}<extra></extra>",
         "legendgroup": "Belmont",
         "marker": {
          "color": "#00cc96"
         },
         "name": "Belmont",
         "offsetgroup": "Belmont",
         "orientation": "v",
         "showlegend": true,
         "textposition": "auto",
         "type": "bar",
         "x": [
          "Belmont"
         ],
         "xaxis": "x",
         "y": [
          14.607620578161388
         ],
         "yaxis": "y"
        },
        {
         "alignmentgroup": "True",
         "hovertemplate": "Neighborhood=%{x}<br>Avg Pct Change 2015-2020=%{y}<extra></extra>",
         "legendgroup": "Fifeville",
         "marker": {
          "color": "#ab63fa"
         },
         "name": "Fifeville",
         "offsetgroup": "Fifeville",
         "orientation": "v",
         "showlegend": true,
         "textposition": "auto",
         "type": "bar",
         "x": [
          "Fifeville"
         ],
         "xaxis": "x",
         "y": [
          5.719364424726048
         ],
         "yaxis": "y"
        },
        {
         "alignmentgroup": "True",
         "hovertemplate": "Neighborhood=%{x}<br>Avg Pct Change 2015-2020=%{y}<extra></extra>",
         "legendgroup": "Fry's Spring",
         "marker": {
          "color": "#FFA15A"
         },
         "name": "Fry's Spring",
         "offsetgroup": "Fry's Spring",
         "orientation": "v",
         "showlegend": true,
         "textposition": "auto",
         "type": "bar",
         "x": [
          "Fry's Spring"
         ],
         "xaxis": "x",
         "y": [
          19.595963366474326
         ],
         "yaxis": "y"
        },
        {
         "alignmentgroup": "True",
         "hovertemplate": "Neighborhood=%{x}<br>Avg Pct Change 2015-2020=%{y}<extra></extra>",
         "legendgroup": "Greenbrier",
         "marker": {
          "color": "#19d3f3"
         },
         "name": "Greenbrier",
         "offsetgroup": "Greenbrier",
         "orientation": "v",
         "showlegend": true,
         "textposition": "auto",
         "type": "bar",
         "x": [
          "Greenbrier"
         ],
         "xaxis": "x",
         "y": [
          6.591648916746977
         ],
         "yaxis": "y"
        },
        {
         "alignmentgroup": "True",
         "hovertemplate": "Neighborhood=%{x}<br>Avg Pct Change 2015-2020=%{y}<extra></extra>",
         "legendgroup": "Jefferson Park Avenue",
         "marker": {
          "color": "#FF6692"
         },
         "name": "Jefferson Park Avenue",
         "offsetgroup": "Jefferson Park Avenue",
         "orientation": "v",
         "showlegend": true,
         "textposition": "auto",
         "type": "bar",
         "x": [
          "Jefferson Park Avenue"
         ],
         "xaxis": "x",
         "y": [
          7.874370015542882
         ],
         "yaxis": "y"
        },
        {
         "alignmentgroup": "True",
         "hovertemplate": "Neighborhood=%{x}<br>Avg Pct Change 2015-2020=%{y}<extra></extra>",
         "legendgroup": "Johnson Village",
         "marker": {
          "color": "#B6E880"
         },
         "name": "Johnson Village",
         "offsetgroup": "Johnson Village",
         "orientation": "v",
         "showlegend": true,
         "textposition": "auto",
         "type": "bar",
         "x": [
          "Johnson Village"
         ],
         "xaxis": "x",
         "y": [
          4.927467337740623
         ],
         "yaxis": "y"
        },
        {
         "alignmentgroup": "True",
         "hovertemplate": "Neighborhood=%{x}<br>Avg Pct Change 2015-2020=%{y}<extra></extra>",
         "legendgroup": "Lewis Mountain",
         "marker": {
          "color": "#FF97FF"
         },
         "name": "Lewis Mountain",
         "offsetgroup": "Lewis Mountain",
         "orientation": "v",
         "showlegend": true,
         "textposition": "auto",
         "type": "bar",
         "x": [
          "Lewis Mountain"
         ],
         "xaxis": "x",
         "y": [
          3.2610502516740403
         ],
         "yaxis": "y"
        },
        {
         "alignmentgroup": "True",
         "hovertemplate": "Neighborhood=%{x}<br>Avg Pct Change 2015-2020=%{y}<extra></extra>",
         "legendgroup": "Locust Grove",
         "marker": {
          "color": "#FECB52"
         },
         "name": "Locust Grove",
         "offsetgroup": "Locust Grove",
         "orientation": "v",
         "showlegend": true,
         "textposition": "auto",
         "type": "bar",
         "x": [
          "Locust Grove"
         ],
         "xaxis": "x",
         "y": [
          14.29208533651701
         ],
         "yaxis": "y"
        },
        {
         "alignmentgroup": "True",
         "hovertemplate": "Neighborhood=%{x}<br>Avg Pct Change 2015-2020=%{y}<extra></extra>",
         "legendgroup": "Martha Jefferson",
         "marker": {
          "color": "#636efa"
         },
         "name": "Martha Jefferson",
         "offsetgroup": "Martha Jefferson",
         "orientation": "v",
         "showlegend": true,
         "textposition": "auto",
         "type": "bar",
         "x": [
          "Martha Jefferson"
         ],
         "xaxis": "x",
         "y": [
          19.70024854735302
         ],
         "yaxis": "y"
        },
        {
         "alignmentgroup": "True",
         "hovertemplate": "Neighborhood=%{x}<br>Avg Pct Change 2015-2020=%{y}<extra></extra>",
         "legendgroup": "North Downtown",
         "marker": {
          "color": "#EF553B"
         },
         "name": "North Downtown",
         "offsetgroup": "North Downtown",
         "orientation": "v",
         "showlegend": true,
         "textposition": "auto",
         "type": "bar",
         "x": [
          "North Downtown"
         ],
         "xaxis": "x",
         "y": [
          5.929541303236466
         ],
         "yaxis": "y"
        },
        {
         "alignmentgroup": "True",
         "hovertemplate": "Neighborhood=%{x}<br>Avg Pct Change 2015-2020=%{y}<extra></extra>",
         "legendgroup": "Ridge Street",
         "marker": {
          "color": "#00cc96"
         },
         "name": "Ridge Street",
         "offsetgroup": "Ridge Street",
         "orientation": "v",
         "showlegend": true,
         "textposition": "auto",
         "type": "bar",
         "x": [
          "Ridge Street"
         ],
         "xaxis": "x",
         "y": [
          23.895485800868823
         ],
         "yaxis": "y"
        },
        {
         "alignmentgroup": "True",
         "hovertemplate": "Neighborhood=%{x}<br>Avg Pct Change 2015-2020=%{y}<extra></extra>",
         "legendgroup": "Rose Hill",
         "marker": {
          "color": "#ab63fa"
         },
         "name": "Rose Hill",
         "offsetgroup": "Rose Hill",
         "orientation": "v",
         "showlegend": true,
         "textposition": "auto",
         "type": "bar",
         "x": [
          "Rose Hill"
         ],
         "xaxis": "x",
         "y": [
          15.291625521986054
         ],
         "yaxis": "y"
        },
        {
         "alignmentgroup": "True",
         "hovertemplate": "Neighborhood=%{x}<br>Avg Pct Change 2015-2020=%{y}<extra></extra>",
         "legendgroup": "Starr Hill",
         "marker": {
          "color": "#FFA15A"
         },
         "name": "Starr Hill",
         "offsetgroup": "Starr Hill",
         "orientation": "v",
         "showlegend": true,
         "textposition": "auto",
         "type": "bar",
         "x": [
          "Starr Hill"
         ],
         "xaxis": "x",
         "y": [
          6.805652615536723
         ],
         "yaxis": "y"
        },
        {
         "alignmentgroup": "True",
         "hovertemplate": "Neighborhood=%{x}<br>Avg Pct Change 2015-2020=%{y}<extra></extra>",
         "legendgroup": "The Meadows",
         "marker": {
          "color": "#19d3f3"
         },
         "name": "The Meadows",
         "offsetgroup": "The Meadows",
         "orientation": "v",
         "showlegend": true,
         "textposition": "auto",
         "type": "bar",
         "x": [
          "The Meadows"
         ],
         "xaxis": "x",
         "y": [
          6.274835949178624
         ],
         "yaxis": "y"
        },
        {
         "alignmentgroup": "True",
         "hovertemplate": "Neighborhood=%{x}<br>Avg Pct Change 2015-2020=%{y}<extra></extra>",
         "legendgroup": "Venable",
         "marker": {
          "color": "#FF6692"
         },
         "name": "Venable",
         "offsetgroup": "Venable",
         "orientation": "v",
         "showlegend": true,
         "textposition": "auto",
         "type": "bar",
         "x": [
          "Venable"
         ],
         "xaxis": "x",
         "y": [
          7.5621102605649035
         ],
         "yaxis": "y"
        },
        {
         "alignmentgroup": "True",
         "hovertemplate": "Neighborhood=%{x}<br>Avg Pct Change 2015-2020=%{y}<extra></extra>",
         "legendgroup": "Woolen Mills",
         "marker": {
          "color": "#B6E880"
         },
         "name": "Woolen Mills",
         "offsetgroup": "Woolen Mills",
         "orientation": "v",
         "showlegend": true,
         "textposition": "auto",
         "type": "bar",
         "x": [
          "Woolen Mills"
         ],
         "xaxis": "x",
         "y": [
          9.646383165356808
         ],
         "yaxis": "y"
        }
       ],
       "layout": {
        "barmode": "relative",
        "legend": {
         "title": {
          "text": "Neighborhood"
         },
         "tracegroupgap": 0
        },
        "margin": {
         "t": 60
        },
        "template": {
         "data": {
          "bar": [
           {
            "error_x": {
             "color": "#2a3f5f"
            },
            "error_y": {
             "color": "#2a3f5f"
            },
            "marker": {
             "line": {
              "color": "#E5ECF6",
              "width": 0.5
             }
            },
            "type": "bar"
           }
          ],
          "barpolar": [
           {
            "marker": {
             "line": {
              "color": "#E5ECF6",
              "width": 0.5
             }
            },
            "type": "barpolar"
           }
          ],
          "carpet": [
           {
            "aaxis": {
             "endlinecolor": "#2a3f5f",
             "gridcolor": "white",
             "linecolor": "white",
             "minorgridcolor": "white",
             "startlinecolor": "#2a3f5f"
            },
            "baxis": {
             "endlinecolor": "#2a3f5f",
             "gridcolor": "white",
             "linecolor": "white",
             "minorgridcolor": "white",
             "startlinecolor": "#2a3f5f"
            },
            "type": "carpet"
           }
          ],
          "choropleth": [
           {
            "colorbar": {
             "outlinewidth": 0,
             "ticks": ""
            },
            "type": "choropleth"
           }
          ],
          "contour": [
           {
            "colorbar": {
             "outlinewidth": 0,
             "ticks": ""
            },
            "colorscale": [
             [
              0,
              "#0d0887"
             ],
             [
              0.1111111111111111,
              "#46039f"
             ],
             [
              0.2222222222222222,
              "#7201a8"
             ],
             [
              0.3333333333333333,
              "#9c179e"
             ],
             [
              0.4444444444444444,
              "#bd3786"
             ],
             [
              0.5555555555555556,
              "#d8576b"
             ],
             [
              0.6666666666666666,
              "#ed7953"
             ],
             [
              0.7777777777777778,
              "#fb9f3a"
             ],
             [
              0.8888888888888888,
              "#fdca26"
             ],
             [
              1,
              "#f0f921"
             ]
            ],
            "type": "contour"
           }
          ],
          "contourcarpet": [
           {
            "colorbar": {
             "outlinewidth": 0,
             "ticks": ""
            },
            "type": "contourcarpet"
           }
          ],
          "heatmap": [
           {
            "colorbar": {
             "outlinewidth": 0,
             "ticks": ""
            },
            "colorscale": [
             [
              0,
              "#0d0887"
             ],
             [
              0.1111111111111111,
              "#46039f"
             ],
             [
              0.2222222222222222,
              "#7201a8"
             ],
             [
              0.3333333333333333,
              "#9c179e"
             ],
             [
              0.4444444444444444,
              "#bd3786"
             ],
             [
              0.5555555555555556,
              "#d8576b"
             ],
             [
              0.6666666666666666,
              "#ed7953"
             ],
             [
              0.7777777777777778,
              "#fb9f3a"
             ],
             [
              0.8888888888888888,
              "#fdca26"
             ],
             [
              1,
              "#f0f921"
             ]
            ],
            "type": "heatmap"
           }
          ],
          "heatmapgl": [
           {
            "colorbar": {
             "outlinewidth": 0,
             "ticks": ""
            },
            "colorscale": [
             [
              0,
              "#0d0887"
             ],
             [
              0.1111111111111111,
              "#46039f"
             ],
             [
              0.2222222222222222,
              "#7201a8"
             ],
             [
              0.3333333333333333,
              "#9c179e"
             ],
             [
              0.4444444444444444,
              "#bd3786"
             ],
             [
              0.5555555555555556,
              "#d8576b"
             ],
             [
              0.6666666666666666,
              "#ed7953"
             ],
             [
              0.7777777777777778,
              "#fb9f3a"
             ],
             [
              0.8888888888888888,
              "#fdca26"
             ],
             [
              1,
              "#f0f921"
             ]
            ],
            "type": "heatmapgl"
           }
          ],
          "histogram": [
           {
            "marker": {
             "colorbar": {
              "outlinewidth": 0,
              "ticks": ""
             }
            },
            "type": "histogram"
           }
          ],
          "histogram2d": [
           {
            "colorbar": {
             "outlinewidth": 0,
             "ticks": ""
            },
            "colorscale": [
             [
              0,
              "#0d0887"
             ],
             [
              0.1111111111111111,
              "#46039f"
             ],
             [
              0.2222222222222222,
              "#7201a8"
             ],
             [
              0.3333333333333333,
              "#9c179e"
             ],
             [
              0.4444444444444444,
              "#bd3786"
             ],
             [
              0.5555555555555556,
              "#d8576b"
             ],
             [
              0.6666666666666666,
              "#ed7953"
             ],
             [
              0.7777777777777778,
              "#fb9f3a"
             ],
             [
              0.8888888888888888,
              "#fdca26"
             ],
             [
              1,
              "#f0f921"
             ]
            ],
            "type": "histogram2d"
           }
          ],
          "histogram2dcontour": [
           {
            "colorbar": {
             "outlinewidth": 0,
             "ticks": ""
            },
            "colorscale": [
             [
              0,
              "#0d0887"
             ],
             [
              0.1111111111111111,
              "#46039f"
             ],
             [
              0.2222222222222222,
              "#7201a8"
             ],
             [
              0.3333333333333333,
              "#9c179e"
             ],
             [
              0.4444444444444444,
              "#bd3786"
             ],
             [
              0.5555555555555556,
              "#d8576b"
             ],
             [
              0.6666666666666666,
              "#ed7953"
             ],
             [
              0.7777777777777778,
              "#fb9f3a"
             ],
             [
              0.8888888888888888,
              "#fdca26"
             ],
             [
              1,
              "#f0f921"
             ]
            ],
            "type": "histogram2dcontour"
           }
          ],
          "mesh3d": [
           {
            "colorbar": {
             "outlinewidth": 0,
             "ticks": ""
            },
            "type": "mesh3d"
           }
          ],
          "parcoords": [
           {
            "line": {
             "colorbar": {
              "outlinewidth": 0,
              "ticks": ""
             }
            },
            "type": "parcoords"
           }
          ],
          "pie": [
           {
            "automargin": true,
            "type": "pie"
           }
          ],
          "scatter": [
           {
            "marker": {
             "colorbar": {
              "outlinewidth": 0,
              "ticks": ""
             }
            },
            "type": "scatter"
           }
          ],
          "scatter3d": [
           {
            "line": {
             "colorbar": {
              "outlinewidth": 0,
              "ticks": ""
             }
            },
            "marker": {
             "colorbar": {
              "outlinewidth": 0,
              "ticks": ""
             }
            },
            "type": "scatter3d"
           }
          ],
          "scattercarpet": [
           {
            "marker": {
             "colorbar": {
              "outlinewidth": 0,
              "ticks": ""
             }
            },
            "type": "scattercarpet"
           }
          ],
          "scattergeo": [
           {
            "marker": {
             "colorbar": {
              "outlinewidth": 0,
              "ticks": ""
             }
            },
            "type": "scattergeo"
           }
          ],
          "scattergl": [
           {
            "marker": {
             "colorbar": {
              "outlinewidth": 0,
              "ticks": ""
             }
            },
            "type": "scattergl"
           }
          ],
          "scattermapbox": [
           {
            "marker": {
             "colorbar": {
              "outlinewidth": 0,
              "ticks": ""
             }
            },
            "type": "scattermapbox"
           }
          ],
          "scatterpolar": [
           {
            "marker": {
             "colorbar": {
              "outlinewidth": 0,
              "ticks": ""
             }
            },
            "type": "scatterpolar"
           }
          ],
          "scatterpolargl": [
           {
            "marker": {
             "colorbar": {
              "outlinewidth": 0,
              "ticks": ""
             }
            },
            "type": "scatterpolargl"
           }
          ],
          "scatterternary": [
           {
            "marker": {
             "colorbar": {
              "outlinewidth": 0,
              "ticks": ""
             }
            },
            "type": "scatterternary"
           }
          ],
          "surface": [
           {
            "colorbar": {
             "outlinewidth": 0,
             "ticks": ""
            },
            "colorscale": [
             [
              0,
              "#0d0887"
             ],
             [
              0.1111111111111111,
              "#46039f"
             ],
             [
              0.2222222222222222,
              "#7201a8"
             ],
             [
              0.3333333333333333,
              "#9c179e"
             ],
             [
              0.4444444444444444,
              "#bd3786"
             ],
             [
              0.5555555555555556,
              "#d8576b"
             ],
             [
              0.6666666666666666,
              "#ed7953"
             ],
             [
              0.7777777777777778,
              "#fb9f3a"
             ],
             [
              0.8888888888888888,
              "#fdca26"
             ],
             [
              1,
              "#f0f921"
             ]
            ],
            "type": "surface"
           }
          ],
          "table": [
           {
            "cells": {
             "fill": {
              "color": "#EBF0F8"
             },
             "line": {
              "color": "white"
             }
            },
            "header": {
             "fill": {
              "color": "#C8D4E3"
             },
             "line": {
              "color": "white"
             }
            },
            "type": "table"
           }
          ]
         },
         "layout": {
          "annotationdefaults": {
           "arrowcolor": "#2a3f5f",
           "arrowhead": 0,
           "arrowwidth": 1
          },
          "coloraxis": {
           "colorbar": {
            "outlinewidth": 0,
            "ticks": ""
           }
          },
          "colorscale": {
           "diverging": [
            [
             0,
             "#8e0152"
            ],
            [
             0.1,
             "#c51b7d"
            ],
            [
             0.2,
             "#de77ae"
            ],
            [
             0.3,
             "#f1b6da"
            ],
            [
             0.4,
             "#fde0ef"
            ],
            [
             0.5,
             "#f7f7f7"
            ],
            [
             0.6,
             "#e6f5d0"
            ],
            [
             0.7,
             "#b8e186"
            ],
            [
             0.8,
             "#7fbc41"
            ],
            [
             0.9,
             "#4d9221"
            ],
            [
             1,
             "#276419"
            ]
           ],
           "sequential": [
            [
             0,
             "#0d0887"
            ],
            [
             0.1111111111111111,
             "#46039f"
            ],
            [
             0.2222222222222222,
             "#7201a8"
            ],
            [
             0.3333333333333333,
             "#9c179e"
            ],
            [
             0.4444444444444444,
             "#bd3786"
            ],
            [
             0.5555555555555556,
             "#d8576b"
            ],
            [
             0.6666666666666666,
             "#ed7953"
            ],
            [
             0.7777777777777778,
             "#fb9f3a"
            ],
            [
             0.8888888888888888,
             "#fdca26"
            ],
            [
             1,
             "#f0f921"
            ]
           ],
           "sequentialminus": [
            [
             0,
             "#0d0887"
            ],
            [
             0.1111111111111111,
             "#46039f"
            ],
            [
             0.2222222222222222,
             "#7201a8"
            ],
            [
             0.3333333333333333,
             "#9c179e"
            ],
            [
             0.4444444444444444,
             "#bd3786"
            ],
            [
             0.5555555555555556,
             "#d8576b"
            ],
            [
             0.6666666666666666,
             "#ed7953"
            ],
            [
             0.7777777777777778,
             "#fb9f3a"
            ],
            [
             0.8888888888888888,
             "#fdca26"
            ],
            [
             1,
             "#f0f921"
            ]
           ]
          },
          "colorway": [
           "#636efa",
           "#EF553B",
           "#00cc96",
           "#ab63fa",
           "#FFA15A",
           "#19d3f3",
           "#FF6692",
           "#B6E880",
           "#FF97FF",
           "#FECB52"
          ],
          "font": {
           "color": "#2a3f5f"
          },
          "geo": {
           "bgcolor": "white",
           "lakecolor": "white",
           "landcolor": "#E5ECF6",
           "showlakes": true,
           "showland": true,
           "subunitcolor": "white"
          },
          "hoverlabel": {
           "align": "left"
          },
          "hovermode": "closest",
          "mapbox": {
           "style": "light"
          },
          "paper_bgcolor": "white",
          "plot_bgcolor": "#E5ECF6",
          "polar": {
           "angularaxis": {
            "gridcolor": "white",
            "linecolor": "white",
            "ticks": ""
           },
           "bgcolor": "#E5ECF6",
           "radialaxis": {
            "gridcolor": "white",
            "linecolor": "white",
            "ticks": ""
           }
          },
          "scene": {
           "xaxis": {
            "backgroundcolor": "#E5ECF6",
            "gridcolor": "white",
            "gridwidth": 2,
            "linecolor": "white",
            "showbackground": true,
            "ticks": "",
            "zerolinecolor": "white"
           },
           "yaxis": {
            "backgroundcolor": "#E5ECF6",
            "gridcolor": "white",
            "gridwidth": 2,
            "linecolor": "white",
            "showbackground": true,
            "ticks": "",
            "zerolinecolor": "white"
           },
           "zaxis": {
            "backgroundcolor": "#E5ECF6",
            "gridcolor": "white",
            "gridwidth": 2,
            "linecolor": "white",
            "showbackground": true,
            "ticks": "",
            "zerolinecolor": "white"
           }
          },
          "shapedefaults": {
           "line": {
            "color": "#2a3f5f"
           }
          },
          "ternary": {
           "aaxis": {
            "gridcolor": "white",
            "linecolor": "white",
            "ticks": ""
           },
           "baxis": {
            "gridcolor": "white",
            "linecolor": "white",
            "ticks": ""
           },
           "bgcolor": "#E5ECF6",
           "caxis": {
            "gridcolor": "white",
            "linecolor": "white",
            "ticks": ""
           }
          },
          "title": {
           "x": 0.05
          },
          "xaxis": {
           "automargin": true,
           "gridcolor": "white",
           "linecolor": "white",
           "ticks": "",
           "title": {
            "standoff": 15
           },
           "zerolinecolor": "white",
           "zerolinewidth": 2
          },
          "yaxis": {
           "automargin": true,
           "gridcolor": "white",
           "linecolor": "white",
           "ticks": "",
           "title": {
            "standoff": 15
           },
           "zerolinecolor": "white",
           "zerolinewidth": 2
          }
         }
        },
        "xaxis": {
         "anchor": "y",
         "categoryarray": [
          "10th & Page",
          "Barracks / Rugby",
          "Belmont",
          "Fifeville",
          "Fry's Spring",
          "Greenbrier",
          "Jefferson Park Avenue",
          "Johnson Village",
          "Lewis Mountain",
          "Locust Grove",
          "Martha Jefferson",
          "North Downtown",
          "Ridge Street",
          "Rose Hill",
          "Starr Hill",
          "The Meadows",
          "Venable",
          "Woolen Mills"
         ],
         "categoryorder": "array",
         "domain": [
          0,
          1
         ],
         "title": {
          "text": "Neighborhood"
         }
        },
        "yaxis": {
         "anchor": "x",
         "domain": [
          0,
          1
         ],
         "title": {
          "text": "Avg Pct Change 2015-2020"
         }
        }
       }
      },
      "text/html": [
       "<div>\n",
       "        \n",
       "        \n",
       "            <div id=\"a3f4efbc-214b-4c65-8871-8b15e3181fa3\" class=\"plotly-graph-div\" style=\"height:525px; width:100%;\"></div>\n",
       "            <script type=\"text/javascript\">\n",
       "                require([\"plotly\"], function(Plotly) {\n",
       "                    window.PLOTLYENV=window.PLOTLYENV || {};\n",
       "                    \n",
       "                if (document.getElementById(\"a3f4efbc-214b-4c65-8871-8b15e3181fa3\")) {\n",
       "                    Plotly.newPlot(\n",
       "                        'a3f4efbc-214b-4c65-8871-8b15e3181fa3',\n",
       "                        [{\"alignmentgroup\": \"True\", \"hovertemplate\": \"Neighborhood=%{x}<br>Avg Pct Change 2015-2020=%{y}<extra></extra>\", \"legendgroup\": \"10th & Page\", \"marker\": {\"color\": \"#636efa\"}, \"name\": \"10th & Page\", \"offsetgroup\": \"10th & Page\", \"orientation\": \"v\", \"showlegend\": true, \"textposition\": \"auto\", \"type\": \"bar\", \"x\": [\"10th & Page\"], \"xaxis\": \"x\", \"y\": [10.725015186052197], \"yaxis\": \"y\"}, {\"alignmentgroup\": \"True\", \"hovertemplate\": \"Neighborhood=%{x}<br>Avg Pct Change 2015-2020=%{y}<extra></extra>\", \"legendgroup\": \"Barracks / Rugby\", \"marker\": {\"color\": \"#EF553B\"}, \"name\": \"Barracks / Rugby\", \"offsetgroup\": \"Barracks / Rugby\", \"orientation\": \"v\", \"showlegend\": true, \"textposition\": \"auto\", \"type\": \"bar\", \"x\": [\"Barracks / Rugby\"], \"xaxis\": \"x\", \"y\": [5.824190990585165], \"yaxis\": \"y\"}, {\"alignmentgroup\": \"True\", \"hovertemplate\": \"Neighborhood=%{x}<br>Avg Pct Change 2015-2020=%{y}<extra></extra>\", \"legendgroup\": \"Belmont\", \"marker\": {\"color\": \"#00cc96\"}, \"name\": \"Belmont\", \"offsetgroup\": \"Belmont\", \"orientation\": \"v\", \"showlegend\": true, \"textposition\": \"auto\", \"type\": \"bar\", \"x\": [\"Belmont\"], \"xaxis\": \"x\", \"y\": [14.607620578161388], \"yaxis\": \"y\"}, {\"alignmentgroup\": \"True\", \"hovertemplate\": \"Neighborhood=%{x}<br>Avg Pct Change 2015-2020=%{y}<extra></extra>\", \"legendgroup\": \"Fifeville\", \"marker\": {\"color\": \"#ab63fa\"}, \"name\": \"Fifeville\", \"offsetgroup\": \"Fifeville\", \"orientation\": \"v\", \"showlegend\": true, \"textposition\": \"auto\", \"type\": \"bar\", \"x\": [\"Fifeville\"], \"xaxis\": \"x\", \"y\": [5.719364424726048], \"yaxis\": \"y\"}, {\"alignmentgroup\": \"True\", \"hovertemplate\": \"Neighborhood=%{x}<br>Avg Pct Change 2015-2020=%{y}<extra></extra>\", \"legendgroup\": \"Fry's Spring\", \"marker\": {\"color\": \"#FFA15A\"}, \"name\": \"Fry's Spring\", \"offsetgroup\": \"Fry's Spring\", \"orientation\": \"v\", \"showlegend\": true, \"textposition\": \"auto\", \"type\": \"bar\", \"x\": [\"Fry's Spring\"], \"xaxis\": \"x\", \"y\": [19.595963366474326], \"yaxis\": \"y\"}, {\"alignmentgroup\": \"True\", \"hovertemplate\": \"Neighborhood=%{x}<br>Avg Pct Change 2015-2020=%{y}<extra></extra>\", \"legendgroup\": \"Greenbrier\", \"marker\": {\"color\": \"#19d3f3\"}, \"name\": \"Greenbrier\", \"offsetgroup\": \"Greenbrier\", \"orientation\": \"v\", \"showlegend\": true, \"textposition\": \"auto\", \"type\": \"bar\", \"x\": [\"Greenbrier\"], \"xaxis\": \"x\", \"y\": [6.591648916746977], \"yaxis\": \"y\"}, {\"alignmentgroup\": \"True\", \"hovertemplate\": \"Neighborhood=%{x}<br>Avg Pct Change 2015-2020=%{y}<extra></extra>\", \"legendgroup\": \"Jefferson Park Avenue\", \"marker\": {\"color\": \"#FF6692\"}, \"name\": \"Jefferson Park Avenue\", \"offsetgroup\": \"Jefferson Park Avenue\", \"orientation\": \"v\", \"showlegend\": true, \"textposition\": \"auto\", \"type\": \"bar\", \"x\": [\"Jefferson Park Avenue\"], \"xaxis\": \"x\", \"y\": [7.874370015542882], \"yaxis\": \"y\"}, {\"alignmentgroup\": \"True\", \"hovertemplate\": \"Neighborhood=%{x}<br>Avg Pct Change 2015-2020=%{y}<extra></extra>\", \"legendgroup\": \"Johnson Village\", \"marker\": {\"color\": \"#B6E880\"}, \"name\": \"Johnson Village\", \"offsetgroup\": \"Johnson Village\", \"orientation\": \"v\", \"showlegend\": true, \"textposition\": \"auto\", \"type\": \"bar\", \"x\": [\"Johnson Village\"], \"xaxis\": \"x\", \"y\": [4.927467337740623], \"yaxis\": \"y\"}, {\"alignmentgroup\": \"True\", \"hovertemplate\": \"Neighborhood=%{x}<br>Avg Pct Change 2015-2020=%{y}<extra></extra>\", \"legendgroup\": \"Lewis Mountain\", \"marker\": {\"color\": \"#FF97FF\"}, \"name\": \"Lewis Mountain\", \"offsetgroup\": \"Lewis Mountain\", \"orientation\": \"v\", \"showlegend\": true, \"textposition\": \"auto\", \"type\": \"bar\", \"x\": [\"Lewis Mountain\"], \"xaxis\": \"x\", \"y\": [3.2610502516740403], \"yaxis\": \"y\"}, {\"alignmentgroup\": \"True\", \"hovertemplate\": \"Neighborhood=%{x}<br>Avg Pct Change 2015-2020=%{y}<extra></extra>\", \"legendgroup\": \"Locust Grove\", \"marker\": {\"color\": \"#FECB52\"}, \"name\": \"Locust Grove\", \"offsetgroup\": \"Locust Grove\", \"orientation\": \"v\", \"showlegend\": true, \"textposition\": \"auto\", \"type\": \"bar\", \"x\": [\"Locust Grove\"], \"xaxis\": \"x\", \"y\": [14.29208533651701], \"yaxis\": \"y\"}, {\"alignmentgroup\": \"True\", \"hovertemplate\": \"Neighborhood=%{x}<br>Avg Pct Change 2015-2020=%{y}<extra></extra>\", \"legendgroup\": \"Martha Jefferson\", \"marker\": {\"color\": \"#636efa\"}, \"name\": \"Martha Jefferson\", \"offsetgroup\": \"Martha Jefferson\", \"orientation\": \"v\", \"showlegend\": true, \"textposition\": \"auto\", \"type\": \"bar\", \"x\": [\"Martha Jefferson\"], \"xaxis\": \"x\", \"y\": [19.70024854735302], \"yaxis\": \"y\"}, {\"alignmentgroup\": \"True\", \"hovertemplate\": \"Neighborhood=%{x}<br>Avg Pct Change 2015-2020=%{y}<extra></extra>\", \"legendgroup\": \"North Downtown\", \"marker\": {\"color\": \"#EF553B\"}, \"name\": \"North Downtown\", \"offsetgroup\": \"North Downtown\", \"orientation\": \"v\", \"showlegend\": true, \"textposition\": \"auto\", \"type\": \"bar\", \"x\": [\"North Downtown\"], \"xaxis\": \"x\", \"y\": [5.929541303236466], \"yaxis\": \"y\"}, {\"alignmentgroup\": \"True\", \"hovertemplate\": \"Neighborhood=%{x}<br>Avg Pct Change 2015-2020=%{y}<extra></extra>\", \"legendgroup\": \"Ridge Street\", \"marker\": {\"color\": \"#00cc96\"}, \"name\": \"Ridge Street\", \"offsetgroup\": \"Ridge Street\", \"orientation\": \"v\", \"showlegend\": true, \"textposition\": \"auto\", \"type\": \"bar\", \"x\": [\"Ridge Street\"], \"xaxis\": \"x\", \"y\": [23.895485800868823], \"yaxis\": \"y\"}, {\"alignmentgroup\": \"True\", \"hovertemplate\": \"Neighborhood=%{x}<br>Avg Pct Change 2015-2020=%{y}<extra></extra>\", \"legendgroup\": \"Rose Hill\", \"marker\": {\"color\": \"#ab63fa\"}, \"name\": \"Rose Hill\", \"offsetgroup\": \"Rose Hill\", \"orientation\": \"v\", \"showlegend\": true, \"textposition\": \"auto\", \"type\": \"bar\", \"x\": [\"Rose Hill\"], \"xaxis\": \"x\", \"y\": [15.291625521986054], \"yaxis\": \"y\"}, {\"alignmentgroup\": \"True\", \"hovertemplate\": \"Neighborhood=%{x}<br>Avg Pct Change 2015-2020=%{y}<extra></extra>\", \"legendgroup\": \"Starr Hill\", \"marker\": {\"color\": \"#FFA15A\"}, \"name\": \"Starr Hill\", \"offsetgroup\": \"Starr Hill\", \"orientation\": \"v\", \"showlegend\": true, \"textposition\": \"auto\", \"type\": \"bar\", \"x\": [\"Starr Hill\"], \"xaxis\": \"x\", \"y\": [6.805652615536723], \"yaxis\": \"y\"}, {\"alignmentgroup\": \"True\", \"hovertemplate\": \"Neighborhood=%{x}<br>Avg Pct Change 2015-2020=%{y}<extra></extra>\", \"legendgroup\": \"The Meadows\", \"marker\": {\"color\": \"#19d3f3\"}, \"name\": \"The Meadows\", \"offsetgroup\": \"The Meadows\", \"orientation\": \"v\", \"showlegend\": true, \"textposition\": \"auto\", \"type\": \"bar\", \"x\": [\"The Meadows\"], \"xaxis\": \"x\", \"y\": [6.274835949178624], \"yaxis\": \"y\"}, {\"alignmentgroup\": \"True\", \"hovertemplate\": \"Neighborhood=%{x}<br>Avg Pct Change 2015-2020=%{y}<extra></extra>\", \"legendgroup\": \"Venable\", \"marker\": {\"color\": \"#FF6692\"}, \"name\": \"Venable\", \"offsetgroup\": \"Venable\", \"orientation\": \"v\", \"showlegend\": true, \"textposition\": \"auto\", \"type\": \"bar\", \"x\": [\"Venable\"], \"xaxis\": \"x\", \"y\": [7.5621102605649035], \"yaxis\": \"y\"}, {\"alignmentgroup\": \"True\", \"hovertemplate\": \"Neighborhood=%{x}<br>Avg Pct Change 2015-2020=%{y}<extra></extra>\", \"legendgroup\": \"Woolen Mills\", \"marker\": {\"color\": \"#B6E880\"}, \"name\": \"Woolen Mills\", \"offsetgroup\": \"Woolen Mills\", \"orientation\": \"v\", \"showlegend\": true, \"textposition\": \"auto\", \"type\": \"bar\", \"x\": [\"Woolen Mills\"], \"xaxis\": \"x\", \"y\": [9.646383165356808], \"yaxis\": \"y\"}],\n",
       "                        {\"barmode\": \"relative\", \"legend\": {\"title\": {\"text\": \"Neighborhood\"}, \"tracegroupgap\": 0}, \"margin\": {\"t\": 60}, \"template\": {\"data\": {\"bar\": [{\"error_x\": {\"color\": \"#2a3f5f\"}, \"error_y\": {\"color\": \"#2a3f5f\"}, \"marker\": {\"line\": {\"color\": \"#E5ECF6\", \"width\": 0.5}}, \"type\": \"bar\"}], \"barpolar\": [{\"marker\": {\"line\": {\"color\": \"#E5ECF6\", \"width\": 0.5}}, \"type\": \"barpolar\"}], \"carpet\": [{\"aaxis\": {\"endlinecolor\": \"#2a3f5f\", \"gridcolor\": \"white\", \"linecolor\": \"white\", \"minorgridcolor\": \"white\", \"startlinecolor\": \"#2a3f5f\"}, \"baxis\": {\"endlinecolor\": \"#2a3f5f\", \"gridcolor\": \"white\", \"linecolor\": \"white\", \"minorgridcolor\": \"white\", \"startlinecolor\": \"#2a3f5f\"}, \"type\": \"carpet\"}], \"choropleth\": [{\"colorbar\": {\"outlinewidth\": 0, \"ticks\": \"\"}, \"type\": \"choropleth\"}], \"contour\": [{\"colorbar\": {\"outlinewidth\": 0, \"ticks\": \"\"}, \"colorscale\": [[0.0, \"#0d0887\"], [0.1111111111111111, \"#46039f\"], [0.2222222222222222, \"#7201a8\"], [0.3333333333333333, \"#9c179e\"], [0.4444444444444444, \"#bd3786\"], [0.5555555555555556, \"#d8576b\"], [0.6666666666666666, \"#ed7953\"], [0.7777777777777778, \"#fb9f3a\"], [0.8888888888888888, \"#fdca26\"], [1.0, \"#f0f921\"]], \"type\": \"contour\"}], \"contourcarpet\": [{\"colorbar\": {\"outlinewidth\": 0, \"ticks\": \"\"}, \"type\": \"contourcarpet\"}], \"heatmap\": [{\"colorbar\": {\"outlinewidth\": 0, \"ticks\": \"\"}, \"colorscale\": [[0.0, \"#0d0887\"], [0.1111111111111111, \"#46039f\"], [0.2222222222222222, \"#7201a8\"], [0.3333333333333333, \"#9c179e\"], [0.4444444444444444, \"#bd3786\"], [0.5555555555555556, \"#d8576b\"], [0.6666666666666666, \"#ed7953\"], [0.7777777777777778, \"#fb9f3a\"], [0.8888888888888888, \"#fdca26\"], [1.0, \"#f0f921\"]], \"type\": \"heatmap\"}], \"heatmapgl\": [{\"colorbar\": {\"outlinewidth\": 0, \"ticks\": \"\"}, \"colorscale\": [[0.0, \"#0d0887\"], [0.1111111111111111, \"#46039f\"], [0.2222222222222222, \"#7201a8\"], [0.3333333333333333, \"#9c179e\"], [0.4444444444444444, \"#bd3786\"], [0.5555555555555556, \"#d8576b\"], [0.6666666666666666, \"#ed7953\"], [0.7777777777777778, \"#fb9f3a\"], [0.8888888888888888, \"#fdca26\"], [1.0, \"#f0f921\"]], \"type\": \"heatmapgl\"}], \"histogram\": [{\"marker\": {\"colorbar\": {\"outlinewidth\": 0, \"ticks\": \"\"}}, \"type\": \"histogram\"}], \"histogram2d\": [{\"colorbar\": {\"outlinewidth\": 0, \"ticks\": \"\"}, \"colorscale\": [[0.0, \"#0d0887\"], [0.1111111111111111, \"#46039f\"], [0.2222222222222222, \"#7201a8\"], [0.3333333333333333, \"#9c179e\"], [0.4444444444444444, \"#bd3786\"], [0.5555555555555556, \"#d8576b\"], [0.6666666666666666, \"#ed7953\"], [0.7777777777777778, \"#fb9f3a\"], [0.8888888888888888, \"#fdca26\"], [1.0, \"#f0f921\"]], \"type\": \"histogram2d\"}], \"histogram2dcontour\": [{\"colorbar\": {\"outlinewidth\": 0, \"ticks\": \"\"}, \"colorscale\": [[0.0, \"#0d0887\"], [0.1111111111111111, \"#46039f\"], [0.2222222222222222, \"#7201a8\"], [0.3333333333333333, \"#9c179e\"], [0.4444444444444444, \"#bd3786\"], [0.5555555555555556, \"#d8576b\"], [0.6666666666666666, \"#ed7953\"], [0.7777777777777778, \"#fb9f3a\"], [0.8888888888888888, \"#fdca26\"], [1.0, \"#f0f921\"]], \"type\": \"histogram2dcontour\"}], \"mesh3d\": [{\"colorbar\": {\"outlinewidth\": 0, \"ticks\": \"\"}, \"type\": \"mesh3d\"}], \"parcoords\": [{\"line\": {\"colorbar\": {\"outlinewidth\": 0, \"ticks\": \"\"}}, \"type\": \"parcoords\"}], \"pie\": [{\"automargin\": true, \"type\": \"pie\"}], \"scatter\": [{\"marker\": {\"colorbar\": {\"outlinewidth\": 0, \"ticks\": \"\"}}, \"type\": \"scatter\"}], \"scatter3d\": [{\"line\": {\"colorbar\": {\"outlinewidth\": 0, \"ticks\": \"\"}}, \"marker\": {\"colorbar\": {\"outlinewidth\": 0, \"ticks\": \"\"}}, \"type\": \"scatter3d\"}], \"scattercarpet\": [{\"marker\": {\"colorbar\": {\"outlinewidth\": 0, \"ticks\": \"\"}}, \"type\": \"scattercarpet\"}], \"scattergeo\": [{\"marker\": {\"colorbar\": {\"outlinewidth\": 0, \"ticks\": \"\"}}, \"type\": \"scattergeo\"}], \"scattergl\": [{\"marker\": {\"colorbar\": {\"outlinewidth\": 0, \"ticks\": \"\"}}, \"type\": \"scattergl\"}], \"scattermapbox\": [{\"marker\": {\"colorbar\": {\"outlinewidth\": 0, \"ticks\": \"\"}}, \"type\": \"scattermapbox\"}], \"scatterpolar\": [{\"marker\": {\"colorbar\": {\"outlinewidth\": 0, \"ticks\": \"\"}}, \"type\": \"scatterpolar\"}], \"scatterpolargl\": [{\"marker\": {\"colorbar\": {\"outlinewidth\": 0, \"ticks\": \"\"}}, \"type\": \"scatterpolargl\"}], \"scatterternary\": [{\"marker\": {\"colorbar\": {\"outlinewidth\": 0, \"ticks\": \"\"}}, \"type\": \"scatterternary\"}], \"surface\": [{\"colorbar\": {\"outlinewidth\": 0, \"ticks\": \"\"}, \"colorscale\": [[0.0, \"#0d0887\"], [0.1111111111111111, \"#46039f\"], [0.2222222222222222, \"#7201a8\"], [0.3333333333333333, \"#9c179e\"], [0.4444444444444444, \"#bd3786\"], [0.5555555555555556, \"#d8576b\"], [0.6666666666666666, \"#ed7953\"], [0.7777777777777778, \"#fb9f3a\"], [0.8888888888888888, \"#fdca26\"], [1.0, \"#f0f921\"]], \"type\": \"surface\"}], \"table\": [{\"cells\": {\"fill\": {\"color\": \"#EBF0F8\"}, \"line\": {\"color\": \"white\"}}, \"header\": {\"fill\": {\"color\": \"#C8D4E3\"}, \"line\": {\"color\": \"white\"}}, \"type\": \"table\"}]}, \"layout\": {\"annotationdefaults\": {\"arrowcolor\": \"#2a3f5f\", \"arrowhead\": 0, \"arrowwidth\": 1}, \"coloraxis\": {\"colorbar\": {\"outlinewidth\": 0, \"ticks\": \"\"}}, \"colorscale\": {\"diverging\": [[0, \"#8e0152\"], [0.1, \"#c51b7d\"], [0.2, \"#de77ae\"], [0.3, \"#f1b6da\"], [0.4, \"#fde0ef\"], [0.5, \"#f7f7f7\"], [0.6, \"#e6f5d0\"], [0.7, \"#b8e186\"], [0.8, \"#7fbc41\"], [0.9, \"#4d9221\"], [1, \"#276419\"]], \"sequential\": [[0.0, \"#0d0887\"], [0.1111111111111111, \"#46039f\"], [0.2222222222222222, \"#7201a8\"], [0.3333333333333333, \"#9c179e\"], [0.4444444444444444, \"#bd3786\"], [0.5555555555555556, \"#d8576b\"], [0.6666666666666666, \"#ed7953\"], [0.7777777777777778, \"#fb9f3a\"], [0.8888888888888888, \"#fdca26\"], [1.0, \"#f0f921\"]], \"sequentialminus\": [[0.0, \"#0d0887\"], [0.1111111111111111, \"#46039f\"], [0.2222222222222222, \"#7201a8\"], [0.3333333333333333, \"#9c179e\"], [0.4444444444444444, \"#bd3786\"], [0.5555555555555556, \"#d8576b\"], [0.6666666666666666, \"#ed7953\"], [0.7777777777777778, \"#fb9f3a\"], [0.8888888888888888, \"#fdca26\"], [1.0, \"#f0f921\"]]}, \"colorway\": [\"#636efa\", \"#EF553B\", \"#00cc96\", \"#ab63fa\", \"#FFA15A\", \"#19d3f3\", \"#FF6692\", \"#B6E880\", \"#FF97FF\", \"#FECB52\"], \"font\": {\"color\": \"#2a3f5f\"}, \"geo\": {\"bgcolor\": \"white\", \"lakecolor\": \"white\", \"landcolor\": \"#E5ECF6\", \"showlakes\": true, \"showland\": true, \"subunitcolor\": \"white\"}, \"hoverlabel\": {\"align\": \"left\"}, \"hovermode\": \"closest\", \"mapbox\": {\"style\": \"light\"}, \"paper_bgcolor\": \"white\", \"plot_bgcolor\": \"#E5ECF6\", \"polar\": {\"angularaxis\": {\"gridcolor\": \"white\", \"linecolor\": \"white\", \"ticks\": \"\"}, \"bgcolor\": \"#E5ECF6\", \"radialaxis\": {\"gridcolor\": \"white\", \"linecolor\": \"white\", \"ticks\": \"\"}}, \"scene\": {\"xaxis\": {\"backgroundcolor\": \"#E5ECF6\", \"gridcolor\": \"white\", \"gridwidth\": 2, \"linecolor\": \"white\", \"showbackground\": true, \"ticks\": \"\", \"zerolinecolor\": \"white\"}, \"yaxis\": {\"backgroundcolor\": \"#E5ECF6\", \"gridcolor\": \"white\", \"gridwidth\": 2, \"linecolor\": \"white\", \"showbackground\": true, \"ticks\": \"\", \"zerolinecolor\": \"white\"}, \"zaxis\": {\"backgroundcolor\": \"#E5ECF6\", \"gridcolor\": \"white\", \"gridwidth\": 2, \"linecolor\": \"white\", \"showbackground\": true, \"ticks\": \"\", \"zerolinecolor\": \"white\"}}, \"shapedefaults\": {\"line\": {\"color\": \"#2a3f5f\"}}, \"ternary\": {\"aaxis\": {\"gridcolor\": \"white\", \"linecolor\": \"white\", \"ticks\": \"\"}, \"baxis\": {\"gridcolor\": \"white\", \"linecolor\": \"white\", \"ticks\": \"\"}, \"bgcolor\": \"#E5ECF6\", \"caxis\": {\"gridcolor\": \"white\", \"linecolor\": \"white\", \"ticks\": \"\"}}, \"title\": {\"x\": 0.05}, \"xaxis\": {\"automargin\": true, \"gridcolor\": \"white\", \"linecolor\": \"white\", \"ticks\": \"\", \"title\": {\"standoff\": 15}, \"zerolinecolor\": \"white\", \"zerolinewidth\": 2}, \"yaxis\": {\"automargin\": true, \"gridcolor\": \"white\", \"linecolor\": \"white\", \"ticks\": \"\", \"title\": {\"standoff\": 15}, \"zerolinecolor\": \"white\", \"zerolinewidth\": 2}}}, \"xaxis\": {\"anchor\": \"y\", \"categoryarray\": [\"10th & Page\", \"Barracks / Rugby\", \"Belmont\", \"Fifeville\", \"Fry's Spring\", \"Greenbrier\", \"Jefferson Park Avenue\", \"Johnson Village\", \"Lewis Mountain\", \"Locust Grove\", \"Martha Jefferson\", \"North Downtown\", \"Ridge Street\", \"Rose Hill\", \"Starr Hill\", \"The Meadows\", \"Venable\", \"Woolen Mills\"], \"categoryorder\": \"array\", \"domain\": [0.0, 1.0], \"title\": {\"text\": \"Neighborhood\"}}, \"yaxis\": {\"anchor\": \"x\", \"domain\": [0.0, 1.0], \"title\": {\"text\": \"Avg Pct Change 2015-2020\"}}},\n",
       "                        {\"responsive\": true}\n",
       "                    ).then(function(){\n",
       "                            \n",
       "var gd = document.getElementById('a3f4efbc-214b-4c65-8871-8b15e3181fa3');\n",
       "var x = new MutationObserver(function (mutations, observer) {{\n",
       "        var display = window.getComputedStyle(gd).display;\n",
       "        if (!display || display === 'none') {{\n",
       "            console.log([gd, 'removed!']);\n",
       "            Plotly.purge(gd);\n",
       "            observer.disconnect();\n",
       "        }}\n",
       "}});\n",
       "\n",
       "// Listen for the removal of the full notebook cells\n",
       "var notebookContainer = gd.closest('#notebook-container');\n",
       "if (notebookContainer) {{\n",
       "    x.observe(notebookContainer, {childList: true});\n",
       "}}\n",
       "\n",
       "// Listen for the clearing of the current output cell\n",
       "var outputEl = gd.closest('.output');\n",
       "if (outputEl) {{\n",
       "    x.observe(outputEl, {childList: true});\n",
       "}}\n",
       "\n",
       "                        })\n",
       "                };\n",
       "                });\n",
       "            </script>\n",
       "        </div>"
      ]
     },
     "metadata": {},
     "output_type": "display_data"
    }
   ],
   "source": [
    "avg5yr"
   ]
  },
  {
   "cell_type": "code",
   "execution_count": 264,
   "metadata": {},
   "outputs": [],
   "source": [
    "import plotly.graph_objects as go"
   ]
  },
  {
   "cell_type": "code",
   "execution_count": 301,
   "metadata": {},
   "outputs": [
    {
     "data": {
      "application/vnd.plotly.v1+json": {
       "config": {
        "plotlyServerURL": "https://plot.ly"
       },
       "data": [
        {
         "mode": "lines",
         "name": "10th & Page",
         "type": "scatter",
         "x": [
          2000,
          2001,
          2002,
          2003,
          2004,
          2005,
          2006,
          2007,
          2008,
          2009,
          2010,
          2011,
          2012,
          2013,
          2014,
          2015,
          2016,
          2017,
          2018,
          2019,
          2020
         ],
         "y": [
          null,
          12.330925633281243,
          6.461777281249791,
          6.564580926234334,
          23.85416620449415,
          33.93758098750105,
          146.4749270417644,
          65.45436603297921,
          10.778968468556544,
          13.227846700525014,
          -1.2118398493241864,
          1.0315264795683876,
          -0.05598581125261935,
          -3.6090009082957297,
          1.0420192900203484,
          7.758701036515949,
          9.23726493518143,
          10.88323369788074,
          12.932374115386834,
          19.14750706236015,
          4.391010268988066
         ]
        },
        {
         "mode": "lines",
         "name": "Barracks / Rugby",
         "type": "scatter",
         "x": [
          2000,
          2001,
          2002,
          2003,
          2004,
          2005,
          2006,
          2007,
          2008,
          2009,
          2010,
          2011,
          2012,
          2013,
          2014,
          2015,
          2016,
          2017,
          2018,
          2019,
          2020
         ],
         "y": [
          null,
          13.264465548615952,
          21.72529436599656,
          9.932647299912135,
          26.124661961906583,
          16.145505570610478,
          29.250459896304356,
          13.004854941260099,
          0.6231032026799653,
          0.9691031247828117,
          -0.7097340942999216,
          -3.042748653553618,
          -0.13864396367921328,
          0.3359737291795482,
          4.624014629010708,
          5.48239844505668,
          5.440982818547726,
          4.647726579876825,
          5.1325642545376216,
          11.489874595615827,
          2.7515992498763135
         ]
        },
        {
         "mode": "lines",
         "name": "Belmont",
         "type": "scatter",
         "x": [
          2000,
          2001,
          2002,
          2003,
          2004,
          2005,
          2006,
          2007,
          2008,
          2009,
          2010,
          2011,
          2012,
          2013,
          2014,
          2015,
          2016,
          2017,
          2018,
          2019,
          2020
         ],
         "y": [
          0,
          10.768890977888285,
          14.047665490686544,
          26.52111251996946,
          22.021259348415605,
          20.737868261652178,
          23.38806491256471,
          26.405607884879974,
          17.404318293468254,
          3.581259512324751,
          0.6802432798053012,
          1.7111285364659017,
          -0.13472910717168776,
          1.7483446318798659,
          4.74334816948688,
          5.79855948204521,
          21.72250418228396,
          15.22755007493506,
          24.744641330833275,
          10.2877887378822,
          9.864679660988632
         ]
        },
        {
         "mode": "lines",
         "name": "Fifeville",
         "type": "scatter",
         "x": [
          2000,
          2001,
          2002,
          2003,
          2004,
          2005,
          2006,
          2007,
          2008,
          2009,
          2010,
          2011,
          2012,
          2013,
          2014,
          2015,
          2016,
          2017,
          2018,
          2019,
          2020
         ],
         "y": [
          0,
          22.77212539487552,
          2.750167263635743,
          17.699675391567226,
          26.95637246657496,
          30.152632228083835,
          32.67426404031696,
          39.07629213523659,
          8.042070535580766,
          9.527977451523796,
          4.429255421653696,
          8.918292710769892,
          3.6582717028329905,
          -1.9637597136684142,
          5.157453729388412,
          -1.0948485362500253,
          7.726800979426443,
          9.090413997179652,
          2.064569760737894,
          11.794010808706096,
          4.735239538556231
         ]
        },
        {
         "mode": "lines",
         "name": "Fry's Spring",
         "type": "scatter",
         "x": [
          2000,
          2001,
          2002,
          2003,
          2004,
          2005,
          2006,
          2007,
          2008,
          2009,
          2010,
          2011,
          2012,
          2013,
          2014,
          2015,
          2016,
          2017,
          2018,
          2019,
          2020
         ],
         "y": [
          0,
          17.986264759826728,
          8.989455151782503,
          14.8705338670797,
          15.50198358509864,
          18.470341909563395,
          22.46930255235986,
          32.394878950464786,
          17.015322437640407,
          -0.3039416816909584,
          19.482643927757984,
          10.43203199982218,
          7.648543644495647,
          13.96144436502568,
          7.547761577438657,
          10.292755628641734,
          22.205584793187278,
          44.73181290085862,
          14.694115383441995,
          19.854590273757005,
          5.7969212189593
         ]
        },
        {
         "mode": "lines",
         "name": "Greenbrier",
         "type": "scatter",
         "x": [
          2000,
          2001,
          2002,
          2003,
          2004,
          2005,
          2006,
          2007,
          2008,
          2009,
          2010,
          2011,
          2012,
          2013,
          2014,
          2015,
          2016,
          2017,
          2018,
          2019,
          2020
         ],
         "y": [
          null,
          11.670610077172212,
          13.547884479941965,
          11.283700596581724,
          12.332568524667822,
          11.760455050989869,
          13.160700050356947,
          19.777240569141,
          0.6014401115015117,
          -3.4451505462714,
          -2.028195566609761,
          1.9733154829820818,
          -3.1866972915633722,
          -2.6204592605964234,
          1.6031980529307854,
          0.8918745324022382,
          9.108780861699922,
          2.2547559675221622,
          11.07791065948596,
          3.925264378894511,
          12.291307100477068
         ]
        },
        {
         "mode": "lines",
         "name": "Jefferson Park Avenue",
         "type": "scatter",
         "x": [
          2000,
          2001,
          2002,
          2003,
          2004,
          2005,
          2006,
          2007,
          2008,
          2009,
          2010,
          2011,
          2012,
          2013,
          2014,
          2015,
          2016,
          2017,
          2018,
          2019,
          2020
         ],
         "y": [
          null,
          9.429263467600219,
          12.286358288706849,
          14.934453476126185,
          16.03376850275694,
          29.596694209425834,
          27.580339681382927,
          -0.1361142866542204,
          5.696487091761538,
          0.8460666521275465,
          -6.602604119381121,
          0,
          -0.032778044357708355,
          -4.270069295755119,
          1.1734522314299536,
          1.300017489068512,
          5.705555555555556,
          10.892402972574475,
          12.255062736860689,
          10.750297068289889,
          6.342884270908172
         ]
        },
        {
         "mode": "lines",
         "name": "Johnson Village",
         "type": "scatter",
         "x": [
          2000,
          2001,
          2002,
          2003,
          2004,
          2005,
          2006,
          2007,
          2008,
          2009,
          2010,
          2011,
          2012,
          2013,
          2014,
          2015,
          2016,
          2017,
          2018,
          2019,
          2020
         ],
         "y": [
          null,
          10.612507586256203,
          8.408851103118616,
          11.9281262592267,
          8.539017622189647,
          14.624652860986615,
          19.063875106720573,
          87.13023968141539,
          168.55957252825394,
          75.47609094940528,
          12.75028810083868,
          3.6345441802222336,
          -3.4264381637521066,
          -0.9179780150520372,
          0.922643828874407,
          4.45167626223052,
          4.605929287688465,
          3.137779357293544,
          6.508335229085509,
          6.331334775752136,
          4.529749114393565
         ]
        },
        {
         "mode": "lines",
         "name": "Lewis Mountain",
         "type": "scatter",
         "x": [
          2000,
          2001,
          2002,
          2003,
          2004,
          2005,
          2006,
          2007,
          2008,
          2009,
          2010,
          2011,
          2012,
          2013,
          2014,
          2015,
          2016,
          2017,
          2018,
          2019,
          2020
         ],
         "y": [
          0,
          10.371979967858467,
          10.725592937012195,
          18.375682428602722,
          14.84397190876379,
          9.667186520058797,
          19.16982534115982,
          6.140192248653148,
          7.37576879829204,
          4.491833483947832,
          -2.518117398756955,
          0.14432850379978818,
          5.333838440299454,
          -5.05102989668638,
          9.677405582069124,
          0.6450313673417014,
          0.7667084694818973,
          1.9511794402249352,
          8.713695273566053,
          5.8842572971029625,
          1.6054296623266904
         ]
        },
        {
         "mode": "lines",
         "name": "Locust Grove",
         "type": "scatter",
         "x": [
          2000,
          2001,
          2002,
          2003,
          2004,
          2005,
          2006,
          2007,
          2008,
          2009,
          2010,
          2011,
          2012,
          2013,
          2014,
          2015,
          2016,
          2017,
          2018,
          2019,
          2020
         ],
         "y": [
          null,
          12.539350107335233,
          11.687035721230473,
          18.743434375412896,
          17.464097190235545,
          19.761014964242698,
          40.62057138555743,
          22.815707892449073,
          12.701439730902305,
          -0.03777686557985246,
          -0.7604619578652955,
          -0.8849302622193567,
          -2.8411048928542355,
          -6.647035622317947,
          1.952300279528242,
          -0.13468033677615113,
          7.549898557865869,
          8.665362482230819,
          41.00469539885706,
          18.87991565351693,
          9.78732026340754
         ]
        },
        {
         "mode": "lines",
         "name": "Martha Jefferson",
         "type": "scatter",
         "x": [
          2000,
          2001,
          2002,
          2003,
          2004,
          2005,
          2006,
          2007,
          2008,
          2009,
          2010,
          2011,
          2012,
          2013,
          2014,
          2015,
          2016,
          2017,
          2018,
          2019,
          2020
         ],
         "y": [
          0,
          16.987219345063185,
          7.335425268437386,
          18.728073907299784,
          24.47210910203428,
          15.584971296457526,
          27.531610676246473,
          8.454523655569508,
          8.041718146306671,
          3.187116862175714,
          2.332311369168831,
          -0.4514444435979533,
          3.688704104372031,
          0.607388067208654,
          -1.4395875021495503,
          3.302347432913333,
          1.866238999193024,
          14.827976860198504,
          75.69503539563348,
          15.886995197958669,
          6.6228973982210935
         ]
        },
        {
         "mode": "lines",
         "name": "North Downtown",
         "type": "scatter",
         "x": [
          2000,
          2001,
          2002,
          2003,
          2004,
          2005,
          2006,
          2007,
          2008,
          2009,
          2010,
          2011,
          2012,
          2013,
          2014,
          2015,
          2016,
          2017,
          2018,
          2019,
          2020
         ],
         "y": [
          null,
          12.214509935927474,
          12.527232536736669,
          13.580662837644354,
          18.153419501572774,
          32.94151649598867,
          17.057519073394804,
          13.959028918331109,
          2.2356991473084684,
          -1.8481808176530305,
          -2.3643209163333134,
          5.431242049466502,
          0.9721437877804154,
          1.1406223252688723,
          1.3125648617234469,
          6.374606271843452,
          2.1925384840375775,
          6.481155011755776,
          7.428936812696702,
          10.220864005786757,
          2.879147233298534
         ]
        },
        {
         "mode": "lines",
         "name": "Ridge Street",
         "type": "scatter",
         "x": [
          2000,
          2001,
          2002,
          2003,
          2004,
          2005,
          2006,
          2007,
          2008,
          2009,
          2010,
          2011,
          2012,
          2013,
          2014,
          2015,
          2016,
          2017,
          2018,
          2019,
          2020
         ],
         "y": [
          null,
          17.577612253083565,
          9.080111119485766,
          19.018642010949595,
          14.668231549260351,
          108.52247306437174,
          54.22033187565587,
          31.70926047228329,
          70.89602881240134,
          38.12139882971483,
          19.37683246466379,
          3.162262596794768,
          3.64001726386638,
          -0.8463676291850073,
          2.3978321698679177,
          25.108573991238448,
          55.66866970151599,
          16.52199746183509,
          15.452441907570776,
          8.682312344555019,
          21.938919398497593
         ]
        },
        {
         "mode": "lines",
         "name": "Rose Hill",
         "type": "scatter",
         "x": [
          2000,
          2001,
          2002,
          2003,
          2004,
          2005,
          2006,
          2007,
          2008,
          2009,
          2010,
          2011,
          2012,
          2013,
          2014,
          2015,
          2016,
          2017,
          2018,
          2019,
          2020
         ],
         "y": [
          null,
          5.337294815722715,
          11.625123927765936,
          37.41420245878635,
          35.661842736059114,
          14.737430322781014,
          82.02670101920654,
          11.122732231449632,
          1.4339924632865393,
          0.4890947933068411,
          7.762347401659722,
          -14.944088578566848,
          1.7539252281244324,
          20.10772488583676,
          1.1304859382682249,
          0.9879469300959117,
          29.86875062766381,
          0.43690732384452274,
          56.035915785789214,
          -0.9748092627538567,
          5.395041727276703
         ]
        },
        {
         "mode": "lines",
         "name": "Starr Hill",
         "type": "scatter",
         "x": [
          2000,
          2001,
          2002,
          2003,
          2004,
          2005,
          2006,
          2007,
          2008,
          2009,
          2010,
          2011,
          2012,
          2013,
          2014,
          2015,
          2016,
          2017,
          2018,
          2019,
          2020
         ],
         "y": [
          null,
          5.543787300816787,
          1.8209989589594104,
          75.91269720212475,
          17.3205978358161,
          26.873748460357675,
          16.160407340469682,
          23.57093835807022,
          8.870132643253863,
          5.7465889021107275,
          -4.641452703849778,
          1.8277148401941292,
          0.47842515845928774,
          -4.117456064112895,
          0,
          0,
          3.128784820347194,
          12.025917941629428,
          9.184875405029812,
          16.494337526213904,
          0
         ]
        },
        {
         "mode": "lines",
         "name": "The Meadows",
         "type": "scatter",
         "x": [
          2000,
          2001,
          2002,
          2003,
          2004,
          2005,
          2006,
          2007,
          2008,
          2009,
          2010,
          2011,
          2012,
          2013,
          2014,
          2015,
          2016,
          2017,
          2018,
          2019,
          2020
         ],
         "y": [
          null,
          4.632012470344403,
          16.204516259715145,
          5.631565917961481,
          13.448817950341237,
          12.216227386087066,
          27.821313098958438,
          7.80966662613934,
          7.217783007152129,
          -5.78937734055351,
          0.1330560973840976,
          -0.13221287753640087,
          11.146289677539613,
          -13.670887725910971,
          0.03996360760839053,
          0,
          5.013951582558712,
          7.493473509242899,
          12.395368381322628,
          12.546832834237852,
          0.1993893877096529
         ]
        },
        {
         "mode": "lines",
         "name": "Venable",
         "type": "scatter",
         "x": [
          2000,
          2001,
          2002,
          2003,
          2004,
          2005,
          2006,
          2007,
          2008,
          2009,
          2010,
          2011,
          2012,
          2013,
          2014,
          2015,
          2016,
          2017,
          2018,
          2019,
          2020
         ],
         "y": [
          null,
          9.468975019811493,
          11.717350525290442,
          18.69899374311062,
          19.670111426431266,
          27.293340154411116,
          53.29733595091382,
          20.38791410575362,
          2.5569616755054576,
          5.781879380343692,
          -0.06385084643972065,
          4.784305243622047,
          -7.816909713026112,
          -3.355321263120403,
          4.616276186227142,
          14.036262206956374,
          1.7338422031668952,
          7.454685578436959,
          7.187136686220079,
          11.96994970350914,
          2.990785185099976
         ]
        },
        {
         "mode": "lines",
         "name": "Woolen Mills",
         "type": "scatter",
         "x": [
          2000,
          2001,
          2002,
          2003,
          2004,
          2005,
          2006,
          2007,
          2008,
          2009,
          2010,
          2011,
          2012,
          2013,
          2014,
          2015,
          2016,
          2017,
          2018,
          2019,
          2020
         ],
         "y": [
          null,
          20.137995647498787,
          38.7354541562543,
          27.550982054880308,
          43.442870436419824,
          21.464789717814114,
          20.191352897347606,
          37.931701490762016,
          7.789060464588414,
          5.44933652499548,
          4.100092079639057,
          5.180471040766927,
          10.01566383735295,
          6.287801287887663,
          4.233162495683647,
          8.840026192735902,
          10.231374855207406,
          3.974139899296117,
          9.76889454258098,
          19.5986767331509,
          5.465186769169535
         ]
        }
       ],
       "layout": {
        "template": {
         "data": {
          "bar": [
           {
            "error_x": {
             "color": "#2a3f5f"
            },
            "error_y": {
             "color": "#2a3f5f"
            },
            "marker": {
             "line": {
              "color": "#E5ECF6",
              "width": 0.5
             }
            },
            "type": "bar"
           }
          ],
          "barpolar": [
           {
            "marker": {
             "line": {
              "color": "#E5ECF6",
              "width": 0.5
             }
            },
            "type": "barpolar"
           }
          ],
          "carpet": [
           {
            "aaxis": {
             "endlinecolor": "#2a3f5f",
             "gridcolor": "white",
             "linecolor": "white",
             "minorgridcolor": "white",
             "startlinecolor": "#2a3f5f"
            },
            "baxis": {
             "endlinecolor": "#2a3f5f",
             "gridcolor": "white",
             "linecolor": "white",
             "minorgridcolor": "white",
             "startlinecolor": "#2a3f5f"
            },
            "type": "carpet"
           }
          ],
          "choropleth": [
           {
            "colorbar": {
             "outlinewidth": 0,
             "ticks": ""
            },
            "type": "choropleth"
           }
          ],
          "contour": [
           {
            "colorbar": {
             "outlinewidth": 0,
             "ticks": ""
            },
            "colorscale": [
             [
              0,
              "#0d0887"
             ],
             [
              0.1111111111111111,
              "#46039f"
             ],
             [
              0.2222222222222222,
              "#7201a8"
             ],
             [
              0.3333333333333333,
              "#9c179e"
             ],
             [
              0.4444444444444444,
              "#bd3786"
             ],
             [
              0.5555555555555556,
              "#d8576b"
             ],
             [
              0.6666666666666666,
              "#ed7953"
             ],
             [
              0.7777777777777778,
              "#fb9f3a"
             ],
             [
              0.8888888888888888,
              "#fdca26"
             ],
             [
              1,
              "#f0f921"
             ]
            ],
            "type": "contour"
           }
          ],
          "contourcarpet": [
           {
            "colorbar": {
             "outlinewidth": 0,
             "ticks": ""
            },
            "type": "contourcarpet"
           }
          ],
          "heatmap": [
           {
            "colorbar": {
             "outlinewidth": 0,
             "ticks": ""
            },
            "colorscale": [
             [
              0,
              "#0d0887"
             ],
             [
              0.1111111111111111,
              "#46039f"
             ],
             [
              0.2222222222222222,
              "#7201a8"
             ],
             [
              0.3333333333333333,
              "#9c179e"
             ],
             [
              0.4444444444444444,
              "#bd3786"
             ],
             [
              0.5555555555555556,
              "#d8576b"
             ],
             [
              0.6666666666666666,
              "#ed7953"
             ],
             [
              0.7777777777777778,
              "#fb9f3a"
             ],
             [
              0.8888888888888888,
              "#fdca26"
             ],
             [
              1,
              "#f0f921"
             ]
            ],
            "type": "heatmap"
           }
          ],
          "heatmapgl": [
           {
            "colorbar": {
             "outlinewidth": 0,
             "ticks": ""
            },
            "colorscale": [
             [
              0,
              "#0d0887"
             ],
             [
              0.1111111111111111,
              "#46039f"
             ],
             [
              0.2222222222222222,
              "#7201a8"
             ],
             [
              0.3333333333333333,
              "#9c179e"
             ],
             [
              0.4444444444444444,
              "#bd3786"
             ],
             [
              0.5555555555555556,
              "#d8576b"
             ],
             [
              0.6666666666666666,
              "#ed7953"
             ],
             [
              0.7777777777777778,
              "#fb9f3a"
             ],
             [
              0.8888888888888888,
              "#fdca26"
             ],
             [
              1,
              "#f0f921"
             ]
            ],
            "type": "heatmapgl"
           }
          ],
          "histogram": [
           {
            "marker": {
             "colorbar": {
              "outlinewidth": 0,
              "ticks": ""
             }
            },
            "type": "histogram"
           }
          ],
          "histogram2d": [
           {
            "colorbar": {
             "outlinewidth": 0,
             "ticks": ""
            },
            "colorscale": [
             [
              0,
              "#0d0887"
             ],
             [
              0.1111111111111111,
              "#46039f"
             ],
             [
              0.2222222222222222,
              "#7201a8"
             ],
             [
              0.3333333333333333,
              "#9c179e"
             ],
             [
              0.4444444444444444,
              "#bd3786"
             ],
             [
              0.5555555555555556,
              "#d8576b"
             ],
             [
              0.6666666666666666,
              "#ed7953"
             ],
             [
              0.7777777777777778,
              "#fb9f3a"
             ],
             [
              0.8888888888888888,
              "#fdca26"
             ],
             [
              1,
              "#f0f921"
             ]
            ],
            "type": "histogram2d"
           }
          ],
          "histogram2dcontour": [
           {
            "colorbar": {
             "outlinewidth": 0,
             "ticks": ""
            },
            "colorscale": [
             [
              0,
              "#0d0887"
             ],
             [
              0.1111111111111111,
              "#46039f"
             ],
             [
              0.2222222222222222,
              "#7201a8"
             ],
             [
              0.3333333333333333,
              "#9c179e"
             ],
             [
              0.4444444444444444,
              "#bd3786"
             ],
             [
              0.5555555555555556,
              "#d8576b"
             ],
             [
              0.6666666666666666,
              "#ed7953"
             ],
             [
              0.7777777777777778,
              "#fb9f3a"
             ],
             [
              0.8888888888888888,
              "#fdca26"
             ],
             [
              1,
              "#f0f921"
             ]
            ],
            "type": "histogram2dcontour"
           }
          ],
          "mesh3d": [
           {
            "colorbar": {
             "outlinewidth": 0,
             "ticks": ""
            },
            "type": "mesh3d"
           }
          ],
          "parcoords": [
           {
            "line": {
             "colorbar": {
              "outlinewidth": 0,
              "ticks": ""
             }
            },
            "type": "parcoords"
           }
          ],
          "pie": [
           {
            "automargin": true,
            "type": "pie"
           }
          ],
          "scatter": [
           {
            "marker": {
             "colorbar": {
              "outlinewidth": 0,
              "ticks": ""
             }
            },
            "type": "scatter"
           }
          ],
          "scatter3d": [
           {
            "line": {
             "colorbar": {
              "outlinewidth": 0,
              "ticks": ""
             }
            },
            "marker": {
             "colorbar": {
              "outlinewidth": 0,
              "ticks": ""
             }
            },
            "type": "scatter3d"
           }
          ],
          "scattercarpet": [
           {
            "marker": {
             "colorbar": {
              "outlinewidth": 0,
              "ticks": ""
             }
            },
            "type": "scattercarpet"
           }
          ],
          "scattergeo": [
           {
            "marker": {
             "colorbar": {
              "outlinewidth": 0,
              "ticks": ""
             }
            },
            "type": "scattergeo"
           }
          ],
          "scattergl": [
           {
            "marker": {
             "colorbar": {
              "outlinewidth": 0,
              "ticks": ""
             }
            },
            "type": "scattergl"
           }
          ],
          "scattermapbox": [
           {
            "marker": {
             "colorbar": {
              "outlinewidth": 0,
              "ticks": ""
             }
            },
            "type": "scattermapbox"
           }
          ],
          "scatterpolar": [
           {
            "marker": {
             "colorbar": {
              "outlinewidth": 0,
              "ticks": ""
             }
            },
            "type": "scatterpolar"
           }
          ],
          "scatterpolargl": [
           {
            "marker": {
             "colorbar": {
              "outlinewidth": 0,
              "ticks": ""
             }
            },
            "type": "scatterpolargl"
           }
          ],
          "scatterternary": [
           {
            "marker": {
             "colorbar": {
              "outlinewidth": 0,
              "ticks": ""
             }
            },
            "type": "scatterternary"
           }
          ],
          "surface": [
           {
            "colorbar": {
             "outlinewidth": 0,
             "ticks": ""
            },
            "colorscale": [
             [
              0,
              "#0d0887"
             ],
             [
              0.1111111111111111,
              "#46039f"
             ],
             [
              0.2222222222222222,
              "#7201a8"
             ],
             [
              0.3333333333333333,
              "#9c179e"
             ],
             [
              0.4444444444444444,
              "#bd3786"
             ],
             [
              0.5555555555555556,
              "#d8576b"
             ],
             [
              0.6666666666666666,
              "#ed7953"
             ],
             [
              0.7777777777777778,
              "#fb9f3a"
             ],
             [
              0.8888888888888888,
              "#fdca26"
             ],
             [
              1,
              "#f0f921"
             ]
            ],
            "type": "surface"
           }
          ],
          "table": [
           {
            "cells": {
             "fill": {
              "color": "#EBF0F8"
             },
             "line": {
              "color": "white"
             }
            },
            "header": {
             "fill": {
              "color": "#C8D4E3"
             },
             "line": {
              "color": "white"
             }
            },
            "type": "table"
           }
          ]
         },
         "layout": {
          "annotationdefaults": {
           "arrowcolor": "#2a3f5f",
           "arrowhead": 0,
           "arrowwidth": 1
          },
          "coloraxis": {
           "colorbar": {
            "outlinewidth": 0,
            "ticks": ""
           }
          },
          "colorscale": {
           "diverging": [
            [
             0,
             "#8e0152"
            ],
            [
             0.1,
             "#c51b7d"
            ],
            [
             0.2,
             "#de77ae"
            ],
            [
             0.3,
             "#f1b6da"
            ],
            [
             0.4,
             "#fde0ef"
            ],
            [
             0.5,
             "#f7f7f7"
            ],
            [
             0.6,
             "#e6f5d0"
            ],
            [
             0.7,
             "#b8e186"
            ],
            [
             0.8,
             "#7fbc41"
            ],
            [
             0.9,
             "#4d9221"
            ],
            [
             1,
             "#276419"
            ]
           ],
           "sequential": [
            [
             0,
             "#0d0887"
            ],
            [
             0.1111111111111111,
             "#46039f"
            ],
            [
             0.2222222222222222,
             "#7201a8"
            ],
            [
             0.3333333333333333,
             "#9c179e"
            ],
            [
             0.4444444444444444,
             "#bd3786"
            ],
            [
             0.5555555555555556,
             "#d8576b"
            ],
            [
             0.6666666666666666,
             "#ed7953"
            ],
            [
             0.7777777777777778,
             "#fb9f3a"
            ],
            [
             0.8888888888888888,
             "#fdca26"
            ],
            [
             1,
             "#f0f921"
            ]
           ],
           "sequentialminus": [
            [
             0,
             "#0d0887"
            ],
            [
             0.1111111111111111,
             "#46039f"
            ],
            [
             0.2222222222222222,
             "#7201a8"
            ],
            [
             0.3333333333333333,
             "#9c179e"
            ],
            [
             0.4444444444444444,
             "#bd3786"
            ],
            [
             0.5555555555555556,
             "#d8576b"
            ],
            [
             0.6666666666666666,
             "#ed7953"
            ],
            [
             0.7777777777777778,
             "#fb9f3a"
            ],
            [
             0.8888888888888888,
             "#fdca26"
            ],
            [
             1,
             "#f0f921"
            ]
           ]
          },
          "colorway": [
           "#636efa",
           "#EF553B",
           "#00cc96",
           "#ab63fa",
           "#FFA15A",
           "#19d3f3",
           "#FF6692",
           "#B6E880",
           "#FF97FF",
           "#FECB52"
          ],
          "font": {
           "color": "#2a3f5f"
          },
          "geo": {
           "bgcolor": "white",
           "lakecolor": "white",
           "landcolor": "#E5ECF6",
           "showlakes": true,
           "showland": true,
           "subunitcolor": "white"
          },
          "hoverlabel": {
           "align": "left"
          },
          "hovermode": "closest",
          "mapbox": {
           "style": "light"
          },
          "paper_bgcolor": "white",
          "plot_bgcolor": "#E5ECF6",
          "polar": {
           "angularaxis": {
            "gridcolor": "white",
            "linecolor": "white",
            "ticks": ""
           },
           "bgcolor": "#E5ECF6",
           "radialaxis": {
            "gridcolor": "white",
            "linecolor": "white",
            "ticks": ""
           }
          },
          "scene": {
           "xaxis": {
            "backgroundcolor": "#E5ECF6",
            "gridcolor": "white",
            "gridwidth": 2,
            "linecolor": "white",
            "showbackground": true,
            "ticks": "",
            "zerolinecolor": "white"
           },
           "yaxis": {
            "backgroundcolor": "#E5ECF6",
            "gridcolor": "white",
            "gridwidth": 2,
            "linecolor": "white",
            "showbackground": true,
            "ticks": "",
            "zerolinecolor": "white"
           },
           "zaxis": {
            "backgroundcolor": "#E5ECF6",
            "gridcolor": "white",
            "gridwidth": 2,
            "linecolor": "white",
            "showbackground": true,
            "ticks": "",
            "zerolinecolor": "white"
           }
          },
          "shapedefaults": {
           "line": {
            "color": "#2a3f5f"
           }
          },
          "ternary": {
           "aaxis": {
            "gridcolor": "white",
            "linecolor": "white",
            "ticks": ""
           },
           "baxis": {
            "gridcolor": "white",
            "linecolor": "white",
            "ticks": ""
           },
           "bgcolor": "#E5ECF6",
           "caxis": {
            "gridcolor": "white",
            "linecolor": "white",
            "ticks": ""
           }
          },
          "title": {
           "x": 0.05
          },
          "xaxis": {
           "automargin": true,
           "gridcolor": "white",
           "linecolor": "white",
           "ticks": "",
           "title": {
            "standoff": 15
           },
           "zerolinecolor": "white",
           "zerolinewidth": 2
          },
          "yaxis": {
           "automargin": true,
           "gridcolor": "white",
           "linecolor": "white",
           "ticks": "",
           "title": {
            "standoff": 15
           },
           "zerolinecolor": "white",
           "zerolinewidth": 2
          }
         }
        },
        "xaxis": {
         "title": {
          "text": "Tax Year"
         }
        },
        "yaxis": {
         "title": {
          "text": "Average Percent Change in Total Assessment Value"
         }
        }
       }
      },
      "text/html": [
       "<div>\n",
       "        \n",
       "        \n",
       "            <div id=\"bcd05ff4-b533-4eab-b253-fb6c0f0460db\" class=\"plotly-graph-div\" style=\"height:525px; width:100%;\"></div>\n",
       "            <script type=\"text/javascript\">\n",
       "                require([\"plotly\"], function(Plotly) {\n",
       "                    window.PLOTLYENV=window.PLOTLYENV || {};\n",
       "                    \n",
       "                if (document.getElementById(\"bcd05ff4-b533-4eab-b253-fb6c0f0460db\")) {\n",
       "                    Plotly.newPlot(\n",
       "                        'bcd05ff4-b533-4eab-b253-fb6c0f0460db',\n",
       "                        [{\"mode\": \"lines\", \"name\": \"10th & Page\", \"type\": \"scatter\", \"x\": [2000.0, 2001.0, 2002.0, 2003.0, 2004.0, 2005.0, 2006.0, 2007.0, 2008.0, 2009.0, 2010.0, 2011.0, 2012.0, 2013.0, 2014.0, 2015.0, 2016.0, 2017.0, 2018.0, 2019.0, 2020.0], \"y\": [null, 12.330925633281243, 6.461777281249791, 6.564580926234334, 23.85416620449415, 33.93758098750105, 146.4749270417644, 65.45436603297921, 10.778968468556544, 13.227846700525014, -1.2118398493241864, 1.0315264795683876, -0.05598581125261935, -3.6090009082957297, 1.0420192900203484, 7.758701036515949, 9.23726493518143, 10.88323369788074, 12.932374115386834, 19.14750706236015, 4.391010268988066]}, {\"mode\": \"lines\", \"name\": \"Barracks / Rugby\", \"type\": \"scatter\", \"x\": [2000.0, 2001.0, 2002.0, 2003.0, 2004.0, 2005.0, 2006.0, 2007.0, 2008.0, 2009.0, 2010.0, 2011.0, 2012.0, 2013.0, 2014.0, 2015.0, 2016.0, 2017.0, 2018.0, 2019.0, 2020.0], \"y\": [null, 13.264465548615952, 21.72529436599656, 9.932647299912135, 26.124661961906583, 16.145505570610478, 29.250459896304356, 13.004854941260099, 0.6231032026799653, 0.9691031247828117, -0.7097340942999216, -3.042748653553618, -0.13864396367921328, 0.3359737291795482, 4.624014629010708, 5.48239844505668, 5.440982818547726, 4.647726579876825, 5.1325642545376216, 11.489874595615827, 2.7515992498763135]}, {\"mode\": \"lines\", \"name\": \"Belmont\", \"type\": \"scatter\", \"x\": [2000.0, 2001.0, 2002.0, 2003.0, 2004.0, 2005.0, 2006.0, 2007.0, 2008.0, 2009.0, 2010.0, 2011.0, 2012.0, 2013.0, 2014.0, 2015.0, 2016.0, 2017.0, 2018.0, 2019.0, 2020.0], \"y\": [0.0, 10.768890977888285, 14.047665490686544, 26.52111251996946, 22.021259348415605, 20.737868261652178, 23.38806491256471, 26.405607884879974, 17.404318293468254, 3.581259512324751, 0.6802432798053012, 1.7111285364659017, -0.13472910717168776, 1.7483446318798659, 4.74334816948688, 5.79855948204521, 21.72250418228396, 15.22755007493506, 24.744641330833275, 10.2877887378822, 9.864679660988632]}, {\"mode\": \"lines\", \"name\": \"Fifeville\", \"type\": \"scatter\", \"x\": [2000.0, 2001.0, 2002.0, 2003.0, 2004.0, 2005.0, 2006.0, 2007.0, 2008.0, 2009.0, 2010.0, 2011.0, 2012.0, 2013.0, 2014.0, 2015.0, 2016.0, 2017.0, 2018.0, 2019.0, 2020.0], \"y\": [0.0, 22.77212539487552, 2.750167263635743, 17.699675391567226, 26.95637246657496, 30.152632228083835, 32.67426404031696, 39.07629213523659, 8.042070535580766, 9.527977451523796, 4.429255421653696, 8.918292710769892, 3.6582717028329905, -1.9637597136684142, 5.157453729388412, -1.0948485362500253, 7.726800979426443, 9.090413997179652, 2.064569760737894, 11.794010808706096, 4.735239538556231]}, {\"mode\": \"lines\", \"name\": \"Fry's Spring\", \"type\": \"scatter\", \"x\": [2000.0, 2001.0, 2002.0, 2003.0, 2004.0, 2005.0, 2006.0, 2007.0, 2008.0, 2009.0, 2010.0, 2011.0, 2012.0, 2013.0, 2014.0, 2015.0, 2016.0, 2017.0, 2018.0, 2019.0, 2020.0], \"y\": [0.0, 17.986264759826728, 8.989455151782503, 14.8705338670797, 15.50198358509864, 18.470341909563395, 22.46930255235986, 32.394878950464786, 17.015322437640407, -0.3039416816909584, 19.482643927757984, 10.43203199982218, 7.648543644495647, 13.96144436502568, 7.547761577438657, 10.292755628641734, 22.205584793187278, 44.73181290085862, 14.694115383441995, 19.854590273757005, 5.7969212189593]}, {\"mode\": \"lines\", \"name\": \"Greenbrier\", \"type\": \"scatter\", \"x\": [2000.0, 2001.0, 2002.0, 2003.0, 2004.0, 2005.0, 2006.0, 2007.0, 2008.0, 2009.0, 2010.0, 2011.0, 2012.0, 2013.0, 2014.0, 2015.0, 2016.0, 2017.0, 2018.0, 2019.0, 2020.0], \"y\": [null, 11.670610077172212, 13.547884479941965, 11.283700596581724, 12.332568524667822, 11.760455050989869, 13.160700050356947, 19.777240569141, 0.6014401115015117, -3.4451505462714, -2.028195566609761, 1.9733154829820818, -3.1866972915633722, -2.6204592605964234, 1.6031980529307854, 0.8918745324022382, 9.108780861699922, 2.2547559675221622, 11.07791065948596, 3.925264378894511, 12.291307100477068]}, {\"mode\": \"lines\", \"name\": \"Jefferson Park Avenue\", \"type\": \"scatter\", \"x\": [2000.0, 2001.0, 2002.0, 2003.0, 2004.0, 2005.0, 2006.0, 2007.0, 2008.0, 2009.0, 2010.0, 2011.0, 2012.0, 2013.0, 2014.0, 2015.0, 2016.0, 2017.0, 2018.0, 2019.0, 2020.0], \"y\": [null, 9.429263467600219, 12.286358288706849, 14.934453476126185, 16.03376850275694, 29.596694209425834, 27.580339681382927, -0.1361142866542204, 5.696487091761538, 0.8460666521275465, -6.602604119381121, 0.0, -0.032778044357708355, -4.270069295755119, 1.1734522314299536, 1.300017489068512, 5.705555555555556, 10.892402972574475, 12.255062736860689, 10.750297068289889, 6.342884270908172]}, {\"mode\": \"lines\", \"name\": \"Johnson Village\", \"type\": \"scatter\", \"x\": [2000.0, 2001.0, 2002.0, 2003.0, 2004.0, 2005.0, 2006.0, 2007.0, 2008.0, 2009.0, 2010.0, 2011.0, 2012.0, 2013.0, 2014.0, 2015.0, 2016.0, 2017.0, 2018.0, 2019.0, 2020.0], \"y\": [null, 10.612507586256203, 8.408851103118616, 11.9281262592267, 8.539017622189647, 14.624652860986615, 19.063875106720573, 87.13023968141539, 168.55957252825394, 75.47609094940528, 12.75028810083868, 3.6345441802222336, -3.4264381637521066, -0.9179780150520372, 0.922643828874407, 4.45167626223052, 4.605929287688465, 3.137779357293544, 6.508335229085509, 6.331334775752136, 4.529749114393565]}, {\"mode\": \"lines\", \"name\": \"Lewis Mountain\", \"type\": \"scatter\", \"x\": [2000.0, 2001.0, 2002.0, 2003.0, 2004.0, 2005.0, 2006.0, 2007.0, 2008.0, 2009.0, 2010.0, 2011.0, 2012.0, 2013.0, 2014.0, 2015.0, 2016.0, 2017.0, 2018.0, 2019.0, 2020.0], \"y\": [0.0, 10.371979967858467, 10.725592937012195, 18.375682428602722, 14.84397190876379, 9.667186520058797, 19.16982534115982, 6.140192248653148, 7.37576879829204, 4.491833483947832, -2.518117398756955, 0.14432850379978818, 5.333838440299454, -5.05102989668638, 9.677405582069124, 0.6450313673417014, 0.7667084694818973, 1.9511794402249352, 8.713695273566053, 5.8842572971029625, 1.6054296623266904]}, {\"mode\": \"lines\", \"name\": \"Locust Grove\", \"type\": \"scatter\", \"x\": [2000.0, 2001.0, 2002.0, 2003.0, 2004.0, 2005.0, 2006.0, 2007.0, 2008.0, 2009.0, 2010.0, 2011.0, 2012.0, 2013.0, 2014.0, 2015.0, 2016.0, 2017.0, 2018.0, 2019.0, 2020.0], \"y\": [null, 12.539350107335233, 11.687035721230473, 18.743434375412896, 17.464097190235545, 19.761014964242698, 40.62057138555743, 22.815707892449073, 12.701439730902305, -0.03777686557985246, -0.7604619578652955, -0.8849302622193567, -2.8411048928542355, -6.647035622317947, 1.952300279528242, -0.13468033677615113, 7.549898557865869, 8.665362482230819, 41.00469539885706, 18.87991565351693, 9.78732026340754]}, {\"mode\": \"lines\", \"name\": \"Martha Jefferson\", \"type\": \"scatter\", \"x\": [2000.0, 2001.0, 2002.0, 2003.0, 2004.0, 2005.0, 2006.0, 2007.0, 2008.0, 2009.0, 2010.0, 2011.0, 2012.0, 2013.0, 2014.0, 2015.0, 2016.0, 2017.0, 2018.0, 2019.0, 2020.0], \"y\": [0.0, 16.987219345063185, 7.335425268437386, 18.728073907299784, 24.47210910203428, 15.584971296457526, 27.531610676246473, 8.454523655569508, 8.041718146306671, 3.187116862175714, 2.332311369168831, -0.4514444435979533, 3.688704104372031, 0.607388067208654, -1.4395875021495503, 3.302347432913333, 1.866238999193024, 14.827976860198504, 75.69503539563348, 15.886995197958669, 6.6228973982210935]}, {\"mode\": \"lines\", \"name\": \"North Downtown\", \"type\": \"scatter\", \"x\": [2000.0, 2001.0, 2002.0, 2003.0, 2004.0, 2005.0, 2006.0, 2007.0, 2008.0, 2009.0, 2010.0, 2011.0, 2012.0, 2013.0, 2014.0, 2015.0, 2016.0, 2017.0, 2018.0, 2019.0, 2020.0], \"y\": [null, 12.214509935927474, 12.527232536736669, 13.580662837644354, 18.153419501572774, 32.94151649598867, 17.057519073394804, 13.959028918331109, 2.2356991473084684, -1.8481808176530305, -2.3643209163333134, 5.431242049466502, 0.9721437877804154, 1.1406223252688723, 1.3125648617234469, 6.374606271843452, 2.1925384840375775, 6.481155011755776, 7.428936812696702, 10.220864005786757, 2.879147233298534]}, {\"mode\": \"lines\", \"name\": \"Ridge Street\", \"type\": \"scatter\", \"x\": [2000.0, 2001.0, 2002.0, 2003.0, 2004.0, 2005.0, 2006.0, 2007.0, 2008.0, 2009.0, 2010.0, 2011.0, 2012.0, 2013.0, 2014.0, 2015.0, 2016.0, 2017.0, 2018.0, 2019.0, 2020.0], \"y\": [null, 17.577612253083565, 9.080111119485766, 19.018642010949595, 14.668231549260351, 108.52247306437174, 54.22033187565587, 31.70926047228329, 70.89602881240134, 38.12139882971483, 19.37683246466379, 3.162262596794768, 3.64001726386638, -0.8463676291850073, 2.3978321698679177, 25.108573991238448, 55.66866970151599, 16.52199746183509, 15.452441907570776, 8.682312344555019, 21.938919398497593]}, {\"mode\": \"lines\", \"name\": \"Rose Hill\", \"type\": \"scatter\", \"x\": [2000.0, 2001.0, 2002.0, 2003.0, 2004.0, 2005.0, 2006.0, 2007.0, 2008.0, 2009.0, 2010.0, 2011.0, 2012.0, 2013.0, 2014.0, 2015.0, 2016.0, 2017.0, 2018.0, 2019.0, 2020.0], \"y\": [null, 5.337294815722715, 11.625123927765936, 37.41420245878635, 35.661842736059114, 14.737430322781014, 82.02670101920654, 11.122732231449632, 1.4339924632865393, 0.4890947933068411, 7.762347401659722, -14.944088578566848, 1.7539252281244324, 20.10772488583676, 1.1304859382682249, 0.9879469300959117, 29.86875062766381, 0.43690732384452274, 56.035915785789214, -0.9748092627538567, 5.395041727276703]}, {\"mode\": \"lines\", \"name\": \"Starr Hill\", \"type\": \"scatter\", \"x\": [2000.0, 2001.0, 2002.0, 2003.0, 2004.0, 2005.0, 2006.0, 2007.0, 2008.0, 2009.0, 2010.0, 2011.0, 2012.0, 2013.0, 2014.0, 2015.0, 2016.0, 2017.0, 2018.0, 2019.0, 2020.0], \"y\": [null, 5.543787300816787, 1.8209989589594104, 75.91269720212475, 17.3205978358161, 26.873748460357675, 16.160407340469682, 23.57093835807022, 8.870132643253863, 5.7465889021107275, -4.641452703849778, 1.8277148401941292, 0.47842515845928774, -4.117456064112895, 0.0, 0.0, 3.128784820347194, 12.025917941629428, 9.184875405029812, 16.494337526213904, 0.0]}, {\"mode\": \"lines\", \"name\": \"The Meadows\", \"type\": \"scatter\", \"x\": [2000.0, 2001.0, 2002.0, 2003.0, 2004.0, 2005.0, 2006.0, 2007.0, 2008.0, 2009.0, 2010.0, 2011.0, 2012.0, 2013.0, 2014.0, 2015.0, 2016.0, 2017.0, 2018.0, 2019.0, 2020.0], \"y\": [null, 4.632012470344403, 16.204516259715145, 5.631565917961481, 13.448817950341237, 12.216227386087066, 27.821313098958438, 7.80966662613934, 7.217783007152129, -5.78937734055351, 0.1330560973840976, -0.13221287753640087, 11.146289677539613, -13.670887725910971, 0.03996360760839053, 0.0, 5.013951582558712, 7.493473509242899, 12.395368381322628, 12.546832834237852, 0.1993893877096529]}, {\"mode\": \"lines\", \"name\": \"Venable\", \"type\": \"scatter\", \"x\": [2000.0, 2001.0, 2002.0, 2003.0, 2004.0, 2005.0, 2006.0, 2007.0, 2008.0, 2009.0, 2010.0, 2011.0, 2012.0, 2013.0, 2014.0, 2015.0, 2016.0, 2017.0, 2018.0, 2019.0, 2020.0], \"y\": [null, 9.468975019811493, 11.717350525290442, 18.69899374311062, 19.670111426431266, 27.293340154411116, 53.29733595091382, 20.38791410575362, 2.5569616755054576, 5.781879380343692, -0.06385084643972065, 4.784305243622047, -7.816909713026112, -3.355321263120403, 4.616276186227142, 14.036262206956374, 1.7338422031668952, 7.454685578436959, 7.187136686220079, 11.96994970350914, 2.990785185099976]}, {\"mode\": \"lines\", \"name\": \"Woolen Mills\", \"type\": \"scatter\", \"x\": [2000.0, 2001.0, 2002.0, 2003.0, 2004.0, 2005.0, 2006.0, 2007.0, 2008.0, 2009.0, 2010.0, 2011.0, 2012.0, 2013.0, 2014.0, 2015.0, 2016.0, 2017.0, 2018.0, 2019.0, 2020.0], \"y\": [null, 20.137995647498787, 38.7354541562543, 27.550982054880308, 43.442870436419824, 21.464789717814114, 20.191352897347606, 37.931701490762016, 7.789060464588414, 5.44933652499548, 4.100092079639057, 5.180471040766927, 10.01566383735295, 6.287801287887663, 4.233162495683647, 8.840026192735902, 10.231374855207406, 3.974139899296117, 9.76889454258098, 19.5986767331509, 5.465186769169535]}],\n",
       "                        {\"template\": {\"data\": {\"bar\": [{\"error_x\": {\"color\": \"#2a3f5f\"}, \"error_y\": {\"color\": \"#2a3f5f\"}, \"marker\": {\"line\": {\"color\": \"#E5ECF6\", \"width\": 0.5}}, \"type\": \"bar\"}], \"barpolar\": [{\"marker\": {\"line\": {\"color\": \"#E5ECF6\", \"width\": 0.5}}, \"type\": \"barpolar\"}], \"carpet\": [{\"aaxis\": {\"endlinecolor\": \"#2a3f5f\", \"gridcolor\": \"white\", \"linecolor\": \"white\", \"minorgridcolor\": \"white\", \"startlinecolor\": \"#2a3f5f\"}, \"baxis\": {\"endlinecolor\": \"#2a3f5f\", \"gridcolor\": \"white\", \"linecolor\": \"white\", \"minorgridcolor\": \"white\", \"startlinecolor\": \"#2a3f5f\"}, \"type\": \"carpet\"}], \"choropleth\": [{\"colorbar\": {\"outlinewidth\": 0, \"ticks\": \"\"}, \"type\": \"choropleth\"}], \"contour\": [{\"colorbar\": {\"outlinewidth\": 0, \"ticks\": \"\"}, \"colorscale\": [[0.0, \"#0d0887\"], [0.1111111111111111, \"#46039f\"], [0.2222222222222222, \"#7201a8\"], [0.3333333333333333, \"#9c179e\"], [0.4444444444444444, \"#bd3786\"], [0.5555555555555556, \"#d8576b\"], [0.6666666666666666, \"#ed7953\"], [0.7777777777777778, \"#fb9f3a\"], [0.8888888888888888, \"#fdca26\"], [1.0, \"#f0f921\"]], \"type\": \"contour\"}], \"contourcarpet\": [{\"colorbar\": {\"outlinewidth\": 0, \"ticks\": \"\"}, \"type\": \"contourcarpet\"}], \"heatmap\": [{\"colorbar\": {\"outlinewidth\": 0, \"ticks\": \"\"}, \"colorscale\": [[0.0, \"#0d0887\"], [0.1111111111111111, \"#46039f\"], [0.2222222222222222, \"#7201a8\"], [0.3333333333333333, \"#9c179e\"], [0.4444444444444444, \"#bd3786\"], [0.5555555555555556, \"#d8576b\"], [0.6666666666666666, \"#ed7953\"], [0.7777777777777778, \"#fb9f3a\"], [0.8888888888888888, \"#fdca26\"], [1.0, \"#f0f921\"]], \"type\": \"heatmap\"}], \"heatmapgl\": [{\"colorbar\": {\"outlinewidth\": 0, \"ticks\": \"\"}, \"colorscale\": [[0.0, \"#0d0887\"], [0.1111111111111111, \"#46039f\"], [0.2222222222222222, \"#7201a8\"], [0.3333333333333333, \"#9c179e\"], [0.4444444444444444, \"#bd3786\"], [0.5555555555555556, \"#d8576b\"], [0.6666666666666666, \"#ed7953\"], [0.7777777777777778, \"#fb9f3a\"], [0.8888888888888888, \"#fdca26\"], [1.0, \"#f0f921\"]], \"type\": \"heatmapgl\"}], \"histogram\": [{\"marker\": {\"colorbar\": {\"outlinewidth\": 0, \"ticks\": \"\"}}, \"type\": \"histogram\"}], \"histogram2d\": [{\"colorbar\": {\"outlinewidth\": 0, \"ticks\": \"\"}, \"colorscale\": [[0.0, \"#0d0887\"], [0.1111111111111111, \"#46039f\"], [0.2222222222222222, \"#7201a8\"], [0.3333333333333333, \"#9c179e\"], [0.4444444444444444, \"#bd3786\"], [0.5555555555555556, \"#d8576b\"], [0.6666666666666666, \"#ed7953\"], [0.7777777777777778, \"#fb9f3a\"], [0.8888888888888888, \"#fdca26\"], [1.0, \"#f0f921\"]], \"type\": \"histogram2d\"}], \"histogram2dcontour\": [{\"colorbar\": {\"outlinewidth\": 0, \"ticks\": \"\"}, \"colorscale\": [[0.0, \"#0d0887\"], [0.1111111111111111, \"#46039f\"], [0.2222222222222222, \"#7201a8\"], [0.3333333333333333, \"#9c179e\"], [0.4444444444444444, \"#bd3786\"], [0.5555555555555556, \"#d8576b\"], [0.6666666666666666, \"#ed7953\"], [0.7777777777777778, \"#fb9f3a\"], [0.8888888888888888, \"#fdca26\"], [1.0, \"#f0f921\"]], \"type\": \"histogram2dcontour\"}], \"mesh3d\": [{\"colorbar\": {\"outlinewidth\": 0, \"ticks\": \"\"}, \"type\": \"mesh3d\"}], \"parcoords\": [{\"line\": {\"colorbar\": {\"outlinewidth\": 0, \"ticks\": \"\"}}, \"type\": \"parcoords\"}], \"pie\": [{\"automargin\": true, \"type\": \"pie\"}], \"scatter\": [{\"marker\": {\"colorbar\": {\"outlinewidth\": 0, \"ticks\": \"\"}}, \"type\": \"scatter\"}], \"scatter3d\": [{\"line\": {\"colorbar\": {\"outlinewidth\": 0, \"ticks\": \"\"}}, \"marker\": {\"colorbar\": {\"outlinewidth\": 0, \"ticks\": \"\"}}, \"type\": \"scatter3d\"}], \"scattercarpet\": [{\"marker\": {\"colorbar\": {\"outlinewidth\": 0, \"ticks\": \"\"}}, \"type\": \"scattercarpet\"}], \"scattergeo\": [{\"marker\": {\"colorbar\": {\"outlinewidth\": 0, \"ticks\": \"\"}}, \"type\": \"scattergeo\"}], \"scattergl\": [{\"marker\": {\"colorbar\": {\"outlinewidth\": 0, \"ticks\": \"\"}}, \"type\": \"scattergl\"}], \"scattermapbox\": [{\"marker\": {\"colorbar\": {\"outlinewidth\": 0, \"ticks\": \"\"}}, \"type\": \"scattermapbox\"}], \"scatterpolar\": [{\"marker\": {\"colorbar\": {\"outlinewidth\": 0, \"ticks\": \"\"}}, \"type\": \"scatterpolar\"}], \"scatterpolargl\": [{\"marker\": {\"colorbar\": {\"outlinewidth\": 0, \"ticks\": \"\"}}, \"type\": \"scatterpolargl\"}], \"scatterternary\": [{\"marker\": {\"colorbar\": {\"outlinewidth\": 0, \"ticks\": \"\"}}, \"type\": \"scatterternary\"}], \"surface\": [{\"colorbar\": {\"outlinewidth\": 0, \"ticks\": \"\"}, \"colorscale\": [[0.0, \"#0d0887\"], [0.1111111111111111, \"#46039f\"], [0.2222222222222222, \"#7201a8\"], [0.3333333333333333, \"#9c179e\"], [0.4444444444444444, \"#bd3786\"], [0.5555555555555556, \"#d8576b\"], [0.6666666666666666, \"#ed7953\"], [0.7777777777777778, \"#fb9f3a\"], [0.8888888888888888, \"#fdca26\"], [1.0, \"#f0f921\"]], \"type\": \"surface\"}], \"table\": [{\"cells\": {\"fill\": {\"color\": \"#EBF0F8\"}, \"line\": {\"color\": \"white\"}}, \"header\": {\"fill\": {\"color\": \"#C8D4E3\"}, \"line\": {\"color\": \"white\"}}, \"type\": \"table\"}]}, \"layout\": {\"annotationdefaults\": {\"arrowcolor\": \"#2a3f5f\", \"arrowhead\": 0, \"arrowwidth\": 1}, \"coloraxis\": {\"colorbar\": {\"outlinewidth\": 0, \"ticks\": \"\"}}, \"colorscale\": {\"diverging\": [[0, \"#8e0152\"], [0.1, \"#c51b7d\"], [0.2, \"#de77ae\"], [0.3, \"#f1b6da\"], [0.4, \"#fde0ef\"], [0.5, \"#f7f7f7\"], [0.6, \"#e6f5d0\"], [0.7, \"#b8e186\"], [0.8, \"#7fbc41\"], [0.9, \"#4d9221\"], [1, \"#276419\"]], \"sequential\": [[0.0, \"#0d0887\"], [0.1111111111111111, \"#46039f\"], [0.2222222222222222, \"#7201a8\"], [0.3333333333333333, \"#9c179e\"], [0.4444444444444444, \"#bd3786\"], [0.5555555555555556, \"#d8576b\"], [0.6666666666666666, \"#ed7953\"], [0.7777777777777778, \"#fb9f3a\"], [0.8888888888888888, \"#fdca26\"], [1.0, \"#f0f921\"]], \"sequentialminus\": [[0.0, \"#0d0887\"], [0.1111111111111111, \"#46039f\"], [0.2222222222222222, \"#7201a8\"], [0.3333333333333333, \"#9c179e\"], [0.4444444444444444, \"#bd3786\"], [0.5555555555555556, \"#d8576b\"], [0.6666666666666666, \"#ed7953\"], [0.7777777777777778, \"#fb9f3a\"], [0.8888888888888888, \"#fdca26\"], [1.0, \"#f0f921\"]]}, \"colorway\": [\"#636efa\", \"#EF553B\", \"#00cc96\", \"#ab63fa\", \"#FFA15A\", \"#19d3f3\", \"#FF6692\", \"#B6E880\", \"#FF97FF\", \"#FECB52\"], \"font\": {\"color\": \"#2a3f5f\"}, \"geo\": {\"bgcolor\": \"white\", \"lakecolor\": \"white\", \"landcolor\": \"#E5ECF6\", \"showlakes\": true, \"showland\": true, \"subunitcolor\": \"white\"}, \"hoverlabel\": {\"align\": \"left\"}, \"hovermode\": \"closest\", \"mapbox\": {\"style\": \"light\"}, \"paper_bgcolor\": \"white\", \"plot_bgcolor\": \"#E5ECF6\", \"polar\": {\"angularaxis\": {\"gridcolor\": \"white\", \"linecolor\": \"white\", \"ticks\": \"\"}, \"bgcolor\": \"#E5ECF6\", \"radialaxis\": {\"gridcolor\": \"white\", \"linecolor\": \"white\", \"ticks\": \"\"}}, \"scene\": {\"xaxis\": {\"backgroundcolor\": \"#E5ECF6\", \"gridcolor\": \"white\", \"gridwidth\": 2, \"linecolor\": \"white\", \"showbackground\": true, \"ticks\": \"\", \"zerolinecolor\": \"white\"}, \"yaxis\": {\"backgroundcolor\": \"#E5ECF6\", \"gridcolor\": \"white\", \"gridwidth\": 2, \"linecolor\": \"white\", \"showbackground\": true, \"ticks\": \"\", \"zerolinecolor\": \"white\"}, \"zaxis\": {\"backgroundcolor\": \"#E5ECF6\", \"gridcolor\": \"white\", \"gridwidth\": 2, \"linecolor\": \"white\", \"showbackground\": true, \"ticks\": \"\", \"zerolinecolor\": \"white\"}}, \"shapedefaults\": {\"line\": {\"color\": \"#2a3f5f\"}}, \"ternary\": {\"aaxis\": {\"gridcolor\": \"white\", \"linecolor\": \"white\", \"ticks\": \"\"}, \"baxis\": {\"gridcolor\": \"white\", \"linecolor\": \"white\", \"ticks\": \"\"}, \"bgcolor\": \"#E5ECF6\", \"caxis\": {\"gridcolor\": \"white\", \"linecolor\": \"white\", \"ticks\": \"\"}}, \"title\": {\"x\": 0.05}, \"xaxis\": {\"automargin\": true, \"gridcolor\": \"white\", \"linecolor\": \"white\", \"ticks\": \"\", \"title\": {\"standoff\": 15}, \"zerolinecolor\": \"white\", \"zerolinewidth\": 2}, \"yaxis\": {\"automargin\": true, \"gridcolor\": \"white\", \"linecolor\": \"white\", \"ticks\": \"\", \"title\": {\"standoff\": 15}, \"zerolinecolor\": \"white\", \"zerolinewidth\": 2}}}, \"xaxis\": {\"title\": {\"text\": \"Tax Year\"}}, \"yaxis\": {\"title\": {\"text\": \"Average Percent Change in Total Assessment Value\"}}},\n",
       "                        {\"responsive\": true}\n",
       "                    ).then(function(){\n",
       "                            \n",
       "var gd = document.getElementById('bcd05ff4-b533-4eab-b253-fb6c0f0460db');\n",
       "var x = new MutationObserver(function (mutations, observer) {{\n",
       "        var display = window.getComputedStyle(gd).display;\n",
       "        if (!display || display === 'none') {{\n",
       "            console.log([gd, 'removed!']);\n",
       "            Plotly.purge(gd);\n",
       "            observer.disconnect();\n",
       "        }}\n",
       "}});\n",
       "\n",
       "// Listen for the removal of the full notebook cells\n",
       "var notebookContainer = gd.closest('#notebook-container');\n",
       "if (notebookContainer) {{\n",
       "    x.observe(notebookContainer, {childList: true});\n",
       "}}\n",
       "\n",
       "// Listen for the clearing of the current output cell\n",
       "var outputEl = gd.closest('.output');\n",
       "if (outputEl) {{\n",
       "    x.observe(outputEl, {childList: true});\n",
       "}}\n",
       "\n",
       "                        })\n",
       "                };\n",
       "                });\n",
       "            </script>\n",
       "        </div>"
      ]
     },
     "metadata": {},
     "output_type": "display_data"
    }
   ],
   "source": [
    "fig = go.Figure()\n",
    "\n",
    "for column in unstacked.columns[1:]:\n",
    "    fig.add_trace(go.Scatter(x=unstacked['TaxYear'],\n",
    "                             y=unstacked[column],\n",
    "                             mode='lines',\n",
    "                             name=column))\n",
    "fig.update_xaxes(title_text='Tax Year')\n",
    "fig.update_yaxes(title_text='Average Percent Change in Total Assessment Value')\n",
    "\n",
    "fig.show()\n",
    "fig.write_html(\"html/allneighs.html\")"
   ]
  },
  {
   "cell_type": "code",
   "execution_count": null,
   "metadata": {},
   "outputs": [],
   "source": []
  }
 ],
 "metadata": {
  "kernelspec": {
   "display_name": "Python 3",
   "language": "python",
   "name": "python3"
  },
  "language_info": {
   "codemirror_mode": {
    "name": "ipython",
    "version": 3
   },
   "file_extension": ".py",
   "mimetype": "text/x-python",
   "name": "python",
   "nbconvert_exporter": "python",
   "pygments_lexer": "ipython3",
   "version": "3.7.6"
  }
 },
 "nbformat": 4,
 "nbformat_minor": 4
}
